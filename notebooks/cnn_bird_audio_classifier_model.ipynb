{
 "cells": [
  {
   "cell_type": "markdown",
   "metadata": {},
   "source": [
    "### Import dependencies"
   ]
  },
  {
   "cell_type": "code",
   "execution_count": 1,
   "metadata": {},
   "outputs": [],
   "source": [
    "import os\n",
    "import json\n",
    "\n",
    "import numpy as np\n",
    "import pandas as pd\n",
    "from matplotlib import pyplot as plt\n",
    "\n",
    "import librosa as li\n",
    "import soundfile as sf\n",
    "from scipy import signal\n",
    "\n",
    "import tensorflow as tf\n",
    "from tensorflow import keras\n",
    "from sklearn.model_selection import train_test_split"
   ]
  },
  {
   "cell_type": "markdown",
   "metadata": {},
   "source": [
    "## Build and train Keras models"
   ]
  },
  {
   "cell_type": "markdown",
   "metadata": {},
   "source": [
    "### A. CNN model using MFCCs as input"
   ]
  },
  {
   "cell_type": "markdown",
   "metadata": {},
   "source": [
    "#### A. Read JSON data and generate train/test/validation splits using MFCC data"
   ]
  },
  {
   "cell_type": "code",
   "execution_count": 40,
   "metadata": {},
   "outputs": [],
   "source": [
    "def generate_splits_mfcc(data_path, val_split=0.3, test_split=0.2):\n",
    "    # Read JSON and extract X and Y values\n",
    "    with open(data_path, 'r') as jf:\n",
    "        data = json.load(jf)\n",
    "    x = np.array(data['mfccs'])\n",
    "    y = np.array(data['encoded_labels'])\n",
    "    label_map = data['label_map']\n",
    "\n",
    "    # Generate splits\n",
    "    x_train, x_val, y_train, y_val = train_test_split(x, y, test_size=val_split)\n",
    "    x_val, x_test, y_val, y_test = train_test_split(x_val, y_val, test_size=test_split)\n",
    "\n",
    "    # Add third dimension to MFCC arrays\n",
    "    x_train = x_train[..., np.newaxis]\n",
    "    x_test = x_test[..., np.newaxis]\n",
    "    x_val = x_val[..., np.newaxis]\n",
    "\n",
    "    return x_train, x_test, x_val, y_train, y_test, y_val, label_map"
   ]
  },
  {
   "cell_type": "code",
   "execution_count": 42,
   "metadata": {},
   "outputs": [
    {
     "name": "stdout",
     "output_type": "stream",
     "text": [
      "• Train dataset: 5077 files \n",
      "• Validation dataset: 1741 files \n",
      "• Test dataset: 436 files\n"
     ]
    }
   ],
   "source": [
    "json_path = '..\\\\datasets\\\\xeno-canto_argentina\\\\preprocessed_data.json'\n",
    "\n",
    "x_train, x_test, x_val, y_train, y_test, y_val, label_map = generate_splits_mfcc(json_path)\n",
    "\n",
    "print(\n",
    "    f'• Train dataset: {x_train.shape[0]} files \\n• Validation dataset: {x_val.shape[0]} files \\n• Test dataset: {x_test.shape[0]} files'\n",
    ")"
   ]
  },
  {
   "cell_type": "markdown",
   "metadata": {},
   "source": [
    "#### Define and compile the model"
   ]
  },
  {
   "cell_type": "code",
   "execution_count": 55,
   "metadata": {},
   "outputs": [],
   "source": [
    "BATCH_SIZE = 32\n",
    "EPOCHS = 100"
   ]
  },
  {
   "cell_type": "code",
   "execution_count": 56,
   "metadata": {},
   "outputs": [
    {
     "name": "stdout",
     "output_type": "stream",
     "text": [
      "Model: \"sequential_19\"\n",
      "_________________________________________________________________\n",
      " Layer (type)                Output Shape              Param #   \n",
      "=================================================================\n",
      " conv2d_40 (Conv2D)          (None, 30, 24, 64)        640       \n",
      "                                                                 \n",
      " batch_normalization_15 (Bat  (None, 30, 24, 64)       256       \n",
      " chNormalization)                                                \n",
      "                                                                 \n",
      " max_pooling2d_39 (MaxPoolin  (None, 15, 12, 64)       0         \n",
      " g2D)                                                            \n",
      "                                                                 \n",
      " conv2d_41 (Conv2D)          (None, 13, 10, 32)        18464     \n",
      "                                                                 \n",
      " batch_normalization_16 (Bat  (None, 13, 10, 32)       128       \n",
      " chNormalization)                                                \n",
      "                                                                 \n",
      " max_pooling2d_40 (MaxPoolin  (None, 7, 5, 32)         0         \n",
      " g2D)                                                            \n",
      "                                                                 \n",
      " batch_normalization_17 (Bat  (None, 7, 5, 32)         128       \n",
      " chNormalization)                                                \n",
      "                                                                 \n",
      " max_pooling2d_41 (MaxPoolin  (None, 4, 3, 32)         0         \n",
      " g2D)                                                            \n",
      "                                                                 \n",
      " flatten_20 (Flatten)        (None, 384)               0         \n",
      "                                                                 \n",
      " dense_39 (Dense)            (None, 256)               98560     \n",
      "                                                                 \n",
      " dropout_46 (Dropout)        (None, 256)               0         \n",
      "                                                                 \n",
      " dense_40 (Dense)            (None, 60)                15420     \n",
      "                                                                 \n",
      "=================================================================\n",
      "Total params: 133,596\n",
      "Trainable params: 133,340\n",
      "Non-trainable params: 256\n",
      "_________________________________________________________________\n"
     ]
    }
   ],
   "source": [
    "input_shape = (x_train.shape[1], x_train.shape[2], x_train.shape[3])\n",
    "class_count = len(label_map)\n",
    "\n",
    "#TODO: add and test data augmentation layers\n",
    "\n",
    "model = keras.models.Sequential(\n",
    "    [\n",
    "        keras.layers.InputLayer(input_shape=input_shape),\n",
    "        # Convolution layer 1\n",
    "        keras.layers.Conv2D(\n",
    "            filters=64,\n",
    "            kernel_size=(3, 3),\n",
    "            activation='relu',\n",
    "            kernel_regularizer=keras.regularizers.l2(0.001),\n",
    "        ),\n",
    "        keras.layers.BatchNormalization(),\n",
    "        keras.layers.MaxPool2D(pool_size=(3, 3), strides=(2, 2), padding='same'),\n",
    "        # Convolution layer 2\n",
    "        keras.layers.Conv2D(\n",
    "            filters=32,\n",
    "            kernel_size=(3, 3),\n",
    "            activation='relu',\n",
    "            kernel_regularizer=keras.regularizers.l2(0.001),\n",
    "        ),\n",
    "        keras.layers.BatchNormalization(),\n",
    "        keras.layers.MaxPool2D(pool_size=(3, 3), strides=(2, 2), padding='same'),\n",
    "        # Convolution layer 3\n",
    "        # keras.layers.Conv2D(\n",
    "        #     filters=32,\n",
    "        #     kernel_size=(2, 2),\n",
    "        #     activation='relu',\n",
    "        #     kernel_regularizer=keras.regularizers.l2(0.001),\n",
    "        # ),\n",
    "        keras.layers.BatchNormalization(),\n",
    "        keras.layers.MaxPool2D(pool_size=(2, 2), strides=(2, 2), padding='same'),\n",
    "        # Dense layer\n",
    "        keras.layers.Flatten(),\n",
    "        keras.layers.Dense(units=256, activation='relu'),\n",
    "        keras.layers.Dropout(0.4),\n",
    "        # Classification layer\n",
    "        keras.layers.Dense(units=class_count, activation='softmax'),\n",
    "    ]\n",
    ")\n",
    "\n",
    "model.summary()\n",
    "model.compile(optimizer='Adam', loss='sparse_categorical_crossentropy', metrics=['accuracy'])"
   ]
  },
  {
   "cell_type": "markdown",
   "metadata": {},
   "source": [
    "#### Train the model"
   ]
  },
  {
   "cell_type": "code",
   "execution_count": 57,
   "metadata": {},
   "outputs": [
    {
     "name": "stdout",
     "output_type": "stream",
     "text": [
      "Epoch 1/100\n",
      "159/159 [==============================] - 4s 22ms/step - loss: 3.4304 - accuracy: 0.1956 - val_loss: 2.4669 - val_accuracy: 0.4227\n",
      "Epoch 2/100\n",
      "159/159 [==============================] - 3s 22ms/step - loss: 2.2295 - accuracy: 0.4302 - val_loss: 1.8183 - val_accuracy: 0.5273\n",
      "Epoch 3/100\n",
      "159/159 [==============================] - 4s 24ms/step - loss: 1.7000 - accuracy: 0.5588 - val_loss: 1.4096 - val_accuracy: 0.6209\n",
      "Epoch 4/100\n",
      "159/159 [==============================] - 4s 23ms/step - loss: 1.3980 - accuracy: 0.6287 - val_loss: 1.2615 - val_accuracy: 0.6594\n",
      "Epoch 5/100\n",
      "159/159 [==============================] - 4s 22ms/step - loss: 1.1662 - accuracy: 0.6860 - val_loss: 1.1668 - val_accuracy: 0.6875\n",
      "Epoch 6/100\n",
      "159/159 [==============================] - 3s 21ms/step - loss: 1.0092 - accuracy: 0.7321 - val_loss: 1.0732 - val_accuracy: 0.7157\n",
      "Epoch 7/100\n",
      "159/159 [==============================] - 3s 19ms/step - loss: 0.9144 - accuracy: 0.7530 - val_loss: 0.9041 - val_accuracy: 0.7679\n",
      "Epoch 8/100\n",
      "159/159 [==============================] - 3s 20ms/step - loss: 0.7738 - accuracy: 0.7965 - val_loss: 0.8591 - val_accuracy: 0.7777\n",
      "Epoch 9/100\n",
      "159/159 [==============================] - 3s 19ms/step - loss: 0.7180 - accuracy: 0.8076 - val_loss: 0.9912 - val_accuracy: 0.7438\n",
      "Epoch 10/100\n",
      "159/159 [==============================] - 3s 22ms/step - loss: 0.6608 - accuracy: 0.8223 - val_loss: 0.8532 - val_accuracy: 0.7777\n",
      "Epoch 11/100\n",
      "159/159 [==============================] - 3s 21ms/step - loss: 0.6050 - accuracy: 0.8306 - val_loss: 0.8470 - val_accuracy: 0.7835\n",
      "Epoch 12/100\n",
      "159/159 [==============================] - 3s 21ms/step - loss: 0.5600 - accuracy: 0.8493 - val_loss: 0.8054 - val_accuracy: 0.8013\n",
      "Epoch 13/100\n",
      "159/159 [==============================] - 3s 20ms/step - loss: 0.5274 - accuracy: 0.8629 - val_loss: 0.9862 - val_accuracy: 0.7404\n",
      "Epoch 14/100\n",
      "159/159 [==============================] - 3s 20ms/step - loss: 0.5153 - accuracy: 0.8627 - val_loss: 0.7539 - val_accuracy: 0.8133\n",
      "Epoch 15/100\n",
      "159/159 [==============================] - 3s 21ms/step - loss: 0.4710 - accuracy: 0.8739 - val_loss: 0.7909 - val_accuracy: 0.8007\n",
      "Epoch 16/100\n",
      "159/159 [==============================] - 3s 20ms/step - loss: 0.4242 - accuracy: 0.8917 - val_loss: 0.7584 - val_accuracy: 0.8099\n",
      "Epoch 17/100\n",
      "159/159 [==============================] - 3s 20ms/step - loss: 0.4077 - accuracy: 0.8964 - val_loss: 0.7791 - val_accuracy: 0.8116\n",
      "Epoch 18/100\n",
      "159/159 [==============================] - 3s 21ms/step - loss: 0.3863 - accuracy: 0.9019 - val_loss: 0.7959 - val_accuracy: 0.8041\n",
      "Epoch 19/100\n",
      "159/159 [==============================] - 3s 21ms/step - loss: 0.3854 - accuracy: 0.8993 - val_loss: 0.7560 - val_accuracy: 0.8225\n",
      "Epoch 20/100\n",
      "159/159 [==============================] - 3s 20ms/step - loss: 0.3655 - accuracy: 0.9039 - val_loss: 0.7904 - val_accuracy: 0.8133\n",
      "Epoch 21/100\n",
      "159/159 [==============================] - 3s 19ms/step - loss: 0.3297 - accuracy: 0.9165 - val_loss: 0.7891 - val_accuracy: 0.8139\n",
      "Epoch 22/100\n",
      "159/159 [==============================] - 3s 19ms/step - loss: 0.3367 - accuracy: 0.9149 - val_loss: 0.8387 - val_accuracy: 0.8036\n",
      "Epoch 23/100\n",
      "159/159 [==============================] - 3s 19ms/step - loss: 0.3236 - accuracy: 0.9141 - val_loss: 0.7420 - val_accuracy: 0.8242\n",
      "Epoch 24/100\n",
      "159/159 [==============================] - 3s 19ms/step - loss: 0.3068 - accuracy: 0.9232 - val_loss: 0.7704 - val_accuracy: 0.8208\n",
      "Epoch 25/100\n",
      "159/159 [==============================] - 3s 19ms/step - loss: 0.3083 - accuracy: 0.9210 - val_loss: 0.7935 - val_accuracy: 0.8173\n",
      "Epoch 26/100\n",
      "159/159 [==============================] - 3s 19ms/step - loss: 0.3099 - accuracy: 0.9267 - val_loss: 0.8707 - val_accuracy: 0.8007\n",
      "Epoch 27/100\n",
      "159/159 [==============================] - 3s 19ms/step - loss: 0.2919 - accuracy: 0.9303 - val_loss: 0.7679 - val_accuracy: 0.8277\n",
      "Epoch 28/100\n",
      "159/159 [==============================] - 3s 19ms/step - loss: 0.3061 - accuracy: 0.9220 - val_loss: 0.7909 - val_accuracy: 0.8237\n",
      "Epoch 29/100\n",
      "159/159 [==============================] - 3s 19ms/step - loss: 0.2789 - accuracy: 0.9358 - val_loss: 0.8535 - val_accuracy: 0.8087\n",
      "Epoch 30/100\n",
      "159/159 [==============================] - 3s 20ms/step - loss: 0.2841 - accuracy: 0.9289 - val_loss: 0.8846 - val_accuracy: 0.8041\n",
      "Epoch 31/100\n",
      "159/159 [==============================] - 3s 19ms/step - loss: 0.2919 - accuracy: 0.9320 - val_loss: 0.9146 - val_accuracy: 0.7949\n",
      "Epoch 32/100\n",
      "159/159 [==============================] - 3s 19ms/step - loss: 0.2773 - accuracy: 0.9346 - val_loss: 0.7971 - val_accuracy: 0.8277\n",
      "Epoch 33/100\n",
      "159/159 [==============================] - 3s 19ms/step - loss: 0.2595 - accuracy: 0.9425 - val_loss: 0.8417 - val_accuracy: 0.8219\n",
      "Epoch 34/100\n",
      "159/159 [==============================] - 3s 19ms/step - loss: 0.2488 - accuracy: 0.9454 - val_loss: 0.7973 - val_accuracy: 0.8306\n",
      "Epoch 35/100\n",
      "159/159 [==============================] - 3s 19ms/step - loss: 0.2542 - accuracy: 0.9401 - val_loss: 0.8409 - val_accuracy: 0.8225\n",
      "Epoch 36/100\n",
      "159/159 [==============================] - 3s 19ms/step - loss: 0.2647 - accuracy: 0.9405 - val_loss: 0.8469 - val_accuracy: 0.8231\n",
      "Epoch 37/100\n",
      "159/159 [==============================] - 3s 19ms/step - loss: 0.2492 - accuracy: 0.9433 - val_loss: 0.8504 - val_accuracy: 0.8254\n",
      "Epoch 38/100\n",
      "159/159 [==============================] - 3s 19ms/step - loss: 0.2575 - accuracy: 0.9378 - val_loss: 0.9599 - val_accuracy: 0.8093\n",
      "Epoch 39/100\n",
      "159/159 [==============================] - 3s 19ms/step - loss: 0.2386 - accuracy: 0.9443 - val_loss: 0.8428 - val_accuracy: 0.8242\n",
      "Epoch 40/100\n",
      "159/159 [==============================] - 3s 19ms/step - loss: 0.2345 - accuracy: 0.9474 - val_loss: 0.9176 - val_accuracy: 0.8145\n",
      "Epoch 41/100\n",
      "159/159 [==============================] - 3s 19ms/step - loss: 0.2381 - accuracy: 0.9415 - val_loss: 0.8960 - val_accuracy: 0.8237\n",
      "Epoch 42/100\n",
      "159/159 [==============================] - 3s 19ms/step - loss: 0.2342 - accuracy: 0.9448 - val_loss: 0.8849 - val_accuracy: 0.8202\n",
      "Epoch 43/100\n",
      "159/159 [==============================] - 3s 19ms/step - loss: 0.2234 - accuracy: 0.9490 - val_loss: 0.9264 - val_accuracy: 0.8087\n",
      "Epoch 44/100\n",
      "159/159 [==============================] - 3s 19ms/step - loss: 0.2411 - accuracy: 0.9462 - val_loss: 0.9101 - val_accuracy: 0.8231\n",
      "Epoch 45/100\n",
      "159/159 [==============================] - 3s 20ms/step - loss: 0.2118 - accuracy: 0.9586 - val_loss: 0.8336 - val_accuracy: 0.8311\n",
      "Epoch 46/100\n",
      "159/159 [==============================] - 4s 22ms/step - loss: 0.2265 - accuracy: 0.9506 - val_loss: 0.8918 - val_accuracy: 0.8173\n",
      "Epoch 47/100\n",
      "159/159 [==============================] - 3s 21ms/step - loss: 0.2301 - accuracy: 0.9478 - val_loss: 1.0194 - val_accuracy: 0.8064\n",
      "Epoch 48/100\n",
      "159/159 [==============================] - 3s 21ms/step - loss: 0.2209 - accuracy: 0.9521 - val_loss: 0.8474 - val_accuracy: 0.8300\n",
      "Epoch 49/100\n",
      "159/159 [==============================] - 3s 21ms/step - loss: 0.2343 - accuracy: 0.9478 - val_loss: 0.9615 - val_accuracy: 0.8099\n",
      "Epoch 50/100\n",
      "159/159 [==============================] - 3s 21ms/step - loss: 0.1960 - accuracy: 0.9596 - val_loss: 0.9333 - val_accuracy: 0.8110\n",
      "Epoch 51/100\n",
      "159/159 [==============================] - 3s 21ms/step - loss: 0.2067 - accuracy: 0.9545 - val_loss: 0.9604 - val_accuracy: 0.8064\n",
      "Epoch 52/100\n",
      "159/159 [==============================] - 3s 21ms/step - loss: 0.2027 - accuracy: 0.9584 - val_loss: 0.9196 - val_accuracy: 0.8208\n",
      "Epoch 53/100\n",
      "159/159 [==============================] - 3s 21ms/step - loss: 0.2124 - accuracy: 0.9569 - val_loss: 1.0175 - val_accuracy: 0.8099\n",
      "Epoch 54/100\n",
      "159/159 [==============================] - 3s 21ms/step - loss: 0.2225 - accuracy: 0.9512 - val_loss: 1.0406 - val_accuracy: 0.7967\n",
      "Epoch 55/100\n",
      "159/159 [==============================] - 3s 21ms/step - loss: 0.2079 - accuracy: 0.9535 - val_loss: 0.8888 - val_accuracy: 0.8271\n",
      "Epoch 56/100\n",
      "159/159 [==============================] - 3s 22ms/step - loss: 0.2087 - accuracy: 0.9580 - val_loss: 1.0287 - val_accuracy: 0.8024\n",
      "Epoch 57/100\n",
      "159/159 [==============================] - 3s 22ms/step - loss: 0.2042 - accuracy: 0.9549 - val_loss: 0.9628 - val_accuracy: 0.8231\n",
      "Epoch 58/100\n",
      "159/159 [==============================] - 3s 22ms/step - loss: 0.2284 - accuracy: 0.9498 - val_loss: 1.1055 - val_accuracy: 0.7961\n",
      "Epoch 59/100\n",
      "159/159 [==============================] - 4s 22ms/step - loss: 0.2497 - accuracy: 0.9454 - val_loss: 0.9376 - val_accuracy: 0.8277\n",
      "Epoch 60/100\n",
      "159/159 [==============================] - 3s 22ms/step - loss: 0.1904 - accuracy: 0.9594 - val_loss: 1.0754 - val_accuracy: 0.8162\n",
      "Epoch 61/100\n",
      "159/159 [==============================] - 4s 22ms/step - loss: 0.1811 - accuracy: 0.9643 - val_loss: 0.9767 - val_accuracy: 0.8173\n",
      "Epoch 62/100\n",
      "159/159 [==============================] - 3s 22ms/step - loss: 0.1863 - accuracy: 0.9645 - val_loss: 1.0175 - val_accuracy: 0.8122\n",
      "Epoch 63/100\n",
      "159/159 [==============================] - 3s 22ms/step - loss: 0.1834 - accuracy: 0.9661 - val_loss: 1.1640 - val_accuracy: 0.7915\n",
      "Epoch 64/100\n",
      "159/159 [==============================] - 3s 22ms/step - loss: 0.2074 - accuracy: 0.9567 - val_loss: 0.9235 - val_accuracy: 0.8208\n",
      "Epoch 65/100\n",
      "159/159 [==============================] - 3s 22ms/step - loss: 0.2033 - accuracy: 0.9573 - val_loss: 1.1520 - val_accuracy: 0.7949\n",
      "Epoch 66/100\n",
      "159/159 [==============================] - 4s 23ms/step - loss: 0.2227 - accuracy: 0.9523 - val_loss: 1.1357 - val_accuracy: 0.8105\n",
      "Epoch 67/100\n",
      "159/159 [==============================] - 3s 21ms/step - loss: 0.2088 - accuracy: 0.9551 - val_loss: 1.1790 - val_accuracy: 0.7967\n",
      "Epoch 68/100\n",
      "159/159 [==============================] - 4s 23ms/step - loss: 0.2182 - accuracy: 0.9504 - val_loss: 0.9483 - val_accuracy: 0.8231\n",
      "Epoch 69/100\n",
      "159/159 [==============================] - 4s 24ms/step - loss: 0.2066 - accuracy: 0.9549 - val_loss: 1.0430 - val_accuracy: 0.8254\n",
      "Epoch 70/100\n",
      "159/159 [==============================] - 4s 23ms/step - loss: 0.1819 - accuracy: 0.9630 - val_loss: 0.9623 - val_accuracy: 0.8271\n",
      "Epoch 71/100\n",
      "159/159 [==============================] - 4s 22ms/step - loss: 0.1904 - accuracy: 0.9616 - val_loss: 1.0804 - val_accuracy: 0.8162\n",
      "Epoch 72/100\n",
      "159/159 [==============================] - 4s 23ms/step - loss: 0.1995 - accuracy: 0.9577 - val_loss: 1.1104 - val_accuracy: 0.8064\n",
      "Epoch 73/100\n",
      "159/159 [==============================] - 3s 22ms/step - loss: 0.2015 - accuracy: 0.9604 - val_loss: 1.2801 - val_accuracy: 0.7748\n",
      "Epoch 74/100\n",
      "159/159 [==============================] - 3s 22ms/step - loss: 0.1846 - accuracy: 0.9640 - val_loss: 1.0495 - val_accuracy: 0.8168\n",
      "Epoch 75/100\n",
      "159/159 [==============================] - 3s 22ms/step - loss: 0.1779 - accuracy: 0.9673 - val_loss: 0.9774 - val_accuracy: 0.8265\n",
      "Epoch 76/100\n",
      "159/159 [==============================] - 4s 22ms/step - loss: 0.1616 - accuracy: 0.9695 - val_loss: 1.0329 - val_accuracy: 0.8225\n",
      "Epoch 77/100\n",
      "159/159 [==============================] - 4s 22ms/step - loss: 0.1829 - accuracy: 0.9628 - val_loss: 1.0519 - val_accuracy: 0.8214\n",
      "Epoch 78/100\n",
      "159/159 [==============================] - 3s 22ms/step - loss: 0.1992 - accuracy: 0.9602 - val_loss: 0.9690 - val_accuracy: 0.8277\n",
      "Epoch 79/100\n",
      "159/159 [==============================] - 3s 21ms/step - loss: 0.1872 - accuracy: 0.9634 - val_loss: 1.0780 - val_accuracy: 0.8162\n",
      "Epoch 80/100\n",
      "159/159 [==============================] - 3s 21ms/step - loss: 0.1907 - accuracy: 0.9622 - val_loss: 1.0423 - val_accuracy: 0.8133\n",
      "Epoch 81/100\n",
      "159/159 [==============================] - 4s 23ms/step - loss: 0.2057 - accuracy: 0.9584 - val_loss: 1.0364 - val_accuracy: 0.8168\n",
      "Epoch 82/100\n",
      "159/159 [==============================] - 4s 23ms/step - loss: 0.1940 - accuracy: 0.9616 - val_loss: 1.0583 - val_accuracy: 0.8087\n",
      "Epoch 83/100\n",
      "159/159 [==============================] - 4s 23ms/step - loss: 0.1799 - accuracy: 0.9663 - val_loss: 1.0731 - val_accuracy: 0.8214\n",
      "Epoch 84/100\n",
      "159/159 [==============================] - 4s 24ms/step - loss: 0.1838 - accuracy: 0.9673 - val_loss: 0.9975 - val_accuracy: 0.8248\n",
      "Epoch 85/100\n",
      "159/159 [==============================] - 4s 24ms/step - loss: 0.1730 - accuracy: 0.9683 - val_loss: 1.0079 - val_accuracy: 0.8306\n",
      "Epoch 86/100\n",
      "159/159 [==============================] - 4s 23ms/step - loss: 0.1879 - accuracy: 0.9624 - val_loss: 1.1155 - val_accuracy: 0.8122\n",
      "Epoch 87/100\n",
      "159/159 [==============================] - 4s 24ms/step - loss: 0.1859 - accuracy: 0.9649 - val_loss: 1.0443 - val_accuracy: 0.8323\n",
      "Epoch 88/100\n",
      "159/159 [==============================] - 4s 23ms/step - loss: 0.1560 - accuracy: 0.9732 - val_loss: 1.1998 - val_accuracy: 0.8116\n",
      "Epoch 89/100\n",
      "159/159 [==============================] - 4s 23ms/step - loss: 0.1745 - accuracy: 0.9655 - val_loss: 1.0850 - val_accuracy: 0.8329\n",
      "Epoch 90/100\n",
      "159/159 [==============================] - 4s 24ms/step - loss: 0.2052 - accuracy: 0.9606 - val_loss: 1.2022 - val_accuracy: 0.7967\n",
      "Epoch 91/100\n",
      "159/159 [==============================] - 4s 24ms/step - loss: 0.1905 - accuracy: 0.9620 - val_loss: 0.9971 - val_accuracy: 0.8265\n",
      "Epoch 92/100\n",
      "159/159 [==============================] - 4s 23ms/step - loss: 0.1833 - accuracy: 0.9653 - val_loss: 1.1025 - val_accuracy: 0.8156\n",
      "Epoch 93/100\n",
      "159/159 [==============================] - 4s 23ms/step - loss: 0.1790 - accuracy: 0.9659 - val_loss: 0.9785 - val_accuracy: 0.8369\n",
      "Epoch 94/100\n",
      "159/159 [==============================] - 4s 24ms/step - loss: 0.1806 - accuracy: 0.9640 - val_loss: 1.2412 - val_accuracy: 0.7800\n",
      "Epoch 95/100\n",
      "159/159 [==============================] - 4s 23ms/step - loss: 0.1862 - accuracy: 0.9653 - val_loss: 1.2223 - val_accuracy: 0.7961\n",
      "Epoch 96/100\n",
      "159/159 [==============================] - 4s 23ms/step - loss: 0.1844 - accuracy: 0.9661 - val_loss: 1.0913 - val_accuracy: 0.8242\n",
      "Epoch 97/100\n",
      "159/159 [==============================] - 4s 23ms/step - loss: 0.1734 - accuracy: 0.9708 - val_loss: 1.1158 - val_accuracy: 0.8047\n",
      "Epoch 98/100\n",
      "159/159 [==============================] - 4s 24ms/step - loss: 0.1579 - accuracy: 0.9722 - val_loss: 1.0909 - val_accuracy: 0.8277\n",
      "Epoch 99/100\n",
      "159/159 [==============================] - 4s 23ms/step - loss: 0.1906 - accuracy: 0.9632 - val_loss: 1.1718 - val_accuracy: 0.8076\n",
      "Epoch 100/100\n",
      "159/159 [==============================] - 4s 23ms/step - loss: 0.2131 - accuracy: 0.9573 - val_loss: 1.0179 - val_accuracy: 0.8219\n"
     ]
    }
   ],
   "source": [
    "history = model.fit(x_train, y_train, epochs=EPOCHS, batch_size=BATCH_SIZE, validation_data=(x_val, y_val))"
   ]
  },
  {
   "cell_type": "markdown",
   "metadata": {},
   "source": [
    "#### Plot model accuracy and loss graphs"
   ]
  },
  {
   "cell_type": "code",
   "execution_count": 58,
   "metadata": {},
   "outputs": [
    {
     "data": {
      "image/png": "[encoded data removed]",
      "text/plain": [
       "<Figure size 1200x400 with 2 Axes>"
      ]
     },
     "metadata": {},
     "output_type": "display_data"
    }
   ],
   "source": [
    "acc = history.history[\"accuracy\"]\n",
    "val_acc = history.history[\"val_accuracy\"]\n",
    "\n",
    "loss = history.history[\"loss\"]\n",
    "val_loss = history.history[\"val_loss\"]\n",
    "\n",
    "epochs_range = range(EPOCHS)\n",
    "\n",
    "plt.figure(figsize=(12, 4))\n",
    "plt.subplot(1, 2, 1)\n",
    "plt.plot(epochs_range, acc, label=\"Training Accuracy\")\n",
    "plt.plot(epochs_range, val_acc, label=\"Validation Accuracy\")\n",
    "plt.grid()\n",
    "plt.legend(loc=\"lower right\")\n",
    "plt.title(\"Training and Validation Accuracy\")\n",
    "\n",
    "plt.subplot(1, 2, 2)\n",
    "plt.plot(epochs_range, loss, label=\"Training Loss\")\n",
    "plt.plot(epochs_range, val_loss, label=\"Validation Loss\")\n",
    "plt.grid()\n",
    "plt.legend(loc=\"upper right\")\n",
    "plt.title(\"Training and Validation Loss\")\n",
    "\n",
    "figure = plt.gcf()\n",
    "plt.show()"
   ]
  },
  {
   "cell_type": "markdown",
   "metadata": {},
   "source": [
    "### B. CNN model using Mel spectrograms as input"
   ]
  },
  {
   "cell_type": "markdown",
   "metadata": {},
   "source": [
    "#### Read JSON data and generate train/test/validation splits using spectrogram data from disk"
   ]
  },
  {
   "cell_type": "code",
   "execution_count": 4,
   "metadata": {},
   "outputs": [],
   "source": [
    "def generate_splits_spectrogram(data_path, val_split=0.2, test_split=0.1):\n",
    "    # Read JSON and get X and Y values\n",
    "    with open(data_path, 'r') as jf:\n",
    "        data = json.load(jf)\n",
    "    x_paths = data['spectrograms']\n",
    "    y = np.array(data['encoded_labels'])\n",
    "    label_map = data['label_map']\n",
    "\n",
    "    # Load spectrograms into numpy array\n",
    "    x = [np.load(path) for path in x_paths]\n",
    "    x = np.array(x)\n",
    "\n",
    "    # Generate splits\n",
    "    x_train, x_val, y_train, y_val = train_test_split(x, y, test_size=val_split)\n",
    "    x_val, x_test, y_val, y_test = train_test_split(x_val, y_val, test_size=test_split)\n",
    "\n",
    "    # Add third dimension to MFCC arrays\n",
    "    x_train = x_train[..., np.newaxis]\n",
    "    x_test = x_test[..., np.newaxis]\n",
    "    x_val = x_val[..., np.newaxis]\n",
    "\n",
    "    return x_train, x_test, x_val, y_train, y_test, y_val, label_map"
   ]
  },
  {
   "cell_type": "code",
   "execution_count": 5,
   "metadata": {},
   "outputs": [
    {
     "name": "stdout",
     "output_type": "stream",
     "text": [
      "• Train dataset: 2049 files \n",
      "• Validation dataset: 461 files \n",
      "• Test dataset: 52 files\n"
     ]
    }
   ],
   "source": [
    "json_path = '..\\\\datasets\\\\british-birdsong-dataset\\\\preprocessed_data.json'\n",
    "\n",
    "x_train, x_test, x_val, y_train, y_test, y_val, label_map = generate_splits_spectrogram(json_path)\n",
    "\n",
    "print(\n",
    "    f'• Train dataset: {x_train.shape[0]} files \\n• Validation dataset: {x_val.shape[0]} files \\n• Test dataset: {x_test.shape[0]} files'\n",
    ")"
   ]
  },
  {
   "cell_type": "markdown",
   "metadata": {},
   "source": [
    "#### Define and compile the model"
   ]
  },
  {
   "cell_type": "code",
   "execution_count": 6,
   "metadata": {},
   "outputs": [],
   "source": [
    "BATCH_SIZE = 32\n",
    "EPOCHS = 60"
   ]
  },
  {
   "cell_type": "code",
   "execution_count": 7,
   "metadata": {},
   "outputs": [
    {
     "name": "stdout",
     "output_type": "stream",
     "text": [
      "Model: \"sequential\"\n",
      "_________________________________________________________________\n",
      " Layer (type)                Output Shape              Param #   \n",
      "=================================================================\n",
      " conv2d (Conv2D)             (None, 92, 126, 64)       640       \n",
      "                                                                 \n",
      " batch_normalization (BatchN  (None, 92, 126, 64)      256       \n",
      " ormalization)                                                   \n",
      "                                                                 \n",
      " max_pooling2d (MaxPooling2D  (None, 46, 63, 64)       0         \n",
      " )                                                               \n",
      "                                                                 \n",
      " conv2d_1 (Conv2D)           (None, 44, 61, 32)        18464     \n",
      "                                                                 \n",
      " batch_normalization_1 (Batc  (None, 44, 61, 32)       128       \n",
      " hNormalization)                                                 \n",
      "                                                                 \n",
      " max_pooling2d_1 (MaxPooling  (None, 22, 31, 32)       0         \n",
      " 2D)                                                             \n",
      "                                                                 \n",
      " conv2d_2 (Conv2D)           (None, 21, 30, 32)        4128      \n",
      "                                                                 \n",
      " batch_normalization_2 (Batc  (None, 21, 30, 32)       128       \n",
      " hNormalization)                                                 \n",
      "                                                                 \n",
      " max_pooling2d_2 (MaxPooling  (None, 11, 15, 32)       0         \n",
      " 2D)                                                             \n",
      "                                                                 \n",
      " flatten (Flatten)           (None, 5280)              0         \n",
      "                                                                 \n",
      " dense (Dense)               (None, 128)               675968    \n",
      "                                                                 \n",
      " dropout (Dropout)           (None, 128)               0         \n",
      "                                                                 \n",
      " dense_1 (Dense)             (None, 88)                11352     \n",
      "                                                                 \n",
      "=================================================================\n",
      "Total params: 711,064\n",
      "Trainable params: 710,808\n",
      "Non-trainable params: 256\n",
      "_________________________________________________________________\n"
     ]
    }
   ],
   "source": [
    "input_shape = (x_train.shape[1], x_train.shape[2], x_train.shape[3])\n",
    "class_count = len(label_map)\n",
    "\n",
    "#TODO: add and test data augmentation layers\n",
    "\n",
    "model = keras.models.Sequential(\n",
    "    [\n",
    "        keras.layers.InputLayer(input_shape=input_shape),\n",
    "        # Convolution layer 1\n",
    "        keras.layers.Conv2D(\n",
    "            filters=64,\n",
    "            kernel_size=(3, 3),\n",
    "            activation='relu',\n",
    "            kernel_regularizer=keras.regularizers.l2(0.001),\n",
    "        ),\n",
    "        keras.layers.BatchNormalization(),\n",
    "        keras.layers.MaxPool2D(pool_size=(3, 3), strides=(2, 2), padding='same'),\n",
    "        # Convolution layer 2\n",
    "        keras.layers.Conv2D(\n",
    "            filters=32,\n",
    "            kernel_size=(3, 3),\n",
    "            activation='relu',\n",
    "            kernel_regularizer=keras.regularizers.l2(0.001),\n",
    "        ),\n",
    "        keras.layers.BatchNormalization(),\n",
    "        keras.layers.MaxPool2D(pool_size=(3, 3), strides=(2, 2), padding='same'),\n",
    "        # Convolution layer 3\n",
    "        keras.layers.Conv2D(\n",
    "            filters=32,\n",
    "            kernel_size=(2, 2),\n",
    "            activation='relu',\n",
    "            kernel_regularizer=keras.regularizers.l2(0.001),\n",
    "        ),\n",
    "        keras.layers.BatchNormalization(),\n",
    "        keras.layers.MaxPool2D(pool_size=(2, 2), strides=(2, 2), padding='same'),\n",
    "        # Dense layer\n",
    "        keras.layers.Flatten(),\n",
    "        keras.layers.Dense(units=128, activation='relu'),\n",
    "        keras.layers.Dropout(0.4),\n",
    "        # Classification layer\n",
    "        keras.layers.Dense(units=class_count, activation='softmax'),\n",
    "    ]\n",
    ")\n",
    "\n",
    "model.summary()\n",
    "model.compile(optimizer='Adam', loss='sparse_categorical_crossentropy', metrics=['accuracy'])"
   ]
  },
  {
   "cell_type": "markdown",
   "metadata": {},
   "source": [
    "#### Train the model"
   ]
  },
  {
   "cell_type": "code",
   "execution_count": 8,
   "metadata": {},
   "outputs": [
    {
     "name": "stdout",
     "output_type": "stream",
     "text": [
      "Epoch 1/60\n",
      "65/65 [==============================] - 17s 246ms/step - loss: 3.5716 - accuracy: 0.2704 - val_loss: 6.3148 - val_accuracy: 0.0889\n",
      "Epoch 2/60\n",
      "65/65 [==============================] - 16s 245ms/step - loss: 2.3723 - accuracy: 0.4695 - val_loss: 10.5310 - val_accuracy: 0.0889\n",
      "Epoch 3/60\n",
      "65/65 [==============================] - 17s 257ms/step - loss: 1.8890 - accuracy: 0.5666 - val_loss: 13.7471 - val_accuracy: 0.0195\n",
      "Epoch 4/60\n",
      "65/65 [==============================] - 16s 251ms/step - loss: 1.5203 - accuracy: 0.6423 - val_loss: 14.6289 - val_accuracy: 0.0347\n",
      "Epoch 5/60\n",
      "65/65 [==============================] - 16s 244ms/step - loss: 1.1634 - accuracy: 0.7125 - val_loss: 16.0371 - val_accuracy: 0.0195\n",
      "Epoch 6/60\n",
      "65/65 [==============================] - 16s 249ms/step - loss: 1.0624 - accuracy: 0.7326 - val_loss: 13.2302 - val_accuracy: 0.0998\n",
      "Epoch 7/60\n",
      "65/65 [==============================] - 16s 246ms/step - loss: 0.8922 - accuracy: 0.7887 - val_loss: 12.2181 - val_accuracy: 0.0738\n",
      "Epoch 8/60\n",
      "65/65 [==============================] - 16s 245ms/step - loss: 0.8151 - accuracy: 0.8038 - val_loss: 5.3726 - val_accuracy: 0.2798\n",
      "Epoch 9/60\n",
      "65/65 [==============================] - 16s 244ms/step - loss: 0.6848 - accuracy: 0.8272 - val_loss: 4.2719 - val_accuracy: 0.3709\n",
      "Epoch 10/60\n",
      "65/65 [==============================] - 16s 243ms/step - loss: 0.5207 - accuracy: 0.8780 - val_loss: 1.7472 - val_accuracy: 0.6725\n",
      "Epoch 11/60\n",
      "65/65 [==============================] - 16s 243ms/step - loss: 0.6347 - accuracy: 0.8555 - val_loss: 1.6642 - val_accuracy: 0.7072\n",
      "Epoch 12/60\n",
      "65/65 [==============================] - 16s 243ms/step - loss: 0.5697 - accuracy: 0.8653 - val_loss: 1.4178 - val_accuracy: 0.7332\n",
      "Epoch 13/60\n",
      "65/65 [==============================] - 16s 243ms/step - loss: 0.4652 - accuracy: 0.8843 - val_loss: 1.2472 - val_accuracy: 0.7852\n",
      "Epoch 14/60\n",
      "65/65 [==============================] - 16s 243ms/step - loss: 0.5004 - accuracy: 0.8853 - val_loss: 1.2890 - val_accuracy: 0.7809\n",
      "Epoch 15/60\n",
      "65/65 [==============================] - 16s 244ms/step - loss: 0.3846 - accuracy: 0.9136 - val_loss: 1.2683 - val_accuracy: 0.7722\n",
      "Epoch 16/60\n",
      "65/65 [==============================] - 16s 244ms/step - loss: 0.3575 - accuracy: 0.9175 - val_loss: 1.4021 - val_accuracy: 0.7570\n",
      "Epoch 17/60\n",
      "65/65 [==============================] - 16s 244ms/step - loss: 0.3205 - accuracy: 0.9268 - val_loss: 1.1632 - val_accuracy: 0.7809\n",
      "Epoch 18/60\n",
      "65/65 [==============================] - 16s 244ms/step - loss: 0.2945 - accuracy: 0.9346 - val_loss: 1.2632 - val_accuracy: 0.7679\n",
      "Epoch 19/60\n",
      "65/65 [==============================] - 16s 243ms/step - loss: 0.6227 - accuracy: 0.8526 - val_loss: 2.0534 - val_accuracy: 0.6139\n",
      "Epoch 20/60\n",
      "65/65 [==============================] - 16s 243ms/step - loss: 0.4134 - accuracy: 0.9112 - val_loss: 1.7643 - val_accuracy: 0.6833\n",
      "Epoch 21/60\n",
      "65/65 [==============================] - 16s 245ms/step - loss: 0.5052 - accuracy: 0.8760 - val_loss: 2.1000 - val_accuracy: 0.6616\n",
      "Epoch 22/60\n",
      "65/65 [==============================] - 18s 272ms/step - loss: 0.3369 - accuracy: 0.9287 - val_loss: 1.3928 - val_accuracy: 0.7527\n",
      "Epoch 23/60\n",
      "65/65 [==============================] - 16s 245ms/step - loss: 0.3898 - accuracy: 0.9141 - val_loss: 1.2883 - val_accuracy: 0.7679\n",
      "Epoch 24/60\n",
      "65/65 [==============================] - 16s 244ms/step - loss: 0.3079 - accuracy: 0.9317 - val_loss: 1.1722 - val_accuracy: 0.7744\n",
      "Epoch 25/60\n",
      "65/65 [==============================] - 16s 245ms/step - loss: 0.2989 - accuracy: 0.9341 - val_loss: 1.8583 - val_accuracy: 0.7050\n",
      "Epoch 26/60\n",
      "65/65 [==============================] - 16s 244ms/step - loss: 0.2602 - accuracy: 0.9449 - val_loss: 1.6211 - val_accuracy: 0.7679\n",
      "Epoch 27/60\n",
      "65/65 [==============================] - 16s 244ms/step - loss: 0.3136 - accuracy: 0.9336 - val_loss: 1.6397 - val_accuracy: 0.7614\n",
      "Epoch 28/60\n",
      "65/65 [==============================] - 16s 245ms/step - loss: 0.3478 - accuracy: 0.9234 - val_loss: 1.6062 - val_accuracy: 0.7505\n",
      "Epoch 29/60\n",
      "65/65 [==============================] - 16s 245ms/step - loss: 0.2721 - accuracy: 0.9488 - val_loss: 1.4392 - val_accuracy: 0.7831\n",
      "Epoch 30/60\n",
      "65/65 [==============================] - 16s 245ms/step - loss: 0.2979 - accuracy: 0.9385 - val_loss: 1.7037 - val_accuracy: 0.7310\n",
      "Epoch 31/60\n",
      "65/65 [==============================] - 16s 244ms/step - loss: 0.2430 - accuracy: 0.9541 - val_loss: 1.4668 - val_accuracy: 0.7809\n",
      "Epoch 32/60\n",
      "65/65 [==============================] - 16s 243ms/step - loss: 0.2128 - accuracy: 0.9595 - val_loss: 1.2418 - val_accuracy: 0.8091\n",
      "Epoch 33/60\n",
      "65/65 [==============================] - 16s 245ms/step - loss: 0.2251 - accuracy: 0.9551 - val_loss: 1.4740 - val_accuracy: 0.7896\n",
      "Epoch 34/60\n",
      "65/65 [==============================] - 16s 245ms/step - loss: 0.2183 - accuracy: 0.9595 - val_loss: 1.4024 - val_accuracy: 0.7896\n",
      "Epoch 35/60\n",
      "65/65 [==============================] - 16s 244ms/step - loss: 0.3628 - accuracy: 0.9165 - val_loss: 1.5513 - val_accuracy: 0.7245\n",
      "Epoch 36/60\n",
      "65/65 [==============================] - 16s 244ms/step - loss: 0.2393 - accuracy: 0.9507 - val_loss: 1.3290 - val_accuracy: 0.7766\n",
      "Epoch 37/60\n",
      "65/65 [==============================] - 16s 244ms/step - loss: 0.2127 - accuracy: 0.9546 - val_loss: 1.5098 - val_accuracy: 0.8048\n",
      "Epoch 38/60\n",
      "65/65 [==============================] - 16s 247ms/step - loss: 0.2940 - accuracy: 0.9395 - val_loss: 1.7811 - val_accuracy: 0.7397\n",
      "Epoch 39/60\n",
      "65/65 [==============================] - 16s 247ms/step - loss: 0.3374 - accuracy: 0.9302 - val_loss: 1.6280 - val_accuracy: 0.7592\n",
      "Epoch 40/60\n",
      "65/65 [==============================] - 16s 246ms/step - loss: 0.2562 - accuracy: 0.9473 - val_loss: 1.6492 - val_accuracy: 0.7549\n",
      "Epoch 41/60\n",
      "65/65 [==============================] - 16s 245ms/step - loss: 0.2079 - accuracy: 0.9629 - val_loss: 1.6125 - val_accuracy: 0.7874\n",
      "Epoch 42/60\n",
      "65/65 [==============================] - 16s 245ms/step - loss: 0.2523 - accuracy: 0.9522 - val_loss: 2.7260 - val_accuracy: 0.6659\n",
      "Epoch 43/60\n",
      "65/65 [==============================] - 16s 245ms/step - loss: 0.2464 - accuracy: 0.9536 - val_loss: 10.4415 - val_accuracy: 0.3492\n",
      "Epoch 44/60\n",
      "65/65 [==============================] - 16s 244ms/step - loss: 0.3870 - accuracy: 0.9239 - val_loss: 1.7633 - val_accuracy: 0.7397\n",
      "Epoch 45/60\n",
      "65/65 [==============================] - 16s 245ms/step - loss: 0.4587 - accuracy: 0.8985 - val_loss: 2.0357 - val_accuracy: 0.6616\n",
      "Epoch 46/60\n",
      "65/65 [==============================] - 16s 244ms/step - loss: 0.2869 - accuracy: 0.9453 - val_loss: 1.5875 - val_accuracy: 0.7419\n",
      "Epoch 47/60\n",
      "65/65 [==============================] - 16s 244ms/step - loss: 0.4079 - accuracy: 0.9190 - val_loss: 2.8141 - val_accuracy: 0.5965\n",
      "Epoch 48/60\n",
      "65/65 [==============================] - 16s 244ms/step - loss: 0.2501 - accuracy: 0.9522 - val_loss: 2.2759 - val_accuracy: 0.6616\n",
      "Epoch 49/60\n",
      "65/65 [==============================] - 16s 243ms/step - loss: 0.2153 - accuracy: 0.9624 - val_loss: 1.8059 - val_accuracy: 0.7202\n",
      "Epoch 50/60\n",
      "65/65 [==============================] - 16s 244ms/step - loss: 0.1866 - accuracy: 0.9644 - val_loss: 1.5022 - val_accuracy: 0.8004\n",
      "Epoch 51/60\n",
      "65/65 [==============================] - 16s 245ms/step - loss: 0.1595 - accuracy: 0.9717 - val_loss: 1.5663 - val_accuracy: 0.7961\n",
      "Epoch 52/60\n",
      "65/65 [==============================] - 16s 246ms/step - loss: 0.1761 - accuracy: 0.9693 - val_loss: 1.4584 - val_accuracy: 0.8091\n",
      "Epoch 53/60\n",
      "65/65 [==============================] - 16s 244ms/step - loss: 0.1708 - accuracy: 0.9712 - val_loss: 1.6201 - val_accuracy: 0.7939\n",
      "Epoch 54/60\n",
      "65/65 [==============================] - 16s 245ms/step - loss: 0.1700 - accuracy: 0.9736 - val_loss: 1.7998 - val_accuracy: 0.7766\n",
      "Epoch 55/60\n",
      "65/65 [==============================] - 16s 244ms/step - loss: 0.1720 - accuracy: 0.9741 - val_loss: 1.6542 - val_accuracy: 0.7918\n",
      "Epoch 56/60\n",
      "65/65 [==============================] - 16s 244ms/step - loss: 0.3373 - accuracy: 0.9346 - val_loss: 1.9419 - val_accuracy: 0.7007\n",
      "Epoch 57/60\n",
      "65/65 [==============================] - 16s 244ms/step - loss: 0.2099 - accuracy: 0.9580 - val_loss: 1.5801 - val_accuracy: 0.7787\n",
      "Epoch 58/60\n",
      "65/65 [==============================] - 16s 243ms/step - loss: 0.2196 - accuracy: 0.9566 - val_loss: 1.7357 - val_accuracy: 0.7722\n",
      "Epoch 59/60\n",
      "65/65 [==============================] - 16s 244ms/step - loss: 0.1802 - accuracy: 0.9673 - val_loss: 1.7291 - val_accuracy: 0.7831\n",
      "Epoch 60/60\n",
      "65/65 [==============================] - 16s 243ms/step - loss: 0.1804 - accuracy: 0.9702 - val_loss: 2.0277 - val_accuracy: 0.7679\n"
     ]
    }
   ],
   "source": [
    "history = model.fit(x_train, y_train, epochs=EPOCHS, batch_size=BATCH_SIZE, validation_data=(x_val, y_val))"
   ]
  },
  {
   "cell_type": "markdown",
   "metadata": {},
   "source": [
    "#### Plot model accuracy and loss graphs"
   ]
  },
  {
   "cell_type": "code",
   "execution_count": 10,
   "metadata": {},
   "outputs": [
    {
     "data": {
      "image/png": "[encoded data removed]",
      "text/plain": [
       "<Figure size 1200x400 with 2 Axes>"
      ]
     },
     "metadata": {},
     "output_type": "display_data"
    }
   ],
   "source": [
    "acc = history.history[\"accuracy\"]\n",
    "val_acc = history.history[\"val_accuracy\"]\n",
    "\n",
    "loss = history.history[\"loss\"]\n",
    "val_loss = history.history[\"val_loss\"]\n",
    "\n",
    "epochs_range = range(EPOCHS)\n",
    "\n",
    "plt.figure(figsize=(12, 4))\n",
    "plt.subplot(1, 2, 1)\n",
    "plt.plot(epochs_range, acc, label=\"Training Accuracy\")\n",
    "plt.plot(epochs_range, val_acc, label=\"Validation Accuracy\")\n",
    "plt.grid()\n",
    "plt.legend(loc=\"lower right\")\n",
    "plt.title(\"Training and Validation Accuracy\")\n",
    "\n",
    "plt.subplot(1, 2, 2)\n",
    "plt.plot(epochs_range, loss, label=\"Training Loss\")\n",
    "plt.plot(epochs_range, val_loss, label=\"Validation Loss\")\n",
    "plt.grid()\n",
    "plt.legend(loc=\"upper right\")\n",
    "plt.title(\"Training and Validation Loss\")\n",
    "\n",
    "figure = plt.gcf()\n",
    "plt.show()"
   ]
  },
  {
   "cell_type": "markdown",
   "metadata": {},
   "source": [
    "## Save and load models"
   ]
  },
  {
   "cell_type": "markdown",
   "metadata": {},
   "source": [
    "#### Save model to disk"
   ]
  },
  {
   "cell_type": "code",
   "execution_count": 59,
   "metadata": {},
   "outputs": [
    {
     "name": "stdout",
     "output_type": "stream",
     "text": [
      "Model successfully saved to ../models/03-cnn_mfcc-argentinian_dataset-60_species/03-cnn_mfcc-argentinian_dataset-60_species.\n"
     ]
    }
   ],
   "source": [
    "model_name = str(input(\"Enter a title for the saved model...\"))\n",
    "model_path = f\"../models/{model_name}/\"\n",
    "\n",
    "if model_name:\n",
    "    try:\n",
    "        os.mkdir(model_path)\n",
    "        model.save(model_path + f\"{model_name}.keras\")\n",
    "        print(f\"Model successfully saved to {model_path}{model_name}.\")\n",
    "\n",
    "        # Remember to execute plotting cell first\n",
    "        figure.savefig(model_path + f\"{model_name}.png\")\n",
    "    except:\n",
    "        raise (\n",
    "            \"ERROR: Model name is already in use. Pick another name and try again.\"\n",
    "        )"
   ]
  },
  {
   "cell_type": "markdown",
   "metadata": {},
   "source": [
    "#### Load previous model"
   ]
  },
  {
   "cell_type": "code",
   "execution_count": 3,
   "metadata": {},
   "outputs": [],
   "source": [
    "model_name = str(input(\"Type model name...\"))\n",
    "\n",
    "if model_name:\n",
    "    model_path = f\"../models/{model_name}/\"\n",
    "\n",
    "model = tf.keras.models.load_model(model_path + f\"{model_name}.keras\")"
   ]
  },
  {
   "cell_type": "markdown",
   "metadata": {},
   "source": [
    "## Model evaluation and prediction"
   ]
  },
  {
   "cell_type": "code",
   "execution_count": null,
   "metadata": {},
   "outputs": [],
   "source": [
    "eval_loss, eval_acc = model.evaluate(x=x_test, y=y_test)"
   ]
  },
  {
   "cell_type": "code",
   "execution_count": 51,
   "metadata": {},
   "outputs": [
    {
     "name": "stdout",
     "output_type": "stream",
     "text": [
      "1/1 [==============================] - 0s 15ms/step\n"
     ]
    }
   ],
   "source": [
    "SAMPLE_RATE = 16000\n",
    "SAMPLE_LENGTH = 1\n",
    "\n",
    "MFCC_COUNT = 26\n",
    "HOP = 512\n",
    "FFT = 2048\n",
    "\n",
    "\n",
    "# Load audio file and get preprocessed segments\n",
    "filename = 'XC673986 - Giant Antshrike - Batara cinerea.mp3'\n",
    "segments = generate_preprocessed_samples(filename, sr=SAMPLE_RATE, length=SAMPLE_LENGTH)\n",
    "\n",
    "mfccs = []\n",
    "\n",
    "for s in segments:\n",
    "    mfcc = li.feature.mfcc(y=s, sr=SAMPLE_RATE, n_mfcc=MFCC_COUNT, hop_length=HOP, n_fft=FFT)\n",
    "    mfccs.append(mfcc.transpose())\n",
    "\n",
    "# Make predictions in batch\n",
    "predictions = model.predict(np.asarray(mfccs))\n",
    "\n",
    "# Get predicted label for each segment\n",
    "predicted_labels = []\n",
    "for p in predictions:\n",
    "    label = np.argmax(p)\n",
    "    label_str = label_map[label]\n",
    "    probability = round(p[label] * 100, 2)\n",
    "    predicted_labels.append((label, label_str, probability))"
   ]
  },
  {
   "cell_type": "code",
   "execution_count": 52,
   "metadata": {},
   "outputs": [
    {
     "data": {
      "text/plain": [
       "[(5, 'Batara cinerea', 100.0),\n",
       " (5, 'Batara cinerea', 100.0),\n",
       " (5, 'Batara cinerea', 99.98),\n",
       " (5, 'Batara cinerea', 100.0),\n",
       " (5, 'Batara cinerea', 99.99),\n",
       " (5, 'Batara cinerea', 100.0),\n",
       " (5, 'Batara cinerea', 100.0),\n",
       " (5, 'Batara cinerea', 99.95),\n",
       " (5, 'Batara cinerea', 100.0),\n",
       " (5, 'Batara cinerea', 100.0),\n",
       " (5, 'Batara cinerea', 98.61),\n",
       " (5, 'Batara cinerea', 100.0),\n",
       " (5, 'Batara cinerea', 100.0),\n",
       " (5, 'Batara cinerea', 82.43),\n",
       " (5, 'Batara cinerea', 100.0),\n",
       " (5, 'Batara cinerea', 90.5),\n",
       " (50, 'Tapera naevia', 84.17)]"
      ]
     },
     "execution_count": 52,
     "metadata": {},
     "output_type": "execute_result"
    }
   ],
   "source": [
    "predicted_labels"
   ]
  },
  {
   "cell_type": "markdown",
   "metadata": {},
   "source": [
    "### Preprocessing functions"
   ]
  },
  {
   "cell_type": "code",
   "execution_count": 10,
   "metadata": {},
   "outputs": [],
   "source": [
    "# Generate butterworth highpass coefficients\n",
    "def butter_highpass(cutoff, fs, order=5):\n",
    "    nyq = 0.5 * fs\n",
    "    normal_cutoff = cutoff / nyq\n",
    "    b, a = signal.butter(order, normal_cutoff, btype='high', analog=False)\n",
    "    return b, a\n",
    "\n",
    "\n",
    "# Apply filter to signal\n",
    "def apply_butter_highpass(data, cutoff, fs, order=5):\n",
    "    b, a = butter_highpass(cutoff, fs, order=order)\n",
    "    y = signal.filtfilt(b, a, data)\n",
    "    return y"
   ]
  },
  {
   "cell_type": "code",
   "execution_count": 11,
   "metadata": {},
   "outputs": [],
   "source": [
    "# Remove sections of silence or low intensity signal\n",
    "def remove_silence(signal, thresh=18, hop=2048, plot=False):\n",
    "    splits = li.effects.split(y=signal, top_db=thresh, frame_length=(hop * 2), hop_length=hop)\n",
    "    if plot:\n",
    "        peak = np.max(signal)\n",
    "        plt.subplots(figsize=(12, 4))\n",
    "        plt.plot(signal)\n",
    "        plt.vlines(splits, ymin=-peak, ymax=peak, color='red')\n",
    "        plt.show()\n",
    "\n",
    "    stripped_audio = []\n",
    "\n",
    "    for s in splits:\n",
    "        split = signal[s[0] : s[1]]\n",
    "        stripped_audio.extend(split)\n",
    "\n",
    "    return np.asarray(stripped_audio)"
   ]
  },
  {
   "cell_type": "code",
   "execution_count": 12,
   "metadata": {},
   "outputs": [],
   "source": [
    "# Split audio into segments of desired length\n",
    "def split_audio(signal, target_length, samplerate, plot=False):\n",
    "    duration = li.get_duration(y=signal, sr=samplerate)\n",
    "    n_segments = np.ceil(duration / target_length)\n",
    "    audio_segments = []\n",
    "\n",
    "    for n in range(int(n_segments)):\n",
    "        s = signal[samplerate * n * target_length : samplerate * (n + 1) * target_length]\n",
    "\n",
    "        if len(s) < target_length * samplerate:\n",
    "            s = np.pad(s, (0, target_length * samplerate - len(s)), 'constant')\n",
    "\n",
    "        audio_segments.append(s)\n",
    "\n",
    "        if plot:\n",
    "            plt.plot(s, alpha=1 / n_segments)\n",
    "\n",
    "    if plot:\n",
    "        plt.show()\n",
    "\n",
    "    return audio_segments"
   ]
  },
  {
   "cell_type": "code",
   "execution_count": 13,
   "metadata": {},
   "outputs": [],
   "source": [
    "# Apply all signal processing functions to audio and return segments\n",
    "def generate_preprocessed_samples(path, sr, length, hp=700, rem_noise=False):\n",
    "\n",
    "    y, sr = li.load(path, sr=sr, mono=True)  # Load audio file\n",
    "\n",
    "    y = apply_butter_highpass(data=y, cutoff=hp, fs=sr, order=5)  # Apply high-pass filter\n",
    "\n",
    "    if rem_noise:\n",
    "        # Delete silent sections\n",
    "        y = remove_silence(y, thresh=20, hop=2048, plot=False)\n",
    "\n",
    "    audio_segments = split_audio(\n",
    "        y, target_length=length, samplerate=sr\n",
    "    )  # Split into segments of desired length\n",
    "\n",
    "    return audio_segments"
   ]
  }
 ],
 "metadata": {
  "kernelspec": {
   "display_name": "tf_audio",
   "language": "python",
   "name": "python3"
  },
  "language_info": {
   "codemirror_mode": {
    "name": "ipython",
    "version": 3
   },
   "file_extension": ".py",
   "mimetype": "text/x-python",
   "name": "python",
   "nbconvert_exporter": "python",
   "pygments_lexer": "ipython3",
   "version": "3.9.18"
  }
 },
 "nbformat": 4,
 "nbformat_minor": 2
}
