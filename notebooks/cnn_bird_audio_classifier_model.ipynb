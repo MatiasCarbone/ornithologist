{
 "cells": [
  {
   "cell_type": "markdown",
   "metadata": {},
   "source": [
    "### Import dependencies"
   ]
  },
  {
   "cell_type": "code",
   "execution_count": 46,
   "metadata": {},
   "outputs": [],
   "source": [
    "import os\n",
    "import shutil\n",
    "import opendatasets as od\n",
    "import json\n",
    "import numpy as np\n",
    "import pandas as pd\n",
    "from matplotlib import pyplot as plt\n",
    "\n",
    "import librosa as li\n",
    "import soundfile as sf\n",
    "from scipy import signal\n",
    "\n",
    "import tensorflow as tf\n",
    "from tensorflow import keras\n",
    "from sklearn.model_selection import train_test_split"
   ]
  },
  {
   "cell_type": "markdown",
   "metadata": {},
   "source": [
    "### Dataset download and preparation"
   ]
  },
  {
   "cell_type": "markdown",
   "metadata": {},
   "source": [
    "#### Data preparation function declarations\n"
   ]
  },
  {
   "cell_type": "code",
   "execution_count": 47,
   "metadata": {},
   "outputs": [],
   "source": [
    "# Generate butterworth highpass coefficients\n",
    "def butter_highpass(cutoff, fs, order=5):\n",
    "    nyq = 0.5 * fs\n",
    "    normal_cutoff = cutoff / nyq\n",
    "    b, a = signal.butter(order, normal_cutoff, btype='high', analog=False)\n",
    "    return b, a\n",
    "\n",
    "\n",
    "# Apply filter to signal\n",
    "def apply_butter_highpass(data, cutoff, fs, order=5):\n",
    "    b, a = butter_highpass(cutoff, fs, order=order)\n",
    "    y = signal.filtfilt(b, a, data)\n",
    "    return y"
   ]
  },
  {
   "cell_type": "code",
   "execution_count": 48,
   "metadata": {},
   "outputs": [],
   "source": [
    "# Remove sections of silence or low intensity signal\n",
    "def remove_silence(signal, thresh=18, hop=2048, plot=False):\n",
    "    splits = li.effects.split(\n",
    "        y=signal, top_db=thresh, frame_length=(hop * 2), hop_length=hop\n",
    "    )\n",
    "    if plot:\n",
    "        peak = np.max(signal)\n",
    "        plt.subplots(figsize=(12, 4))\n",
    "        plt.plot(signal)\n",
    "        plt.vlines(splits, ymin=-peak, ymax=peak, color='red')\n",
    "        plt.show()\n",
    "\n",
    "    stripped_audio = []\n",
    "\n",
    "    for s in splits:\n",
    "        split = signal[s[0]: s[1]]\n",
    "        stripped_audio.extend(split)\n",
    "\n",
    "    return np.asarray(stripped_audio)"
   ]
  },
  {
   "cell_type": "code",
   "execution_count": 49,
   "metadata": {},
   "outputs": [],
   "source": [
    "# Split audio into segments of desired length\n",
    "def split_audio(signal, target_length, samplerate, plot=False):\n",
    "    duration = li.get_duration(y=signal, sr=samplerate)\n",
    "    n_segments = np.ceil(duration / target_length)\n",
    "    audio_segments = []\n",
    "\n",
    "    for n in range(int(n_segments)):\n",
    "        s = signal[\n",
    "            samplerate * n * target_length: samplerate * (n + 1) * target_length\n",
    "        ]\n",
    "\n",
    "        if len(s) < target_length * samplerate:\n",
    "            s = np.pad(s, (0, target_length * samplerate - len(s)), 'constant')\n",
    "\n",
    "        audio_segments.append(s)\n",
    "\n",
    "        if plot:\n",
    "            plt.plot(s, alpha=1 / n_segments)\n",
    "\n",
    "    if plot:\n",
    "        plt.show()\n",
    "\n",
    "    return audio_segments"
   ]
  },
  {
   "cell_type": "code",
   "execution_count": 50,
   "metadata": {},
   "outputs": [],
   "source": [
    "# Apply all signal processing functions to audio and return segments\n",
    "def generate_preprocessed_samples(path, sr, length, hp=700):\n",
    "\n",
    "    y, sr = li.load(path, sr=sr, mono=True)  # Load audio file\n",
    "\n",
    "    y = apply_butter_highpass(\n",
    "        data=y, cutoff=hp, fs=sr, order=5\n",
    "    )  # Apply high-pass filter\n",
    "\n",
    "    # Delete silent sections\n",
    "    y = remove_silence(y, thresh=18, hop=2048, plot=False)\n",
    "\n",
    "    audio_segments = split_audio(\n",
    "        y, target_length=length, samplerate=sr\n",
    "    )  # Split into segments of desired length\n",
    "\n",
    "    return audio_segments"
   ]
  },
  {
   "cell_type": "markdown",
   "metadata": {},
   "source": [
    "#### Dataset download\n"
   ]
  },
  {
   "cell_type": "code",
   "execution_count": 51,
   "metadata": {},
   "outputs": [
    {
     "name": "stdout",
     "output_type": "stream",
     "text": [
      "Downloading british-birdsong-dataset.zip to ..\\datasets\\british-birdsong-dataset\n"
     ]
    },
    {
     "name": "stderr",
     "output_type": "stream",
     "text": [
      "100%|██████████| 633M/633M [00:25<00:00, 26.0MB/s] \n"
     ]
    },
    {
     "name": "stdout",
     "output_type": "stream",
     "text": [
      "\n"
     ]
    }
   ],
   "source": [
    "dataset_url = (\n",
    "    'https://www.kaggle.com/datasets/rtatman/british-birdsong-dataset?resource=download'\n",
    ")\n",
    "dowload_path = '..\\\\datasets\\\\'\n",
    "\n",
    "od.download(dataset_url, data_dir=dowload_path)\n",
    "\n",
    "dataset_path = dowload_path + 'british-birdsong-dataset\\\\'"
   ]
  },
  {
   "cell_type": "code",
   "execution_count": 53,
   "metadata": {},
   "outputs": [],
   "source": [
    "# Parse metadata csv\n",
    "metadata = pd.read_csv(\n",
    "    dataset_path + 'birdsong_metadata.csv',\n",
    "    usecols=['file_id', 'genus', 'species', 'english_cname'],\n",
    ")"
   ]
  },
  {
   "cell_type": "markdown",
   "metadata": {},
   "source": [
    "#### Audio data samples preparation"
   ]
  },
  {
   "cell_type": "markdown",
   "metadata": {},
   "source": [
    "User defined constants for audio preparation."
   ]
  },
  {
   "cell_type": "code",
   "execution_count": 54,
   "metadata": {},
   "outputs": [],
   "source": [
    "# Target sample rate for resampling audio files\n",
    "SAMPLE_RATE = 16000\n",
    "\n",
    "# Target length for audio segments (in seconds)\n",
    "SAMPLE_LENGTH = 3"
   ]
  },
  {
   "cell_type": "markdown",
   "metadata": {},
   "source": [
    "Read all audio files from directory, apply filter, remove silent sections and split into segments. Save each segment to disk, with filename according to scientific bird name corresponding to dataset metadata."
   ]
  },
  {
   "cell_type": "code",
   "execution_count": 55,
   "metadata": {},
   "outputs": [
    {
     "name": "stdout",
     "output_type": "stream",
     "text": [
      "Created new folder: ..\\datasets\\british-birdsong-dataset\\audio\\\n",
      "Finished generating audio samples!\n"
     ]
    }
   ],
   "source": [
    "old_path = dataset_path + 'songs\\\\songs\\\\'\n",
    "audio_path = dataset_path + 'audio\\\\'\n",
    "\n",
    "try:\n",
    "    os.mkdir(audio_path)\n",
    "    print('Created new folder: ' + audio_path)\n",
    "except:\n",
    "    print(audio_path + ' already exists\\n')\n",
    "\n",
    "for file in os.listdir(old_path):\n",
    "    id = file.lstrip('xc').rstrip('.flac')\n",
    "    data = metadata.loc[metadata['file_id'] == int(id)]\n",
    "\n",
    "    name = data['genus'].item() + '_' + data['species'].item()\n",
    "    subfolder = audio_path + name + '\\\\'\n",
    "    try:\n",
    "        os.mkdir(subfolder)\n",
    "    except:\n",
    "        pass\n",
    "\n",
    "    # Preprocess audio and get segments of desired length\n",
    "    audio_segments = generate_preprocessed_samples(\n",
    "        old_path + file, sr=SAMPLE_RATE, length=SAMPLE_LENGTH\n",
    "    )\n",
    "\n",
    "    # Iterate through splitted audio segments and save each one as a separate flac file\n",
    "    for i, segment in enumerate(audio_segments):\n",
    "        new_filename = f'{subfolder}{name}_{id}_{i}.flac'\n",
    "        sf.write(new_filename, segment, SAMPLE_RATE,\n",
    "                 format='flac', subtype='PCM_16')\n",
    "\n",
    "shutil.rmtree(dataset_path + '\\\\songs')\n",
    "\n",
    "print('Finished generating audio samples!')"
   ]
  },
  {
   "cell_type": "markdown",
   "metadata": {},
   "source": [
    "### Preprocess dataset\n"
   ]
  },
  {
   "cell_type": "code",
   "execution_count": 56,
   "metadata": {},
   "outputs": [],
   "source": [
    "# Get dataset path\n",
    "dataset_path = '..\\\\datasets\\\\british-birdsong-dataset\\\\'\n",
    "# Get audio path\n",
    "audio_path = dataset_path + \"audio\\\\\""
   ]
  },
  {
   "cell_type": "markdown",
   "metadata": {},
   "source": [
    "Read samples from disk and store file path, label, labels mapping and MFCC data into JSON file."
   ]
  },
  {
   "cell_type": "code",
   "execution_count": 61,
   "metadata": {},
   "outputs": [],
   "source": [
    "def preprocess_audio_dataset(data_path, json_path=None, mfcc_count=13, hop=512, fft_len=2048):\n",
    "    data_dict = {\n",
    "        'label_map': [],\n",
    "        'encoded_labels': [],\n",
    "        'mfccs': [],\n",
    "        'files': [],\n",
    "    }\n",
    "\n",
    "    for i, (path, _, files) in enumerate(os.walk(data_path)):\n",
    "        if path == data_path:  # Ignore parent folder\n",
    "            continue\n",
    "\n",
    "        # Add unique labels to label_map list\n",
    "        label = path.split('\\\\')[-1]\n",
    "        if label not in data_dict['label_map']:\n",
    "            data_dict['label_map'].append(label)\n",
    "\n",
    "        for f in files:\n",
    "            # Add encoded label to encoded_labels list\n",
    "            index = data_dict['label_map'].index(label)\n",
    "            data_dict['encoded_labels'].append(index)\n",
    "\n",
    "            # Add file path to files list\n",
    "            data_dict['files'].append(os.path.join(path, f))\n",
    "\n",
    "            # Load audio and add MFCCs to list\n",
    "            y, sr = li.load(os.path.join(path, f), sr=None, mono=True)\n",
    "            mfccs = li.feature.mfcc(y=y, sr=sr, n_mfcc=mfcc_count, hop_length=hop, n_fft=fft_len)\n",
    "\n",
    "            # Cast np.array to list is needed to save as JSON file\n",
    "            data_dict['mfccs'].append(mfccs.transpose().tolist())\n",
    "\n",
    "    # Store in json file\n",
    "    if json_path:\n",
    "        with open(json_path, 'w') as jf:\n",
    "            json.dump(data_dict, jf, indent=4)\n",
    "            print(f'Successfully saved preprocessed data to {json_path}!')\n",
    "            file_count = len(data_dict['files'])\n",
    "            print(f'{file_count} audio samples were processed!')\n",
    "    # return data_dict"
   ]
  },
  {
   "cell_type": "code",
   "execution_count": 62,
   "metadata": {},
   "outputs": [
    {
     "name": "stdout",
     "output_type": "stream",
     "text": [
      "Successfully saved preprocessed data to ..\\datasets\\british-birdsong-dataset\\preprocessed_data.json!\n",
      "7401 audio samples were processed!\n"
     ]
    }
   ],
   "source": [
    "json_path = dataset_path + 'preprocessed_data.json'\n",
    "preprocess_audio_dataset(audio_path, json_path=json_path, mfcc_count=25)"
   ]
  },
  {
   "cell_type": "markdown",
   "metadata": {},
   "source": [
    "### Build and train CNN model"
   ]
  },
  {
   "cell_type": "markdown",
   "metadata": {},
   "source": [
    "#### Read JSON data and generate train/test/validation splits"
   ]
  },
  {
   "cell_type": "code",
   "execution_count": 31,
   "metadata": {},
   "outputs": [],
   "source": [
    "def generate_splits(data_path, val_split=0.3, test_split=0.1):\n",
    "    # Read JSON and extract X and Y values\n",
    "    with open(data_path, 'r') as jf:\n",
    "        data = json.load(jf)\n",
    "    x = np.array(data['mfccs'])\n",
    "    y = np.array(data['encoded_labels'])\n",
    "    label_map = data['label_map']\n",
    "\n",
    "    # Generate splits\n",
    "    x_train, x_val, y_train, y_val = train_test_split(x, y, test_size=val_split)\n",
    "    x_val, x_test, y_val, y_test = train_test_split(x_val, y_val, test_size=test_split)\n",
    "\n",
    "    # Add third dimension to MFCC arrays\n",
    "    x_train = x_train[..., np.newaxis]\n",
    "    x_test = x_test[..., np.newaxis]\n",
    "    x_val = x_val[..., np.newaxis]\n",
    "\n",
    "    return x_train, x_test, x_val, y_train, y_test, y_val, label_map"
   ]
  },
  {
   "cell_type": "code",
   "execution_count": 36,
   "metadata": {},
   "outputs": [
    {
     "name": "stdout",
     "output_type": "stream",
     "text": [
      "• Train dataset: 1793 files \n",
      "• Validation dataset: 692 files \n",
      "• Test dataset: 77 files\n"
     ]
    }
   ],
   "source": [
    "json_path = '..\\\\datasets\\\\british-birdsong-dataset\\\\preprocessed_data.json'\n",
    "\n",
    "x_train, x_test, x_val, y_train, y_test, y_val, label_map = generate_splits(json_path)\n",
    "\n",
    "print(\n",
    "    f'• Train dataset: {x_train.shape[0]} files \\n• Validation dataset: {x_val.shape[0]} files \\n• Test dataset: {x_test.shape[0]} files'\n",
    ")"
   ]
  },
  {
   "cell_type": "markdown",
   "metadata": {},
   "source": [
    "#### Define and compile the model"
   ]
  },
  {
   "cell_type": "code",
   "execution_count": 63,
   "metadata": {},
   "outputs": [],
   "source": [
    "LEARNING_RATE = 0.0001,\n",
    "BATCH_SIZE = 32\n",
    "EPOCHS = 60"
   ]
  },
  {
   "cell_type": "code",
   "execution_count": 64,
   "metadata": {},
   "outputs": [
    {
     "name": "stdout",
     "output_type": "stream",
     "text": [
      "Model: \"sequential_5\"\n",
      "_________________________________________________________________\n",
      " Layer (type)                Output Shape              Param #   \n",
      "=================================================================\n",
      " conv2d_14 (Conv2D)          (None, 92, 23, 64)        640       \n",
      "                                                                 \n",
      " batch_normalization_15 (Bat  (None, 92, 23, 64)       256       \n",
      " chNormalization)                                                \n",
      "                                                                 \n",
      " max_pooling2d_15 (MaxPoolin  (None, 46, 12, 64)       0         \n",
      " g2D)                                                            \n",
      "                                                                 \n",
      " conv2d_15 (Conv2D)          (None, 44, 10, 32)        18464     \n",
      "                                                                 \n",
      " batch_normalization_16 (Bat  (None, 44, 10, 32)       128       \n",
      " chNormalization)                                                \n",
      "                                                                 \n",
      " max_pooling2d_16 (MaxPoolin  (None, 22, 5, 32)        0         \n",
      " g2D)                                                            \n",
      "                                                                 \n",
      " batch_normalization_17 (Bat  (None, 22, 5, 32)        128       \n",
      " chNormalization)                                                \n",
      "                                                                 \n",
      " max_pooling2d_17 (MaxPoolin  (None, 11, 3, 32)        0         \n",
      " g2D)                                                            \n",
      "                                                                 \n",
      " flatten_5 (Flatten)         (None, 1056)              0         \n",
      "                                                                 \n",
      " dense_10 (Dense)            (None, 128)               135296    \n",
      "                                                                 \n",
      " dropout_5 (Dropout)         (None, 128)               0         \n",
      "                                                                 \n",
      " dense_11 (Dense)            (None, 88)                11352     \n",
      "                                                                 \n",
      "=================================================================\n",
      "Total params: 166,264\n",
      "Trainable params: 166,008\n",
      "Non-trainable params: 256\n",
      "_________________________________________________________________\n"
     ]
    }
   ],
   "source": [
    "input_shape = (x_train.shape[1], x_train.shape[2], x_train.shape[3])\n",
    "class_count = len(label_map)\n",
    "\n",
    "#TODO: add and test data augmentation layers\n",
    "\n",
    "model = keras.models.Sequential(\n",
    "    [\n",
    "        keras.layers.InputLayer(input_shape=input_shape),\n",
    "        # Convolution layer 1\n",
    "        keras.layers.Conv2D(\n",
    "            filters=64,\n",
    "            kernel_size=(3, 3),\n",
    "            activation='relu',\n",
    "            kernel_regularizer=keras.regularizers.l2(0.001),\n",
    "        ),\n",
    "        keras.layers.BatchNormalization(),\n",
    "        keras.layers.MaxPool2D(pool_size=(3, 3), strides=(2, 2), padding='same'),\n",
    "        # Convolution layer 2\n",
    "        keras.layers.Conv2D(\n",
    "            filters=32,\n",
    "            kernel_size=(3, 3),\n",
    "            activation='relu',\n",
    "            kernel_regularizer=keras.regularizers.l2(0.001),\n",
    "        ),\n",
    "        keras.layers.BatchNormalization(),\n",
    "        keras.layers.MaxPool2D(pool_size=(3, 3), strides=(2, 2), padding='same'),\n",
    "        # Convolution layer 3\n",
    "        # keras.layers.Conv2D(\n",
    "        #     filters=32,\n",
    "        #     kernel_size=(2, 2),\n",
    "        #     activation='relu',\n",
    "        #     kernel_regularizer=keras.regularizers.l2(0.001),\n",
    "        # ),\n",
    "        keras.layers.BatchNormalization(),\n",
    "        keras.layers.MaxPool2D(pool_size=(2, 2), strides=(2, 2), padding='same'),\n",
    "        # Dense layer\n",
    "        keras.layers.Flatten(),\n",
    "        keras.layers.Dense(units=128, activation='relu'),\n",
    "        keras.layers.Dropout(0.4),\n",
    "        # Classification layer\n",
    "        keras.layers.Dense(units=class_count, activation='softmax'),\n",
    "    ]\n",
    ")\n",
    "\n",
    "model.summary()"
   ]
  },
  {
   "cell_type": "code",
   "execution_count": 65,
   "metadata": {},
   "outputs": [],
   "source": [
    "# TODO: find a way to update learning rate dynamically\n",
    "optimizer = keras.optimizers.Adam(learning_rate=LEARNING_RATE)\n",
    "\n",
    "# TODO: add corresponding metrics\n",
    "metrics = []\n",
    "\n",
    "model.compile(optimizer='Adam', loss='sparse_categorical_crossentropy', metrics=['accuracy'])"
   ]
  },
  {
   "cell_type": "code",
   "execution_count": 66,
   "metadata": {},
   "outputs": [
    {
     "name": "stdout",
     "output_type": "stream",
     "text": [
      "Epoch 1/60\n",
      "57/57 [==============================] - 4s 56ms/step - loss: 3.7755 - accuracy: 0.2131 - val_loss: 3.7290 - val_accuracy: 0.2197\n",
      "Epoch 2/60\n",
      "57/57 [==============================] - 3s 57ms/step - loss: 2.6296 - accuracy: 0.3971 - val_loss: 2.4391 - val_accuracy: 0.4668\n",
      "Epoch 3/60\n",
      "57/57 [==============================] - 3s 60ms/step - loss: 1.9702 - accuracy: 0.5365 - val_loss: 2.0696 - val_accuracy: 0.5260\n",
      "Epoch 4/60\n",
      "57/57 [==============================] - 3s 58ms/step - loss: 1.4972 - accuracy: 0.6241 - val_loss: 1.6642 - val_accuracy: 0.6199\n",
      "Epoch 5/60\n",
      "57/57 [==============================] - 3s 54ms/step - loss: 1.1501 - accuracy: 0.7083 - val_loss: 1.4578 - val_accuracy: 0.6474\n",
      "Epoch 6/60\n",
      "57/57 [==============================] - 3s 56ms/step - loss: 1.0185 - accuracy: 0.7446 - val_loss: 1.4298 - val_accuracy: 0.6590\n",
      "Epoch 7/60\n",
      "57/57 [==============================] - 3s 57ms/step - loss: 0.9660 - accuracy: 0.7552 - val_loss: 1.3141 - val_accuracy: 0.6965\n",
      "Epoch 8/60\n",
      "57/57 [==============================] - 4s 63ms/step - loss: 0.7083 - accuracy: 0.8221 - val_loss: 1.2930 - val_accuracy: 0.6965\n",
      "Epoch 9/60\n",
      "57/57 [==============================] - 4s 63ms/step - loss: 0.7431 - accuracy: 0.8182 - val_loss: 1.3960 - val_accuracy: 0.6893\n",
      "Epoch 10/60\n",
      "57/57 [==============================] - 3s 59ms/step - loss: 0.6611 - accuracy: 0.8427 - val_loss: 1.3883 - val_accuracy: 0.6705\n",
      "Epoch 11/60\n",
      "57/57 [==============================] - 3s 59ms/step - loss: 0.7365 - accuracy: 0.8199 - val_loss: 1.3753 - val_accuracy: 0.6792\n",
      "Epoch 12/60\n",
      "57/57 [==============================] - 3s 60ms/step - loss: 0.5183 - accuracy: 0.8728 - val_loss: 1.2738 - val_accuracy: 0.7298\n",
      "Epoch 13/60\n",
      "57/57 [==============================] - 3s 60ms/step - loss: 0.5544 - accuracy: 0.8673 - val_loss: 1.2167 - val_accuracy: 0.7269\n",
      "Epoch 14/60\n",
      "57/57 [==============================] - 3s 60ms/step - loss: 0.5508 - accuracy: 0.8622 - val_loss: 1.2438 - val_accuracy: 0.7355\n",
      "Epoch 15/60\n",
      "57/57 [==============================] - 3s 60ms/step - loss: 0.5610 - accuracy: 0.8511 - val_loss: 1.5841 - val_accuracy: 0.6633\n",
      "Epoch 16/60\n",
      "57/57 [==============================] - 3s 58ms/step - loss: 0.4454 - accuracy: 0.8812 - val_loss: 1.3291 - val_accuracy: 0.7341\n",
      "Epoch 17/60\n",
      "57/57 [==============================] - 3s 58ms/step - loss: 0.3118 - accuracy: 0.9292 - val_loss: 1.2889 - val_accuracy: 0.7457\n",
      "Epoch 18/60\n",
      "57/57 [==============================] - 3s 61ms/step - loss: 0.3129 - accuracy: 0.9247 - val_loss: 1.2582 - val_accuracy: 0.7428\n",
      "Epoch 19/60\n",
      "57/57 [==============================] - 3s 59ms/step - loss: 0.3915 - accuracy: 0.9035 - val_loss: 1.4954 - val_accuracy: 0.7023\n",
      "Epoch 20/60\n",
      "57/57 [==============================] - 3s 60ms/step - loss: 0.4906 - accuracy: 0.8740 - val_loss: 1.7718 - val_accuracy: 0.6604\n",
      "Epoch 21/60\n",
      "57/57 [==============================] - 4s 63ms/step - loss: 0.2829 - accuracy: 0.9442 - val_loss: 1.2512 - val_accuracy: 0.7543\n",
      "Epoch 22/60\n",
      "57/57 [==============================] - 3s 60ms/step - loss: 0.4246 - accuracy: 0.8968 - val_loss: 1.3595 - val_accuracy: 0.7182\n",
      "Epoch 23/60\n",
      "57/57 [==============================] - 3s 61ms/step - loss: 0.4601 - accuracy: 0.8846 - val_loss: 1.3252 - val_accuracy: 0.7370\n",
      "Epoch 24/60\n",
      "57/57 [==============================] - 3s 61ms/step - loss: 0.3706 - accuracy: 0.9074 - val_loss: 1.3385 - val_accuracy: 0.7197\n",
      "Epoch 25/60\n",
      "57/57 [==============================] - 4s 65ms/step - loss: 0.5912 - accuracy: 0.8544 - val_loss: 1.4897 - val_accuracy: 0.7052\n",
      "Epoch 26/60\n",
      "57/57 [==============================] - 3s 60ms/step - loss: 0.3567 - accuracy: 0.9057 - val_loss: 1.3368 - val_accuracy: 0.7283\n",
      "Epoch 27/60\n",
      "57/57 [==============================] - 3s 61ms/step - loss: 0.2420 - accuracy: 0.9465 - val_loss: 1.3408 - val_accuracy: 0.7399\n",
      "Epoch 28/60\n",
      "57/57 [==============================] - 3s 60ms/step - loss: 0.5650 - accuracy: 0.8461 - val_loss: 1.4404 - val_accuracy: 0.7153\n",
      "Epoch 29/60\n",
      "57/57 [==============================] - 3s 61ms/step - loss: 0.3101 - accuracy: 0.9325 - val_loss: 1.2417 - val_accuracy: 0.7500\n",
      "Epoch 30/60\n",
      "57/57 [==============================] - 4s 64ms/step - loss: 0.3171 - accuracy: 0.9241 - val_loss: 1.3389 - val_accuracy: 0.7428\n",
      "Epoch 31/60\n",
      "57/57 [==============================] - 4s 64ms/step - loss: 0.4339 - accuracy: 0.8974 - val_loss: 1.4503 - val_accuracy: 0.7081\n",
      "Epoch 32/60\n",
      "57/57 [==============================] - 4s 65ms/step - loss: 0.2414 - accuracy: 0.9537 - val_loss: 1.4478 - val_accuracy: 0.7197\n",
      "Epoch 33/60\n",
      "57/57 [==============================] - 4s 64ms/step - loss: 0.2050 - accuracy: 0.9582 - val_loss: 1.2686 - val_accuracy: 0.7818\n",
      "Epoch 34/60\n",
      "57/57 [==============================] - 4s 63ms/step - loss: 0.1734 - accuracy: 0.9693 - val_loss: 1.2330 - val_accuracy: 0.7645\n",
      "Epoch 35/60\n",
      "57/57 [==============================] - 3s 60ms/step - loss: 0.2791 - accuracy: 0.9381 - val_loss: 1.3516 - val_accuracy: 0.7399\n",
      "Epoch 36/60\n",
      "57/57 [==============================] - 3s 60ms/step - loss: 0.2698 - accuracy: 0.9409 - val_loss: 1.5334 - val_accuracy: 0.7211\n",
      "Epoch 37/60\n",
      "57/57 [==============================] - 3s 61ms/step - loss: 0.3901 - accuracy: 0.9096 - val_loss: 1.3361 - val_accuracy: 0.7428\n",
      "Epoch 38/60\n",
      "57/57 [==============================] - 3s 60ms/step - loss: 0.4152 - accuracy: 0.9007 - val_loss: 1.5521 - val_accuracy: 0.7355\n",
      "Epoch 39/60\n",
      "57/57 [==============================] - 4s 63ms/step - loss: 0.1853 - accuracy: 0.9654 - val_loss: 1.3248 - val_accuracy: 0.7630\n",
      "Epoch 40/60\n",
      "57/57 [==============================] - 3s 61ms/step - loss: 0.1752 - accuracy: 0.9721 - val_loss: 1.4688 - val_accuracy: 0.7355\n",
      "Epoch 41/60\n",
      "57/57 [==============================] - 3s 60ms/step - loss: 0.1601 - accuracy: 0.9721 - val_loss: 1.3083 - val_accuracy: 0.7702\n",
      "Epoch 42/60\n",
      "57/57 [==============================] - 3s 56ms/step - loss: 0.1546 - accuracy: 0.9743 - val_loss: 1.3648 - val_accuracy: 0.7717\n",
      "Epoch 43/60\n",
      "57/57 [==============================] - 3s 60ms/step - loss: 0.1551 - accuracy: 0.9738 - val_loss: 1.3159 - val_accuracy: 0.7789\n",
      "Epoch 44/60\n",
      "57/57 [==============================] - 4s 63ms/step - loss: 0.1804 - accuracy: 0.9682 - val_loss: 1.4601 - val_accuracy: 0.7442\n",
      "Epoch 45/60\n",
      "57/57 [==============================] - 3s 61ms/step - loss: 0.1545 - accuracy: 0.9710 - val_loss: 1.3310 - val_accuracy: 0.7760\n",
      "Epoch 46/60\n",
      "57/57 [==============================] - 4s 63ms/step - loss: 0.2094 - accuracy: 0.9554 - val_loss: 1.3198 - val_accuracy: 0.7818\n",
      "Epoch 47/60\n",
      "57/57 [==============================] - 3s 60ms/step - loss: 0.1507 - accuracy: 0.9755 - val_loss: 1.4210 - val_accuracy: 0.7746\n",
      "Epoch 48/60\n",
      "57/57 [==============================] - 3s 61ms/step - loss: 0.2971 - accuracy: 0.9364 - val_loss: 1.4183 - val_accuracy: 0.7630\n",
      "Epoch 49/60\n",
      "57/57 [==============================] - 3s 60ms/step - loss: 0.1718 - accuracy: 0.9677 - val_loss: 1.4255 - val_accuracy: 0.7630\n",
      "Epoch 50/60\n",
      "57/57 [==============================] - 4s 63ms/step - loss: 0.2494 - accuracy: 0.9476 - val_loss: 1.6673 - val_accuracy: 0.7370\n",
      "Epoch 51/60\n",
      "57/57 [==============================] - 4s 63ms/step - loss: 0.2927 - accuracy: 0.9336 - val_loss: 1.4634 - val_accuracy: 0.7486\n",
      "Epoch 52/60\n",
      "57/57 [==============================] - 4s 63ms/step - loss: 0.2566 - accuracy: 0.9403 - val_loss: 1.6102 - val_accuracy: 0.7370\n",
      "Epoch 53/60\n",
      "57/57 [==============================] - 3s 59ms/step - loss: 0.3304 - accuracy: 0.9186 - val_loss: 1.4272 - val_accuracy: 0.7471\n",
      "Epoch 54/60\n",
      "57/57 [==============================] - 3s 58ms/step - loss: 0.3295 - accuracy: 0.9219 - val_loss: 1.5234 - val_accuracy: 0.7384\n",
      "Epoch 55/60\n",
      "57/57 [==============================] - 3s 56ms/step - loss: 0.3114 - accuracy: 0.9247 - val_loss: 1.7032 - val_accuracy: 0.7197\n",
      "Epoch 56/60\n",
      "57/57 [==============================] - 3s 59ms/step - loss: 0.1859 - accuracy: 0.9660 - val_loss: 1.5261 - val_accuracy: 0.7500\n",
      "Epoch 57/60\n",
      "57/57 [==============================] - 3s 61ms/step - loss: 0.2214 - accuracy: 0.9537 - val_loss: 1.6021 - val_accuracy: 0.7341\n",
      "Epoch 58/60\n",
      "57/57 [==============================] - 3s 55ms/step - loss: 0.1793 - accuracy: 0.9643 - val_loss: 1.5266 - val_accuracy: 0.7529\n",
      "Epoch 59/60\n",
      "57/57 [==============================] - 3s 59ms/step - loss: 0.1358 - accuracy: 0.9805 - val_loss: 1.4102 - val_accuracy: 0.7659\n",
      "Epoch 60/60\n",
      "57/57 [==============================] - 3s 57ms/step - loss: 0.1373 - accuracy: 0.9822 - val_loss: 1.4406 - val_accuracy: 0.7746\n"
     ]
    }
   ],
   "source": [
    "# TODO: add callbacks\n",
    "callbacks = []\n",
    "\n",
    "history = model.fit(x_train, y_train, epochs=EPOCHS, batch_size=BATCH_SIZE, validation_data=(x_val, y_val), callbacks=callbacks)"
   ]
  },
  {
   "cell_type": "markdown",
   "metadata": {},
   "source": [
    "#### Plot model accuracy and loss graphs"
   ]
  },
  {
   "cell_type": "code",
   "execution_count": 67,
   "metadata": {},
   "outputs": [
    {
     "data": {
      "image/png": "[encoded data removed]",
      "text/plain": [
       "<Figure size 1200x400 with 2 Axes>"
      ]
     },
     "metadata": {},
     "output_type": "display_data"
    }
   ],
   "source": [
    "acc = history.history[\"accuracy\"]\n",
    "val_acc = history.history[\"val_accuracy\"]\n",
    "\n",
    "loss = history.history[\"loss\"]\n",
    "val_loss = history.history[\"val_loss\"]\n",
    "\n",
    "epochs_range = range(EPOCHS)\n",
    "\n",
    "plt.figure(figsize=(12, 4))\n",
    "plt.subplot(1, 2, 1)\n",
    "plt.plot(epochs_range, acc, label=\"Training Accuracy\")\n",
    "plt.plot(epochs_range, val_acc, label=\"Validation Accuracy\")\n",
    "plt.grid()\n",
    "plt.legend(loc=\"lower right\")\n",
    "plt.title(\"Training and Validation Accuracy\")\n",
    "\n",
    "plt.subplot(1, 2, 2)\n",
    "plt.plot(epochs_range, loss, label=\"Training Loss\")\n",
    "plt.plot(epochs_range, val_loss, label=\"Validation Loss\")\n",
    "plt.grid()\n",
    "plt.legend(loc=\"upper right\")\n",
    "plt.title(\"Training and Validation Loss\")\n",
    "\n",
    "figure = plt.gcf()\n",
    "plt.show()"
   ]
  },
  {
   "cell_type": "markdown",
   "metadata": {},
   "source": [
    "### TO-DO:\n",
    "- Test different segment length (1s)\n",
    "- Test different values for conv layers\n",
    "- Test different amount of neurons for dense layers\n",
    "- Noise/reverb/distortion/etc audio data augmentation in data preparation stage\n",
    "- Test MFCC vs mel spectrogam performance\n",
    "    - Add spectrogram generation and file saving in data preparation stage\n",
    "- Try to implement a LSTM model and compare results to CNN"
   ]
  }
 ],
 "metadata": {
  "kernelspec": {
   "display_name": "tf_audio",
   "language": "python",
   "name": "python3"
  },
  "language_info": {
   "codemirror_mode": {
    "name": "ipython",
    "version": 3
   },
   "file_extension": ".py",
   "mimetype": "text/x-python",
   "name": "python",
   "nbconvert_exporter": "python",
   "pygments_lexer": "ipython3",
   "version": "3.9.18"
  }
 },
 "nbformat": 4,
 "nbformat_minor": 2
}
