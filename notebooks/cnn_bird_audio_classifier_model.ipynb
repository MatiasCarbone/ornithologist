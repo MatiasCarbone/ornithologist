{
 "cells": [
  {
   "cell_type": "code",
   "execution_count": 2,
   "metadata": {},
   "outputs": [],
   "source": [
    "import os\n",
    "import shutil\n",
    "\n",
    "import opendatasets as od\n",
    "import pandas as pd"
   ]
  },
  {
   "cell_type": "code",
   "execution_count": 82,
   "metadata": {},
   "outputs": [
    {
     "name": "stdout",
     "output_type": "stream",
     "text": [
      "Downloading british-birdsong-dataset.zip to ..\\datasets\\british-birdsong-dataset\n"
     ]
    },
    {
     "name": "stderr",
     "output_type": "stream",
     "text": [
      "100%|██████████| 633M/633M [00:22<00:00, 29.1MB/s] \n"
     ]
    },
    {
     "name": "stdout",
     "output_type": "stream",
     "text": [
      "\n"
     ]
    }
   ],
   "source": [
    "dataset_url = (\n",
    "    \"https://www.kaggle.com/datasets/rtatman/british-birdsong-dataset?resource=download\"\n",
    ")\n",
    "dowload_path = \"..\\\\datasets\\\\\"\n",
    "\n",
    "od.download(dataset_url, data_dir=dowload_path)\n",
    "\n",
    "dataset_path = dowload_path + \"british-birdsong-dataset\\\\\"\n"
   ]
  },
  {
   "cell_type": "code",
   "execution_count": 21,
   "metadata": {},
   "outputs": [],
   "source": [
    "# Parse metadata csv\n",
    "metadata = pd.read_csv(\n",
    "    dataset_path + \"birdsong_metadata.csv\",\n",
    "    usecols=[\"file_id\", \"genus\", \"species\", \"english_cname\"],\n",
    ")\n"
   ]
  },
  {
   "cell_type": "code",
   "execution_count": 83,
   "metadata": {},
   "outputs": [
    {
     "name": "stdout",
     "output_type": "stream",
     "text": [
      "Created new folder: ..\\datasets\\british-birdsong-dataset\\audio\\\n"
     ]
    }
   ],
   "source": [
    "# Reorganize audio files into subfolders and rename with scientific name\n",
    "old_path = dataset_path + \"songs\\\\songs\\\\\"\n",
    "audio_path = dataset_path + \"audio\\\\\"\n",
    "\n",
    "try:\n",
    "    os.mkdir(audio_path)\n",
    "    print(\"Created new folder: \" + audio_path)\n",
    "except:\n",
    "    print(audio_path + \" already exists\\n\")\n",
    "\n",
    "for file in os.listdir(old_path):\n",
    "    id = file.lstrip(\"xc\").rstrip(\".flac\")\n",
    "    data = metadata.loc[metadata[\"file_id\"] == int(id)]\n",
    "\n",
    "    name = data[\"genus\"].item() + \"_\" + data[\"species\"].item()\n",
    "    subfolder = audio_path + name + \"\\\\\"\n",
    "    try:\n",
    "        os.mkdir(subfolder)\n",
    "    except:\n",
    "        pass\n",
    "\n",
    "    name = f\"{name}_{id}.flac\"\n",
    "    shutil.move(old_path + file, subfolder + name)\n",
    "\n",
    "shutil.rmtree(dataset_path + \"\\\\songs\")\n"
   ]
  }
 ],
 "metadata": {
  "kernelspec": {
   "display_name": "tf_audio",
   "language": "python",
   "name": "python3"
  },
  "language_info": {
   "codemirror_mode": {
    "name": "ipython",
    "version": 3
   },
   "file_extension": ".py",
   "mimetype": "text/x-python",
   "name": "python",
   "nbconvert_exporter": "python",
   "pygments_lexer": "ipython3",
   "version": "3.9.18"
  }
 },
 "nbformat": 4,
 "nbformat_minor": 2
}
