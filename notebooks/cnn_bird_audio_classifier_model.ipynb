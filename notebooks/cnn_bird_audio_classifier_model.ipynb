{
 "cells": [
  {
   "cell_type": "markdown",
   "metadata": {},
   "source": [
    "### Import dependencies"
   ]
  },
  {
   "cell_type": "code",
   "execution_count": 1,
   "metadata": {},
   "outputs": [],
   "source": [
    "import os\n",
    "import shutil\n",
    "import opendatasets as od\n",
    "import json\n",
    "\n",
    "import requests\n",
    "from time import sleep\n",
    "\n",
    "import numpy as np\n",
    "import pandas as pd\n",
    "from matplotlib import pyplot as plt\n",
    "\n",
    "import librosa as li\n",
    "import soundfile as sf\n",
    "from scipy import signal\n",
    "\n",
    "import tensorflow as tf\n",
    "from tensorflow import keras\n",
    "from sklearn.model_selection import train_test_split"
   ]
  },
  {
   "cell_type": "markdown",
   "metadata": {},
   "source": [
    "### Argentinian birds dataset download and peparation"
   ]
  },
  {
   "cell_type": "code",
   "execution_count": 30,
   "metadata": {},
   "outputs": [],
   "source": [
    "dataset_location = '..\\\\datasets\\\\xeno-canto_argentina\\\\'\n",
    "\n",
    "# Query filters\n",
    "country = 'argentina'\n",
    "since = '1980-01-01'\n",
    "group = 'birds'\n",
    "length = '12-240'"
   ]
  },
  {
   "cell_type": "code",
   "execution_count": 28,
   "metadata": {},
   "outputs": [
    {
     "name": "stdout",
     "output_type": "stream",
     "text": [
      "• Query result: status-code 200\n",
      "• Found 9593 recordings in 20 pages.\n"
     ]
    }
   ],
   "source": [
    "api_url = 'https://xeno-canto.org/api/2/recordings?query='\n",
    "params = f\"cnt:{country}+grp:{group}+len:{length}+since:{since}\"\n",
    "\n",
    "response = requests.get(api_url + params)\n",
    "\n",
    "print(f\"• Query result: status-code {response.status_code}\")\n",
    "\n",
    "if response.status_code == 200:\n",
    "    data = response.json()\n",
    "\n",
    "    n_rec = data[\"numRecordings\"]\n",
    "    pages = data[\"numPages\"]\n",
    "    print(f\"• Found {n_rec} recordings in {pages} pages.\")"
   ]
  },
  {
   "cell_type": "code",
   "execution_count": 39,
   "metadata": {},
   "outputs": [
    {
     "name": "stdout",
     "output_type": "stream",
     "text": [
      "..\\datasets\\xeno-canto_argentina\\ already exists\n",
      "\n",
      "Working on page 1...   Done!\n",
      "Working on page 2...   Done!\n",
      "Working on page 3...   Done!\n",
      "Working on page 4...   Done!\n",
      "Working on page 5...   Done!\n",
      "Working on page 6...   Done!\n",
      "Working on page 7...   Done!\n",
      "Working on page 8...   Done!\n",
      "Working on page 9...   Done!\n",
      "Working on page 10...   Done!\n",
      "Working on page 11...   Done!\n",
      "Working on page 12...   Done!\n",
      "Working on page 13...   Done!\n",
      "Working on page 14...   Done!\n",
      "Working on page 15...   Done!\n",
      "Working on page 16...   Done!\n",
      "Working on page 17...   Done!\n",
      "Working on page 18...   Done!\n",
      "Working on page 19...   Done!\n",
      "Working on page 20...   Done!\n"
     ]
    }
   ],
   "source": [
    "# Create dataset folder\n",
    "try:\n",
    "    os.mkdir(dataset_location)\n",
    "    print('Created new folder: ' + dataset_location)\n",
    "except:\n",
    "    try:\n",
    "        os.mkdir('..\\\\datasets')\n",
    "        os.mkdir(dataset_location)\n",
    "    except:\n",
    "        print(dataset_location + ' already exists\\n')\n",
    "\n",
    "# Store each page of the request into a Pandas dataframe\n",
    "df_list = []\n",
    "for page in range(1, pages + 1):\n",
    "    print(f'Working on page {page}...', end =\"   \")\n",
    "    response = requests.get(api_url + params + f\"&page={page}\")\n",
    "    data = response.json()\n",
    "    df = pd.json_normalize(data['recordings'])\n",
    "    df_list.append(df)\n",
    "    print('Done!')\n",
    "\n",
    "# Concatenate all dataframes into one and save to disk\n",
    "recordings_dataframe = pd.concat(df_list, ignore_index=True)\n",
    "recordings_dataframe.to_csv(dataset_location + 'metadata.csv', index=False)"
   ]
  },
  {
   "cell_type": "markdown",
   "metadata": {},
   "source": [
    "### British Birdsong Dataset download and preparation"
   ]
  },
  {
   "cell_type": "markdown",
   "metadata": {},
   "source": [
    "Download and preparation of the [British Birdson Dataset](www.kaggle.com/datasets/rtatman/british-birdsong-dataset), a balanced and curated compilation of bird songs the Xeno-Canto database, consisting of 88 species from the UK. The collection was made by Dan Stowell and shared in Kaggle by Rachel Tatman."
   ]
  },
  {
   "cell_type": "markdown",
   "metadata": {},
   "source": [
    "#### Data preparation function declarations\n"
   ]
  },
  {
   "cell_type": "code",
   "execution_count": null,
   "metadata": {},
   "outputs": [],
   "source": [
    "# Generate butterworth highpass coefficients\n",
    "def butter_highpass(cutoff, fs, order=5):\n",
    "    nyq = 0.5 * fs\n",
    "    normal_cutoff = cutoff / nyq\n",
    "    b, a = signal.butter(order, normal_cutoff, btype='high', analog=False)\n",
    "    return b, a\n",
    "\n",
    "\n",
    "# Apply filter to signal\n",
    "def apply_butter_highpass(data, cutoff, fs, order=5):\n",
    "    b, a = butter_highpass(cutoff, fs, order=order)\n",
    "    y = signal.filtfilt(b, a, data)\n",
    "    return y"
   ]
  },
  {
   "cell_type": "code",
   "execution_count": null,
   "metadata": {},
   "outputs": [],
   "source": [
    "# Remove sections of silence or low intensity signal\n",
    "def remove_silence(signal, thresh=18, hop=2048, plot=False):\n",
    "    splits = li.effects.split(\n",
    "        y=signal, top_db=thresh, frame_length=(hop * 2), hop_length=hop\n",
    "    )\n",
    "    if plot:\n",
    "        peak = np.max(signal)\n",
    "        plt.subplots(figsize=(12, 4))\n",
    "        plt.plot(signal)\n",
    "        plt.vlines(splits, ymin=-peak, ymax=peak, color='red')\n",
    "        plt.show()\n",
    "\n",
    "    stripped_audio = []\n",
    "\n",
    "    for s in splits:\n",
    "        split = signal[s[0]: s[1]]\n",
    "        stripped_audio.extend(split)\n",
    "\n",
    "    return np.asarray(stripped_audio)"
   ]
  },
  {
   "cell_type": "code",
   "execution_count": null,
   "metadata": {},
   "outputs": [],
   "source": [
    "# Split audio into segments of desired length\n",
    "def split_audio(signal, target_length, samplerate, plot=False):\n",
    "    duration = li.get_duration(y=signal, sr=samplerate)\n",
    "    n_segments = np.ceil(duration / target_length)\n",
    "    audio_segments = []\n",
    "\n",
    "    for n in range(int(n_segments)):\n",
    "        s = signal[\n",
    "            samplerate * n * target_length: samplerate * (n + 1) * target_length\n",
    "        ]\n",
    "\n",
    "        if len(s) < target_length * samplerate:\n",
    "            s = np.pad(s, (0, target_length * samplerate - len(s)), 'constant')\n",
    "\n",
    "        audio_segments.append(s)\n",
    "\n",
    "        if plot:\n",
    "            plt.plot(s, alpha=1 / n_segments)\n",
    "\n",
    "    if plot:\n",
    "        plt.show()\n",
    "\n",
    "    return audio_segments"
   ]
  },
  {
   "cell_type": "code",
   "execution_count": null,
   "metadata": {},
   "outputs": [],
   "source": [
    "# Apply all signal processing functions to audio and return segments\n",
    "def generate_preprocessed_samples(path, sr, length, hp=700):\n",
    "\n",
    "    y, sr = li.load(path, sr=sr, mono=True)  # Load audio file\n",
    "\n",
    "    y = apply_butter_highpass(\n",
    "        data=y, cutoff=hp, fs=sr, order=5\n",
    "    )  # Apply high-pass filter\n",
    "\n",
    "    # Delete silent sections\n",
    "    y = remove_silence(y, thresh=18, hop=2048, plot=False)\n",
    "\n",
    "    audio_segments = split_audio(\n",
    "        y, target_length=length, samplerate=sr\n",
    "    )  # Split into segments of desired length\n",
    "\n",
    "    return audio_segments"
   ]
  },
  {
   "cell_type": "markdown",
   "metadata": {},
   "source": [
    "#### Dataset download\n"
   ]
  },
  {
   "cell_type": "code",
   "execution_count": null,
   "metadata": {},
   "outputs": [],
   "source": [
    "dataset_url = (\n",
    "    'https://www.kaggle.com/datasets/rtatman/british-birdsong-dataset?resource=download'\n",
    ")\n",
    "dowload_path = '..\\\\datasets\\\\'\n",
    "\n",
    "od.download(dataset_url, data_dir=dowload_path)\n",
    "\n",
    "dataset_path = dowload_path + 'british-birdsong-dataset\\\\'"
   ]
  },
  {
   "cell_type": "code",
   "execution_count": null,
   "metadata": {},
   "outputs": [],
   "source": [
    "# Parse metadata csv\n",
    "metadata = pd.read_csv(\n",
    "    dataset_path + 'birdsong_metadata.csv',\n",
    "    usecols=['file_id', 'genus', 'species', 'english_cname'],\n",
    ")"
   ]
  },
  {
   "cell_type": "markdown",
   "metadata": {},
   "source": [
    "#### Audio data samples preparation"
   ]
  },
  {
   "cell_type": "markdown",
   "metadata": {},
   "source": [
    "User defined constants for audio preparation."
   ]
  },
  {
   "cell_type": "code",
   "execution_count": null,
   "metadata": {},
   "outputs": [],
   "source": [
    "# Target sample rate for resampling audio files\n",
    "SAMPLE_RATE = 16000\n",
    "\n",
    "# Target length for audio segments (in seconds)\n",
    "SAMPLE_LENGTH = 3"
   ]
  },
  {
   "cell_type": "markdown",
   "metadata": {},
   "source": [
    "Read all audio files from directory, apply filter, remove silent sections and split into segments. Save each segment to disk, with filename according to scientific bird name corresponding to dataset metadata."
   ]
  },
  {
   "cell_type": "code",
   "execution_count": null,
   "metadata": {},
   "outputs": [],
   "source": [
    "old_path = dataset_path + 'songs\\\\songs\\\\'\n",
    "audio_path = dataset_path + 'audio\\\\'\n",
    "spec_path = dataset_path + 'spectrograms\\\\'\n",
    "\n",
    "try:\n",
    "    os.mkdir(audio_path)\n",
    "    print('Created new folder: ' + audio_path)\n",
    "except:\n",
    "    print(audio_path + ' already exists\\n')\n",
    "\n",
    "try:\n",
    "    os.mkdir(spec_path)\n",
    "    print('Created new folder: ' + spec_path)\n",
    "except:\n",
    "    print(spec_path + ' already exists\\n')\n",
    "\n",
    "for file in os.listdir(old_path):\n",
    "    id = file.lstrip('xc').rstrip('.flac')\n",
    "    data = metadata.loc[metadata['file_id'] == int(id)]\n",
    "\n",
    "    name = data['genus'].item() + '_' + data['species'].item()\n",
    "    subfolder = audio_path + name + '\\\\'\n",
    "    try:\n",
    "        os.mkdir(subfolder)\n",
    "    except:\n",
    "        pass\n",
    "\n",
    "    # Preprocess audio and get segments of desired length\n",
    "    audio_segments = generate_preprocessed_samples(\n",
    "        old_path + file, sr=SAMPLE_RATE, length=SAMPLE_LENGTH\n",
    "    )\n",
    "\n",
    "    # Iterate through splitted audio segments and save each one as a separate flac file\n",
    "    for i, segment in enumerate(audio_segments):\n",
    "        new_filename = f'{subfolder}{name}_{id}_{i}.flac'\n",
    "        sf.write(new_filename, segment, SAMPLE_RATE, format='flac', subtype='PCM_16')\n",
    "\n",
    "shutil.rmtree(dataset_path + '\\\\songs')\n",
    "\n",
    "print('Finished generating audio samples!')"
   ]
  },
  {
   "cell_type": "markdown",
   "metadata": {},
   "source": [
    "### Preprocess dataset\n"
   ]
  },
  {
   "cell_type": "code",
   "execution_count": null,
   "metadata": {},
   "outputs": [],
   "source": [
    "# Get dataset path\n",
    "dataset_path = '..\\\\datasets\\\\british-birdsong-dataset\\\\'\n",
    "# Get audio path\n",
    "audio_path = dataset_path + \"audio\\\\\"\n",
    "# Get spectrogram path\n",
    "spec_path = dataset_path + \"spectrograms\\\\\""
   ]
  },
  {
   "cell_type": "markdown",
   "metadata": {},
   "source": [
    "Read samples from disk and store file path, label, labels mapping and MFCC data into JSON file."
   ]
  },
  {
   "cell_type": "code",
   "execution_count": null,
   "metadata": {},
   "outputs": [],
   "source": [
    "def preprocess_audio_dataset(data_path, json_path=None, mfcc_count=13, hop=512, fft_len=2048):\n",
    "    data_dict = {\n",
    "        'label_map': [],\n",
    "        'encoded_labels': [],\n",
    "        'mfccs': [],\n",
    "        'files': [],\n",
    "        'spectrograms': [],\n",
    "    }\n",
    "\n",
    "    for i, (path, _, files) in enumerate(os.walk(data_path)):\n",
    "        if path == data_path:  # Ignore parent folder\n",
    "            continue\n",
    "\n",
    "        # Add unique labels to label_map list\n",
    "        label = path.split('\\\\')[-1]\n",
    "        if label not in data_dict['label_map']:\n",
    "            data_dict['label_map'].append(label)\n",
    "\n",
    "        # Create subfolder for spectrograms\n",
    "        os.mkdir(os.path.join(spec_path + label))\n",
    "\n",
    "        for f in files:\n",
    "            # Add encoded label to encoded_labels list\n",
    "            index = data_dict['label_map'].index(label)\n",
    "            data_dict['encoded_labels'].append(index)\n",
    "\n",
    "            # Add file path to files list\n",
    "            data_dict['files'].append(os.path.join(path, f))\n",
    "\n",
    "            # Load audio and add MFCCs to list\n",
    "            y, sr = li.load(os.path.join(path, f), sr=None, mono=True)\n",
    "            mfccs = li.feature.mfcc(y=y, sr=sr, n_mfcc=mfcc_count, hop_length=hop, n_fft=fft_len)\n",
    "\n",
    "            # Cast np.array to list is needed to save as JSON file\n",
    "            data_dict['mfccs'].append(mfccs.transpose().tolist())\n",
    "\n",
    "            # Generate mel spectrogram, add spec path to dict and save to NPY file\n",
    "            mel_spec = li.feature.melspectrogram(\n",
    "                y=y, sr=sr, n_fft=fft_len, hop_length=hop, power=0.5, fmin=200, n_mels=128\n",
    "            ).transpose()  # Transpose may not be needed!\n",
    "\n",
    "            npy_filename = f.replace('.flac', '.npy')\n",
    "            npy_filename = f'{spec_path}\\\\{label}\\\\{npy_filename}'\n",
    "            np.save(npy_filename, mel_spec)\n",
    "            data_dict['spectrograms'].append(npy_filename)\n",
    "\n",
    "    # Store data dictionary in JSON file\n",
    "    if json_path:\n",
    "        with open(json_path, 'w') as jf:\n",
    "            json.dump(data_dict, jf, indent=4)\n",
    "            print(f'Successfully saved preprocessed data to {json_path}!')\n",
    "            file_count = len(data_dict['files'])\n",
    "            print(f'{file_count} audio samples were processed!')"
   ]
  },
  {
   "cell_type": "code",
   "execution_count": null,
   "metadata": {},
   "outputs": [],
   "source": [
    "json_path = dataset_path + 'preprocessed_data.json'\n",
    "preprocess_audio_dataset(audio_path, json_path=json_path, mfcc_count=25)"
   ]
  },
  {
   "cell_type": "markdown",
   "metadata": {},
   "source": [
    "## Build and train Keras models"
   ]
  },
  {
   "cell_type": "markdown",
   "metadata": {},
   "source": [
    "### A. CNN model using MFCCs as input"
   ]
  },
  {
   "cell_type": "markdown",
   "metadata": {},
   "source": [
    "#### A. Read JSON data and generate train/test/validation splits using MFCC data"
   ]
  },
  {
   "cell_type": "code",
   "execution_count": null,
   "metadata": {},
   "outputs": [],
   "source": [
    "def generate_splits_mfcc(data_path, val_split=0.3, test_split=0.1):\n",
    "    # Read JSON and extract X and Y values\n",
    "    with open(data_path, 'r') as jf:\n",
    "        data = json.load(jf)\n",
    "    x = np.array(data['mfccs'])\n",
    "    y = np.array(data['encoded_labels'])\n",
    "    label_map = data['label_map']\n",
    "\n",
    "    # Generate splits\n",
    "    x_train, x_val, y_train, y_val = train_test_split(x, y, test_size=val_split)\n",
    "    x_val, x_test, y_val, y_test = train_test_split(x_val, y_val, test_size=test_split)\n",
    "\n",
    "    # Add third dimension to MFCC arrays\n",
    "    x_train = x_train[..., np.newaxis]\n",
    "    x_test = x_test[..., np.newaxis]\n",
    "    x_val = x_val[..., np.newaxis]\n",
    "\n",
    "    return x_train, x_test, x_val, y_train, y_test, y_val, label_map"
   ]
  },
  {
   "cell_type": "code",
   "execution_count": null,
   "metadata": {},
   "outputs": [],
   "source": [
    "json_path = '..\\\\datasets\\\\british-birdsong-dataset\\\\preprocessed_data.json'\n",
    "\n",
    "x_train, x_test, x_val, y_train, y_test, y_val, label_map = generate_splits_mfcc(json_path)\n",
    "\n",
    "print(\n",
    "    f'• Train dataset: {x_train.shape[0]} files \\n• Validation dataset: {x_val.shape[0]} files \\n• Test dataset: {x_test.shape[0]} files'\n",
    ")"
   ]
  },
  {
   "cell_type": "markdown",
   "metadata": {},
   "source": [
    "#### Define and compile the model"
   ]
  },
  {
   "cell_type": "code",
   "execution_count": null,
   "metadata": {},
   "outputs": [],
   "source": [
    "BATCH_SIZE = 32\n",
    "EPOCHS = 60"
   ]
  },
  {
   "cell_type": "code",
   "execution_count": null,
   "metadata": {},
   "outputs": [],
   "source": [
    "input_shape = (x_train.shape[1], x_train.shape[2], x_train.shape[3])\n",
    "class_count = len(label_map)\n",
    "\n",
    "#TODO: add and test data augmentation layers\n",
    "\n",
    "model = keras.models.Sequential(\n",
    "    [\n",
    "        keras.layers.InputLayer(input_shape=input_shape),\n",
    "        # Convolution layer 1\n",
    "        keras.layers.Conv2D(\n",
    "            filters=64,\n",
    "            kernel_size=(3, 3),\n",
    "            activation='relu',\n",
    "            kernel_regularizer=keras.regularizers.l2(0.001),\n",
    "        ),\n",
    "        keras.layers.BatchNormalization(),\n",
    "        keras.layers.MaxPool2D(pool_size=(3, 3), strides=(2, 2), padding='same'),\n",
    "        # Convolution layer 2\n",
    "        keras.layers.Conv2D(\n",
    "            filters=32,\n",
    "            kernel_size=(3, 3),\n",
    "            activation='relu',\n",
    "            kernel_regularizer=keras.regularizers.l2(0.001),\n",
    "        ),\n",
    "        keras.layers.BatchNormalization(),\n",
    "        keras.layers.MaxPool2D(pool_size=(3, 3), strides=(2, 2), padding='same'),\n",
    "        # Convolution layer 3\n",
    "        # keras.layers.Conv2D(\n",
    "        #     filters=32,\n",
    "        #     kernel_size=(2, 2),\n",
    "        #     activation='relu',\n",
    "        #     kernel_regularizer=keras.regularizers.l2(0.001),\n",
    "        # ),\n",
    "        keras.layers.BatchNormalization(),\n",
    "        keras.layers.MaxPool2D(pool_size=(2, 2), strides=(2, 2), padding='same'),\n",
    "        # Dense layer\n",
    "        keras.layers.Flatten(),\n",
    "        keras.layers.Dense(units=128, activation='relu'),\n",
    "        keras.layers.Dropout(0.4),\n",
    "        # Classification layer\n",
    "        keras.layers.Dense(units=class_count, activation='softmax'),\n",
    "    ]\n",
    ")\n",
    "\n",
    "model.summary()\n",
    "model.compile(optimizer='Adam', loss='sparse_categorical_crossentropy', metrics=['accuracy'])"
   ]
  },
  {
   "cell_type": "markdown",
   "metadata": {},
   "source": [
    "#### Train the model"
   ]
  },
  {
   "cell_type": "code",
   "execution_count": null,
   "metadata": {},
   "outputs": [],
   "source": [
    "history = model.fit(x_train, y_train, epochs=EPOCHS, batch_size=BATCH_SIZE, validation_data=(x_val, y_val))"
   ]
  },
  {
   "cell_type": "markdown",
   "metadata": {},
   "source": [
    "#### Plot model accuracy and loss graphs"
   ]
  },
  {
   "cell_type": "code",
   "execution_count": null,
   "metadata": {},
   "outputs": [],
   "source": [
    "acc = history.history[\"accuracy\"]\n",
    "val_acc = history.history[\"val_accuracy\"]\n",
    "\n",
    "loss = history.history[\"loss\"]\n",
    "val_loss = history.history[\"val_loss\"]\n",
    "\n",
    "epochs_range = range(EPOCHS)\n",
    "\n",
    "plt.figure(figsize=(12, 4))\n",
    "plt.subplot(1, 2, 1)\n",
    "plt.plot(epochs_range, acc, label=\"Training Accuracy\")\n",
    "plt.plot(epochs_range, val_acc, label=\"Validation Accuracy\")\n",
    "plt.grid()\n",
    "plt.legend(loc=\"lower right\")\n",
    "plt.title(\"Training and Validation Accuracy\")\n",
    "\n",
    "plt.subplot(1, 2, 2)\n",
    "plt.plot(epochs_range, loss, label=\"Training Loss\")\n",
    "plt.plot(epochs_range, val_loss, label=\"Validation Loss\")\n",
    "plt.grid()\n",
    "plt.legend(loc=\"upper right\")\n",
    "plt.title(\"Training and Validation Loss\")\n",
    "\n",
    "figure = plt.gcf()\n",
    "plt.show()"
   ]
  },
  {
   "cell_type": "markdown",
   "metadata": {},
   "source": [
    "### B. CNN model using Mel spectrograms as input"
   ]
  },
  {
   "cell_type": "markdown",
   "metadata": {},
   "source": [
    "#### Read JSON data and generate train/test/validation splits using spectrogram data from disk"
   ]
  },
  {
   "cell_type": "code",
   "execution_count": 4,
   "metadata": {},
   "outputs": [],
   "source": [
    "def generate_splits_spectrogram(data_path, val_split=0.2, test_split=0.1):\n",
    "    # Read JSON and get X and Y values\n",
    "    with open(data_path, 'r') as jf:\n",
    "        data = json.load(jf)\n",
    "    x_paths = data['spectrograms']\n",
    "    y = np.array(data['encoded_labels'])\n",
    "    label_map = data['label_map']\n",
    "\n",
    "    # Load spectrograms into numpy array\n",
    "    x = [np.load(path) for path in x_paths]\n",
    "    x = np.array(x)\n",
    "\n",
    "    # Generate splits\n",
    "    x_train, x_val, y_train, y_val = train_test_split(x, y, test_size=val_split)\n",
    "    x_val, x_test, y_val, y_test = train_test_split(x_val, y_val, test_size=test_split)\n",
    "\n",
    "    # Add third dimension to MFCC arrays\n",
    "    x_train = x_train[..., np.newaxis]\n",
    "    x_test = x_test[..., np.newaxis]\n",
    "    x_val = x_val[..., np.newaxis]\n",
    "\n",
    "    return x_train, x_test, x_val, y_train, y_test, y_val, label_map"
   ]
  },
  {
   "cell_type": "code",
   "execution_count": 5,
   "metadata": {},
   "outputs": [
    {
     "name": "stdout",
     "output_type": "stream",
     "text": [
      "• Train dataset: 2049 files \n",
      "• Validation dataset: 461 files \n",
      "• Test dataset: 52 files\n"
     ]
    }
   ],
   "source": [
    "json_path = '..\\\\datasets\\\\british-birdsong-dataset\\\\preprocessed_data.json'\n",
    "\n",
    "x_train, x_test, x_val, y_train, y_test, y_val, label_map = generate_splits_spectrogram(json_path)\n",
    "\n",
    "print(\n",
    "    f'• Train dataset: {x_train.shape[0]} files \\n• Validation dataset: {x_val.shape[0]} files \\n• Test dataset: {x_test.shape[0]} files'\n",
    ")"
   ]
  },
  {
   "cell_type": "markdown",
   "metadata": {},
   "source": [
    "#### Define and compile the model"
   ]
  },
  {
   "cell_type": "code",
   "execution_count": 6,
   "metadata": {},
   "outputs": [],
   "source": [
    "BATCH_SIZE = 32\n",
    "EPOCHS = 60"
   ]
  },
  {
   "cell_type": "code",
   "execution_count": 7,
   "metadata": {},
   "outputs": [
    {
     "name": "stdout",
     "output_type": "stream",
     "text": [
      "Model: \"sequential\"\n",
      "_________________________________________________________________\n",
      " Layer (type)                Output Shape              Param #   \n",
      "=================================================================\n",
      " conv2d (Conv2D)             (None, 92, 126, 64)       640       \n",
      "                                                                 \n",
      " batch_normalization (BatchN  (None, 92, 126, 64)      256       \n",
      " ormalization)                                                   \n",
      "                                                                 \n",
      " max_pooling2d (MaxPooling2D  (None, 46, 63, 64)       0         \n",
      " )                                                               \n",
      "                                                                 \n",
      " conv2d_1 (Conv2D)           (None, 44, 61, 32)        18464     \n",
      "                                                                 \n",
      " batch_normalization_1 (Batc  (None, 44, 61, 32)       128       \n",
      " hNormalization)                                                 \n",
      "                                                                 \n",
      " max_pooling2d_1 (MaxPooling  (None, 22, 31, 32)       0         \n",
      " 2D)                                                             \n",
      "                                                                 \n",
      " conv2d_2 (Conv2D)           (None, 21, 30, 32)        4128      \n",
      "                                                                 \n",
      " batch_normalization_2 (Batc  (None, 21, 30, 32)       128       \n",
      " hNormalization)                                                 \n",
      "                                                                 \n",
      " max_pooling2d_2 (MaxPooling  (None, 11, 15, 32)       0         \n",
      " 2D)                                                             \n",
      "                                                                 \n",
      " flatten (Flatten)           (None, 5280)              0         \n",
      "                                                                 \n",
      " dense (Dense)               (None, 128)               675968    \n",
      "                                                                 \n",
      " dropout (Dropout)           (None, 128)               0         \n",
      "                                                                 \n",
      " dense_1 (Dense)             (None, 88)                11352     \n",
      "                                                                 \n",
      "=================================================================\n",
      "Total params: 711,064\n",
      "Trainable params: 710,808\n",
      "Non-trainable params: 256\n",
      "_________________________________________________________________\n"
     ]
    }
   ],
   "source": [
    "input_shape = (x_train.shape[1], x_train.shape[2], x_train.shape[3])\n",
    "class_count = len(label_map)\n",
    "\n",
    "#TODO: add and test data augmentation layers\n",
    "\n",
    "model = keras.models.Sequential(\n",
    "    [\n",
    "        keras.layers.InputLayer(input_shape=input_shape),\n",
    "        # Convolution layer 1\n",
    "        keras.layers.Conv2D(\n",
    "            filters=64,\n",
    "            kernel_size=(3, 3),\n",
    "            activation='relu',\n",
    "            kernel_regularizer=keras.regularizers.l2(0.001),\n",
    "        ),\n",
    "        keras.layers.BatchNormalization(),\n",
    "        keras.layers.MaxPool2D(pool_size=(3, 3), strides=(2, 2), padding='same'),\n",
    "        # Convolution layer 2\n",
    "        keras.layers.Conv2D(\n",
    "            filters=32,\n",
    "            kernel_size=(3, 3),\n",
    "            activation='relu',\n",
    "            kernel_regularizer=keras.regularizers.l2(0.001),\n",
    "        ),\n",
    "        keras.layers.BatchNormalization(),\n",
    "        keras.layers.MaxPool2D(pool_size=(3, 3), strides=(2, 2), padding='same'),\n",
    "        # Convolution layer 3\n",
    "        keras.layers.Conv2D(\n",
    "            filters=32,\n",
    "            kernel_size=(2, 2),\n",
    "            activation='relu',\n",
    "            kernel_regularizer=keras.regularizers.l2(0.001),\n",
    "        ),\n",
    "        keras.layers.BatchNormalization(),\n",
    "        keras.layers.MaxPool2D(pool_size=(2, 2), strides=(2, 2), padding='same'),\n",
    "        # Dense layer\n",
    "        keras.layers.Flatten(),\n",
    "        keras.layers.Dense(units=128, activation='relu'),\n",
    "        keras.layers.Dropout(0.4),\n",
    "        # Classification layer\n",
    "        keras.layers.Dense(units=class_count, activation='softmax'),\n",
    "    ]\n",
    ")\n",
    "\n",
    "model.summary()\n",
    "model.compile(optimizer='Adam', loss='sparse_categorical_crossentropy', metrics=['accuracy'])"
   ]
  },
  {
   "cell_type": "markdown",
   "metadata": {},
   "source": [
    "#### Train the model"
   ]
  },
  {
   "cell_type": "code",
   "execution_count": 8,
   "metadata": {},
   "outputs": [
    {
     "name": "stdout",
     "output_type": "stream",
     "text": [
      "Epoch 1/60\n",
      "65/65 [==============================] - 17s 246ms/step - loss: 3.5716 - accuracy: 0.2704 - val_loss: 6.3148 - val_accuracy: 0.0889\n",
      "Epoch 2/60\n",
      "65/65 [==============================] - 16s 245ms/step - loss: 2.3723 - accuracy: 0.4695 - val_loss: 10.5310 - val_accuracy: 0.0889\n",
      "Epoch 3/60\n",
      "65/65 [==============================] - 17s 257ms/step - loss: 1.8890 - accuracy: 0.5666 - val_loss: 13.7471 - val_accuracy: 0.0195\n",
      "Epoch 4/60\n",
      "65/65 [==============================] - 16s 251ms/step - loss: 1.5203 - accuracy: 0.6423 - val_loss: 14.6289 - val_accuracy: 0.0347\n",
      "Epoch 5/60\n",
      "65/65 [==============================] - 16s 244ms/step - loss: 1.1634 - accuracy: 0.7125 - val_loss: 16.0371 - val_accuracy: 0.0195\n",
      "Epoch 6/60\n",
      "65/65 [==============================] - 16s 249ms/step - loss: 1.0624 - accuracy: 0.7326 - val_loss: 13.2302 - val_accuracy: 0.0998\n",
      "Epoch 7/60\n",
      "65/65 [==============================] - 16s 246ms/step - loss: 0.8922 - accuracy: 0.7887 - val_loss: 12.2181 - val_accuracy: 0.0738\n",
      "Epoch 8/60\n",
      "65/65 [==============================] - 16s 245ms/step - loss: 0.8151 - accuracy: 0.8038 - val_loss: 5.3726 - val_accuracy: 0.2798\n",
      "Epoch 9/60\n",
      "65/65 [==============================] - 16s 244ms/step - loss: 0.6848 - accuracy: 0.8272 - val_loss: 4.2719 - val_accuracy: 0.3709\n",
      "Epoch 10/60\n",
      "65/65 [==============================] - 16s 243ms/step - loss: 0.5207 - accuracy: 0.8780 - val_loss: 1.7472 - val_accuracy: 0.6725\n",
      "Epoch 11/60\n",
      "65/65 [==============================] - 16s 243ms/step - loss: 0.6347 - accuracy: 0.8555 - val_loss: 1.6642 - val_accuracy: 0.7072\n",
      "Epoch 12/60\n",
      "65/65 [==============================] - 16s 243ms/step - loss: 0.5697 - accuracy: 0.8653 - val_loss: 1.4178 - val_accuracy: 0.7332\n",
      "Epoch 13/60\n",
      "65/65 [==============================] - 16s 243ms/step - loss: 0.4652 - accuracy: 0.8843 - val_loss: 1.2472 - val_accuracy: 0.7852\n",
      "Epoch 14/60\n",
      "65/65 [==============================] - 16s 243ms/step - loss: 0.5004 - accuracy: 0.8853 - val_loss: 1.2890 - val_accuracy: 0.7809\n",
      "Epoch 15/60\n",
      "65/65 [==============================] - 16s 244ms/step - loss: 0.3846 - accuracy: 0.9136 - val_loss: 1.2683 - val_accuracy: 0.7722\n",
      "Epoch 16/60\n",
      "65/65 [==============================] - 16s 244ms/step - loss: 0.3575 - accuracy: 0.9175 - val_loss: 1.4021 - val_accuracy: 0.7570\n",
      "Epoch 17/60\n",
      "65/65 [==============================] - 16s 244ms/step - loss: 0.3205 - accuracy: 0.9268 - val_loss: 1.1632 - val_accuracy: 0.7809\n",
      "Epoch 18/60\n",
      "65/65 [==============================] - 16s 244ms/step - loss: 0.2945 - accuracy: 0.9346 - val_loss: 1.2632 - val_accuracy: 0.7679\n",
      "Epoch 19/60\n",
      "65/65 [==============================] - 16s 243ms/step - loss: 0.6227 - accuracy: 0.8526 - val_loss: 2.0534 - val_accuracy: 0.6139\n",
      "Epoch 20/60\n",
      "65/65 [==============================] - 16s 243ms/step - loss: 0.4134 - accuracy: 0.9112 - val_loss: 1.7643 - val_accuracy: 0.6833\n",
      "Epoch 21/60\n",
      "65/65 [==============================] - 16s 245ms/step - loss: 0.5052 - accuracy: 0.8760 - val_loss: 2.1000 - val_accuracy: 0.6616\n",
      "Epoch 22/60\n",
      "65/65 [==============================] - 18s 272ms/step - loss: 0.3369 - accuracy: 0.9287 - val_loss: 1.3928 - val_accuracy: 0.7527\n",
      "Epoch 23/60\n",
      "65/65 [==============================] - 16s 245ms/step - loss: 0.3898 - accuracy: 0.9141 - val_loss: 1.2883 - val_accuracy: 0.7679\n",
      "Epoch 24/60\n",
      "65/65 [==============================] - 16s 244ms/step - loss: 0.3079 - accuracy: 0.9317 - val_loss: 1.1722 - val_accuracy: 0.7744\n",
      "Epoch 25/60\n",
      "65/65 [==============================] - 16s 245ms/step - loss: 0.2989 - accuracy: 0.9341 - val_loss: 1.8583 - val_accuracy: 0.7050\n",
      "Epoch 26/60\n",
      "65/65 [==============================] - 16s 244ms/step - loss: 0.2602 - accuracy: 0.9449 - val_loss: 1.6211 - val_accuracy: 0.7679\n",
      "Epoch 27/60\n",
      "65/65 [==============================] - 16s 244ms/step - loss: 0.3136 - accuracy: 0.9336 - val_loss: 1.6397 - val_accuracy: 0.7614\n",
      "Epoch 28/60\n",
      "65/65 [==============================] - 16s 245ms/step - loss: 0.3478 - accuracy: 0.9234 - val_loss: 1.6062 - val_accuracy: 0.7505\n",
      "Epoch 29/60\n",
      "65/65 [==============================] - 16s 245ms/step - loss: 0.2721 - accuracy: 0.9488 - val_loss: 1.4392 - val_accuracy: 0.7831\n",
      "Epoch 30/60\n",
      "65/65 [==============================] - 16s 245ms/step - loss: 0.2979 - accuracy: 0.9385 - val_loss: 1.7037 - val_accuracy: 0.7310\n",
      "Epoch 31/60\n",
      "65/65 [==============================] - 16s 244ms/step - loss: 0.2430 - accuracy: 0.9541 - val_loss: 1.4668 - val_accuracy: 0.7809\n",
      "Epoch 32/60\n",
      "65/65 [==============================] - 16s 243ms/step - loss: 0.2128 - accuracy: 0.9595 - val_loss: 1.2418 - val_accuracy: 0.8091\n",
      "Epoch 33/60\n",
      "65/65 [==============================] - 16s 245ms/step - loss: 0.2251 - accuracy: 0.9551 - val_loss: 1.4740 - val_accuracy: 0.7896\n",
      "Epoch 34/60\n",
      "65/65 [==============================] - 16s 245ms/step - loss: 0.2183 - accuracy: 0.9595 - val_loss: 1.4024 - val_accuracy: 0.7896\n",
      "Epoch 35/60\n",
      "65/65 [==============================] - 16s 244ms/step - loss: 0.3628 - accuracy: 0.9165 - val_loss: 1.5513 - val_accuracy: 0.7245\n",
      "Epoch 36/60\n",
      "65/65 [==============================] - 16s 244ms/step - loss: 0.2393 - accuracy: 0.9507 - val_loss: 1.3290 - val_accuracy: 0.7766\n",
      "Epoch 37/60\n",
      "65/65 [==============================] - 16s 244ms/step - loss: 0.2127 - accuracy: 0.9546 - val_loss: 1.5098 - val_accuracy: 0.8048\n",
      "Epoch 38/60\n",
      "65/65 [==============================] - 16s 247ms/step - loss: 0.2940 - accuracy: 0.9395 - val_loss: 1.7811 - val_accuracy: 0.7397\n",
      "Epoch 39/60\n",
      "65/65 [==============================] - 16s 247ms/step - loss: 0.3374 - accuracy: 0.9302 - val_loss: 1.6280 - val_accuracy: 0.7592\n",
      "Epoch 40/60\n",
      "65/65 [==============================] - 16s 246ms/step - loss: 0.2562 - accuracy: 0.9473 - val_loss: 1.6492 - val_accuracy: 0.7549\n",
      "Epoch 41/60\n",
      "65/65 [==============================] - 16s 245ms/step - loss: 0.2079 - accuracy: 0.9629 - val_loss: 1.6125 - val_accuracy: 0.7874\n",
      "Epoch 42/60\n",
      "65/65 [==============================] - 16s 245ms/step - loss: 0.2523 - accuracy: 0.9522 - val_loss: 2.7260 - val_accuracy: 0.6659\n",
      "Epoch 43/60\n",
      "65/65 [==============================] - 16s 245ms/step - loss: 0.2464 - accuracy: 0.9536 - val_loss: 10.4415 - val_accuracy: 0.3492\n",
      "Epoch 44/60\n",
      "65/65 [==============================] - 16s 244ms/step - loss: 0.3870 - accuracy: 0.9239 - val_loss: 1.7633 - val_accuracy: 0.7397\n",
      "Epoch 45/60\n",
      "65/65 [==============================] - 16s 245ms/step - loss: 0.4587 - accuracy: 0.8985 - val_loss: 2.0357 - val_accuracy: 0.6616\n",
      "Epoch 46/60\n",
      "65/65 [==============================] - 16s 244ms/step - loss: 0.2869 - accuracy: 0.9453 - val_loss: 1.5875 - val_accuracy: 0.7419\n",
      "Epoch 47/60\n",
      "65/65 [==============================] - 16s 244ms/step - loss: 0.4079 - accuracy: 0.9190 - val_loss: 2.8141 - val_accuracy: 0.5965\n",
      "Epoch 48/60\n",
      "65/65 [==============================] - 16s 244ms/step - loss: 0.2501 - accuracy: 0.9522 - val_loss: 2.2759 - val_accuracy: 0.6616\n",
      "Epoch 49/60\n",
      "65/65 [==============================] - 16s 243ms/step - loss: 0.2153 - accuracy: 0.9624 - val_loss: 1.8059 - val_accuracy: 0.7202\n",
      "Epoch 50/60\n",
      "65/65 [==============================] - 16s 244ms/step - loss: 0.1866 - accuracy: 0.9644 - val_loss: 1.5022 - val_accuracy: 0.8004\n",
      "Epoch 51/60\n",
      "65/65 [==============================] - 16s 245ms/step - loss: 0.1595 - accuracy: 0.9717 - val_loss: 1.5663 - val_accuracy: 0.7961\n",
      "Epoch 52/60\n",
      "65/65 [==============================] - 16s 246ms/step - loss: 0.1761 - accuracy: 0.9693 - val_loss: 1.4584 - val_accuracy: 0.8091\n",
      "Epoch 53/60\n",
      "65/65 [==============================] - 16s 244ms/step - loss: 0.1708 - accuracy: 0.9712 - val_loss: 1.6201 - val_accuracy: 0.7939\n",
      "Epoch 54/60\n",
      "65/65 [==============================] - 16s 245ms/step - loss: 0.1700 - accuracy: 0.9736 - val_loss: 1.7998 - val_accuracy: 0.7766\n",
      "Epoch 55/60\n",
      "65/65 [==============================] - 16s 244ms/step - loss: 0.1720 - accuracy: 0.9741 - val_loss: 1.6542 - val_accuracy: 0.7918\n",
      "Epoch 56/60\n",
      "65/65 [==============================] - 16s 244ms/step - loss: 0.3373 - accuracy: 0.9346 - val_loss: 1.9419 - val_accuracy: 0.7007\n",
      "Epoch 57/60\n",
      "65/65 [==============================] - 16s 244ms/step - loss: 0.2099 - accuracy: 0.9580 - val_loss: 1.5801 - val_accuracy: 0.7787\n",
      "Epoch 58/60\n",
      "65/65 [==============================] - 16s 243ms/step - loss: 0.2196 - accuracy: 0.9566 - val_loss: 1.7357 - val_accuracy: 0.7722\n",
      "Epoch 59/60\n",
      "65/65 [==============================] - 16s 244ms/step - loss: 0.1802 - accuracy: 0.9673 - val_loss: 1.7291 - val_accuracy: 0.7831\n",
      "Epoch 60/60\n",
      "65/65 [==============================] - 16s 243ms/step - loss: 0.1804 - accuracy: 0.9702 - val_loss: 2.0277 - val_accuracy: 0.7679\n"
     ]
    }
   ],
   "source": [
    "history = model.fit(x_train, y_train, epochs=EPOCHS, batch_size=BATCH_SIZE, validation_data=(x_val, y_val))"
   ]
  },
  {
   "cell_type": "markdown",
   "metadata": {},
   "source": [
    "#### Plot model accuracy and loss graphs"
   ]
  },
  {
   "cell_type": "code",
   "execution_count": 10,
   "metadata": {},
   "outputs": [
    {
     "data": {
      "image/png": "[encoded data removed]",
      "text/plain": [
       "<Figure size 1200x400 with 2 Axes>"
      ]
     },
     "metadata": {},
     "output_type": "display_data"
    }
   ],
   "source": [
    "acc = history.history[\"accuracy\"]\n",
    "val_acc = history.history[\"val_accuracy\"]\n",
    "\n",
    "loss = history.history[\"loss\"]\n",
    "val_loss = history.history[\"val_loss\"]\n",
    "\n",
    "epochs_range = range(EPOCHS)\n",
    "\n",
    "plt.figure(figsize=(12, 4))\n",
    "plt.subplot(1, 2, 1)\n",
    "plt.plot(epochs_range, acc, label=\"Training Accuracy\")\n",
    "plt.plot(epochs_range, val_acc, label=\"Validation Accuracy\")\n",
    "plt.grid()\n",
    "plt.legend(loc=\"lower right\")\n",
    "plt.title(\"Training and Validation Accuracy\")\n",
    "\n",
    "plt.subplot(1, 2, 2)\n",
    "plt.plot(epochs_range, loss, label=\"Training Loss\")\n",
    "plt.plot(epochs_range, val_loss, label=\"Validation Loss\")\n",
    "plt.grid()\n",
    "plt.legend(loc=\"upper right\")\n",
    "plt.title(\"Training and Validation Loss\")\n",
    "\n",
    "figure = plt.gcf()\n",
    "plt.show()"
   ]
  },
  {
   "cell_type": "markdown",
   "metadata": {},
   "source": [
    "## Save and load models"
   ]
  },
  {
   "cell_type": "markdown",
   "metadata": {},
   "source": [
    "#### Save model to disk"
   ]
  },
  {
   "cell_type": "code",
   "execution_count": 11,
   "metadata": {},
   "outputs": [
    {
     "name": "stdout",
     "output_type": "stream",
     "text": [
      "Model successfully saved to ../models/02-cnn_mel_spectrogram-british_dataset/02-cnn_mel_spectrogram-british_dataset.\n"
     ]
    }
   ],
   "source": [
    "model_name = str(input(\"Enter a title for the saved model...\"))\n",
    "model_path = f\"../models/{model_name}/\"\n",
    "\n",
    "if model_name:\n",
    "    try:\n",
    "        os.mkdir(model_path)\n",
    "        model.save(model_path + f\"{model_name}.keras\")\n",
    "        print(f\"Model successfully saved to {model_path}{model_name}.\")\n",
    "\n",
    "        # Remember to execute plotting cell first\n",
    "        figure.savefig(model_path + f\"{model_name}.png\")\n",
    "    except:\n",
    "        raise (\n",
    "            \"ERROR: Model name is already in use. Pick another name and try again.\"\n",
    "        )"
   ]
  },
  {
   "cell_type": "markdown",
   "metadata": {},
   "source": [
    "#### Load previous model"
   ]
  },
  {
   "cell_type": "code",
   "execution_count": null,
   "metadata": {},
   "outputs": [],
   "source": [
    "model_name = str(input(\"Type model name...\"))\n",
    "\n",
    "if model_name:\n",
    "    model_path = f\"../models/{model_name}/\"\n",
    "\n",
    "# model = tf.keras.models.load_model(model_path + f\"{model_name}.keras\")"
   ]
  },
  {
   "cell_type": "markdown",
   "metadata": {},
   "source": [
    "## TO-DO:\n",
    "- ~~Test different segment length (1s)~~\n",
    "- ~~Test different values for conv layers~~\n",
    "- ~~Test different amount of neurons for dense layers~~\n",
    "- Noise/reverb/distortion/etc audio data augmentation in data preparation stage\n",
    "- ~~Test MFCC vs mel spectrogam performance~~\n",
    "    - ~~Add spectrogram generation and file saving in data preparation stage~~\n",
    "- Try to implement a LSTM model and compare results to CNN"
   ]
  }
 ],
 "metadata": {
  "kernelspec": {
   "display_name": "tf_audio",
   "language": "python",
   "name": "python3"
  },
  "language_info": {
   "codemirror_mode": {
    "name": "ipython",
    "version": 3
   },
   "file_extension": ".py",
   "mimetype": "text/x-python",
   "name": "python",
   "nbconvert_exporter": "python",
   "pygments_lexer": "ipython3",
   "version": "3.9.18"
  }
 },
 "nbformat": 4,
 "nbformat_minor": 2
}
