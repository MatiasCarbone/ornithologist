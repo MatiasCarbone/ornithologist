{
 "cells": [
  {
   "cell_type": "markdown",
   "metadata": {},
   "source": [
    "### Import required packages"
   ]
  },
  {
   "cell_type": "code",
   "execution_count": 1,
   "metadata": {},
   "outputs": [],
   "source": [
    "import pandas as pd\n",
    "import os\n",
    "import opendatasets as od\n",
    "import librosa as li\n",
    "import matplotlib.pyplot as plt"
   ]
  },
  {
   "cell_type": "markdown",
   "metadata": {},
   "source": [
    "### Import and Explore Dataset\n",
    "Currently using the [British Birdsong Dataset](https://www.kaggle.com/datasets/rtatman/british-birdsong-dataset?resource=download)."
   ]
  },
  {
   "cell_type": "code",
   "execution_count": 2,
   "metadata": {},
   "outputs": [
    {
     "name": "stdout",
     "output_type": "stream",
     "text": [
      "Skipping, found downloaded files in \"../datasets\\british-birdsong-dataset\" (use force=True to force download)\n"
     ]
    }
   ],
   "source": [
    "dataset_url = 'https://www.kaggle.com/datasets/rtatman/british-birdsong-dataset?resource=download'\n",
    "path_to_download = '../datasets'\n",
    "\n",
    "od.download(dataset_url, data_dir=path_to_download)"
   ]
  },
  {
   "cell_type": "code",
   "execution_count": 4,
   "metadata": {},
   "outputs": [
    {
     "data": {
      "image/png": "[encoded data removed]",
      "text/plain": [
       "<Figure size 1200x400 with 1 Axes>"
      ]
     },
     "metadata": {},
     "output_type": "display_data"
    }
   ],
   "source": [
    "# Load all files and make a list of all durations\n",
    "sound_files_path = path_to_download + '/british-birdsong-dataset/songs/songs/'\n",
    "\n",
    "duration_list = []\n",
    "\n",
    "for filename in os.listdir(sound_files_path):\n",
    "  y, sr = li.load(sound_files_path + filename)\n",
    "  \n",
    "  duration_list.append(\n",
    "    li.get_duration(y=y, sr=sr)\n",
    "  )\n",
    "  \n",
    "# Plot histogram of audio file durations\n",
    "plt.subplots(figsize=(12,4))\n",
    "plt.title('Audio File Duration')\n",
    "plt.xlabel('Time in seconds')\n",
    "plt.ylabel('Number of files')\n",
    "plt.xticks(range(0, 300, 10))\n",
    "plt.hist(duration_list, bins=100)\n",
    "plt.show()"
   ]
  },
  {
   "cell_type": "code",
   "execution_count": 3,
   "metadata": {},
   "outputs": [],
   "source": [
    "csv_path = path_to_download + '/british-birdsong-dataset/birdsong_metadata.csv'\n",
    "df = pd.read_csv(csv_path)"
   ]
  },
  {
   "cell_type": "code",
   "execution_count": 4,
   "metadata": {},
   "outputs": [
    {
     "data": {
      "text/html": [
       "<div>\n",
       "<style scoped>\n",
       "    .dataframe tbody tr th:only-of-type {\n",
       "        vertical-align: middle;\n",
       "    }\n",
       "\n",
       "    .dataframe tbody tr th {\n",
       "        vertical-align: top;\n",
       "    }\n",
       "\n",
       "    .dataframe thead th {\n",
       "        text-align: right;\n",
       "    }\n",
       "</style>\n",
       "<table border=\"1\" class=\"dataframe\">\n",
       "  <thead>\n",
       "    <tr style=\"text-align: right;\">\n",
       "      <th></th>\n",
       "      <th>count</th>\n",
       "    </tr>\n",
       "    <tr>\n",
       "      <th>english_cname</th>\n",
       "      <th></th>\n",
       "    </tr>\n",
       "  </thead>\n",
       "  <tbody>\n",
       "    <tr>\n",
       "      <th>Common Redpoll</th>\n",
       "      <td>3</td>\n",
       "    </tr>\n",
       "    <tr>\n",
       "      <th>Marsh Warbler</th>\n",
       "      <td>3</td>\n",
       "    </tr>\n",
       "  </tbody>\n",
       "</table>\n",
       "</div>"
      ],
      "text/plain": [
       "                count\n",
       "english_cname        \n",
       "Common Redpoll      3\n",
       "Marsh Warbler       3"
      ]
     },
     "execution_count": 4,
     "metadata": {},
     "output_type": "execute_result"
    }
   ],
   "source": [
    "species_count = df[['english_cname', 'file_id']].groupby('english_cname').count().rename(columns={'file_id':'count'})\n",
    "\n",
    "species_count"
   ]
  },
  {
   "cell_type": "code",
   "execution_count": 23,
   "metadata": {},
   "outputs": [
    {
     "name": "stdout",
     "output_type": "stream",
     "text": [
      "38.55673469387755\n",
      "1700352.0\n",
      "12.695510204081632\n",
      "559872.0\n",
      "5.067755102040817\n",
      "shorter\n",
      "16.22204081632653\n",
      "715392.0\n",
      "12.93061224489796\n",
      "570240.0\n",
      "17.580408163265307\n",
      "775296.0\n"
     ]
    }
   ],
   "source": [
    "csv_path = path_to_download + '/british-birdsong-dataset/birdsong_metadata.csv'\n",
    "sound_files_path = path_to_download + '/british-birdsong-dataset/songs/songs/'\n",
    "\n",
    "metadata = pd.read_csv(csv_path)[['file_id', 'english_cname']]\n",
    "\n",
    "audio_data = []\n",
    "labels = []\n",
    "\n",
    "SAMPLE_RATE = 44100\n",
    "LENGTH_SECONDS = 10\n",
    "\n",
    "for i in metadata.itertuples():\n",
    "  filename = sound_files_path + 'xc' + str(i[1]) + '.flac'\n",
    "  \n",
    "  # Read file and get duration\n",
    "  y, sr = li.load(filename, sr=None)\n",
    "  duration = li.get_duration(y=y, sr=sr)\n",
    "  \n",
    "  # If longer than target duration, split it in segments and append it\n",
    "  if duration > LENGTH_SECONDS:\n",
    "    for i in range(int(duration / LENGTH_SECONDS) + 1):\n",
    "      sample = y[i * sr * LENGTH_SECONDS : (i + 1) * sr * LENGTH_SECONDS]\n",
    "      audio_data.append(sample)\n",
    "      labels.append(i[2])\n",
    "  \n",
    "  else:  \n",
    "    audio_data.append(y)\n",
    "    labels.append(i[2])\n",
    "  \n",
    "  if sr != SAMPLE_RATE:\n",
    "    print(f'WARNING: Sample rate mismatch for xc{str(i[1])}.flac')\n",
    "  "
   ]
  }
 ],
 "metadata": {
  "kernelspec": {
   "display_name": "ml",
   "language": "python",
   "name": "python3"
  },
  "language_info": {
   "codemirror_mode": {
    "name": "ipython",
    "version": 3
   },
   "file_extension": ".py",
   "mimetype": "text/x-python",
   "name": "python",
   "nbconvert_exporter": "python",
   "pygments_lexer": "ipython3",
   "version": "3.8.18"
  }
 },
 "nbformat": 4,
 "nbformat_minor": 2
}
