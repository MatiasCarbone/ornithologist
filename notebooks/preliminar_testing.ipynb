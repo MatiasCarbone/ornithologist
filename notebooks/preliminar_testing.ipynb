{
 "cells": [
  {
   "cell_type": "markdown",
   "metadata": {},
   "source": [
    "### Import required packages"
   ]
  },
  {
   "cell_type": "code",
   "execution_count": 1,
   "metadata": {},
   "outputs": [],
   "source": [
    "import pandas as pd\n",
    "import os\n",
    "import opendatasets as od\n",
    "import librosa as li\n",
    "import matplotlib.pyplot as plt"
   ]
  },
  {
   "cell_type": "markdown",
   "metadata": {},
   "source": [
    "### Import and Explore Dataset\n",
    "Currently using the [British Birdsong Dataset](https://www.kaggle.com/datasets/rtatman/british-birdsong-dataset?resource=download)."
   ]
  },
  {
   "cell_type": "code",
   "execution_count": 2,
   "metadata": {},
   "outputs": [
    {
     "name": "stdout",
     "output_type": "stream",
     "text": [
      "Skipping, found downloaded files in \"../datasets\\british-birdsong-dataset\" (use force=True to force download)\n"
     ]
    }
   ],
   "source": [
    "dataset_url = 'https://www.kaggle.com/datasets/rtatman/british-birdsong-dataset?resource=download'\n",
    "path_to_download = '../datasets'\n",
    "\n",
    "od.download(dataset_url, data_dir=path_to_download)"
   ]
  },
  {
   "cell_type": "code",
   "execution_count": 3,
   "metadata": {},
   "outputs": [],
   "source": [
    "# Load all files and make a list of all durations\n",
    "sound_files_path = path_to_download + '/british-birdsong-dataset/songs/songs/'\n",
    "\n",
    "duration_list = []\n",
    "\n",
    "for filename in os.listdir(sound_files_path):\n",
    "  y, sr = li.load(sound_files_path + filename)\n",
    "  \n",
    "  duration_list.append(\n",
    "    li.get_duration(y=y, sr=sr)\n",
    "  )\n",
    "  \n",
    "# Plot histogram of audio file durations\n",
    "plt.subplots(figsize=(12,4))\n",
    "plt.title('Audio File Duration')\n",
    "plt.xlabel('Time in seconds')\n",
    "plt.ylabel('Number of files')\n",
    "plt.xticks(range(0, 300, 10))\n",
    "plt.hist(duration_list, bins=100)\n",
    "plt.show()"
   ]
  }
 ],
 "metadata": {
  "kernelspec": {
   "display_name": "ml",
   "language": "python",
   "name": "python3"
  },
  "language_info": {
   "codemirror_mode": {
    "name": "ipython",
    "version": 3
   },
   "file_extension": ".py",
   "mimetype": "text/x-python",
   "name": "python",
   "nbconvert_exporter": "python",
   "pygments_lexer": "ipython3",
   "version": "3.8.18"
  }
 },
 "nbformat": 4,
 "nbformat_minor": 2
}
