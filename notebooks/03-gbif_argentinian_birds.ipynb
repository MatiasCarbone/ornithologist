{
 "cells": [
  {
   "cell_type": "code",
   "execution_count": 1,
   "metadata": {},
   "outputs": [],
   "source": [
    "import os\n",
    "import requests\n",
    "import json\n",
    "import time\n",
    "import random"
   ]
  },
  {
   "cell_type": "markdown",
   "metadata": {},
   "source": [
    "### Download Argentinian Passeriformes dataset from Xeno-Canto"
   ]
  },
  {
   "cell_type": "markdown",
   "metadata": {},
   "source": [
    "#### Query Xeno-Canto API and save response as JSON file."
   ]
  },
  {
   "cell_type": "code",
   "execution_count": 2,
   "metadata": {},
   "outputs": [],
   "source": [
    "dataset_location = '..\\\\datasets\\\\xeno-canto_argentina\\\\'\n",
    "\n",
    "# Query variables\n",
    "country = 'argentina'\n",
    "group = 'birds'\n",
    "length = '12-60'\n",
    "since = '2014-01-01'"
   ]
  },
  {
   "cell_type": "code",
   "execution_count": 3,
   "metadata": {},
   "outputs": [
    {
     "name": "stdout",
     "output_type": "stream",
     "text": [
      "• Query result: status-code 200\n",
      "• Found 3949 recordings in 8 pages.\n"
     ]
    }
   ],
   "source": [
    "url = \"https://xeno-canto.org/api/2/recordings?query=\"\n",
    "params = f\"cnt:{country}+grp:{group}+len:{length}+since:{since}\"\n",
    "\n",
    "response = requests.get(url + params)\n",
    "\n",
    "print(f'• Query result: status-code {response.status_code}')\n",
    "\n",
    "if response.status_code == 200:\n",
    "  data = response.json()\n",
    "  \n",
    "  n_rec = data['numRecordings']\n",
    "  pages = data['numPages']\n",
    "  print(f'• Found {n_rec} recordings in {pages} pages.')"
   ]
  },
  {
   "cell_type": "code",
   "execution_count": 4,
   "metadata": {},
   "outputs": [
    {
     "name": "stdout",
     "output_type": "stream",
     "text": [
      "• Saved page 1 as query_1.json\n",
      "• Saved page 2 as query_2.json\n",
      "• Saved page 3 as query_3.json\n",
      "• Saved page 4 as query_4.json\n",
      "• Saved page 5 as query_5.json\n",
      "• Saved page 6 as query_6.json\n",
      "• Saved page 7 as query_7.json\n",
      "• Saved page 8 as query_8.json\n"
     ]
    }
   ],
   "source": [
    "# Write json files for all pages\n",
    "for p in range(1, pages + 1):\n",
    "  response = requests.get(url + params + f'&page={p}')\n",
    "  data = response.json()\n",
    "  \n",
    "  filename = f\"query_{str(p)}.json\"\n",
    "  with open(dataset_location + filename, \"w\") as file:\n",
    "    json.dump(data, file, sort_keys=True, indent=4)\n",
    "    print(f'• Saved page {p} as {filename}')"
   ]
  },
  {
   "cell_type": "markdown",
   "metadata": {},
   "source": [
    "#### Download files to dataset audio folder.\n",
    "Each category will be downloaded to their corresponding subfolder."
   ]
  },
  {
   "cell_type": "code",
   "execution_count": 5,
   "metadata": {},
   "outputs": [
    {
     "name": "stdout",
     "output_type": "stream",
     "text": [
      "Created ..\\datasets\\xeno-canto_argentina\\audio\\\n"
     ]
    }
   ],
   "source": [
    "# Create audio folder inside dataset.\n",
    "audio_location = dataset_location + 'audio\\\\'\n",
    "try:\n",
    "  os.mkdir(audio_location)\n",
    "  print(f'Created {audio_location}')\n",
    "except:\n",
    "  print('Folder already existed.')"
   ]
  },
  {
   "cell_type": "code",
   "execution_count": null,
   "metadata": {},
   "outputs": [],
   "source": [
    "for file in os.listdir(dataset_location):\n",
    "  if file.endswith('.json'):\n",
    "    \n",
    "    with open(dataset_location + file) as f:\n",
    "      data = json.load(f)\n",
    "      recordings = data['recordings']\n",
    "      print(f\"Downloading files from {file}...\")\n",
    "      \n",
    "      for r in recordings:\n",
    "        # Get metadata from json\n",
    "        id = r['id']\n",
    "        bird = r['en']\n",
    "        download = r['file']\n",
    "        ext = '.' + r['file-name'].split('.')[-1]\n",
    "        \n",
    "        # Create subfolder if not exists\n",
    "        subfolder = bird + '\\\\'\n",
    "        try:\n",
    "          os.mkdir(audio_location + subfolder)\n",
    "        except:  # noqa: E722\n",
    "          pass\n",
    "        \n",
    "        # Download file\n",
    "        with open(audio_location + subfolder + bird + '_' + id + ext, 'wb') as out_file:\n",
    "          content = requests.get(download, stream=True).content\n",
    "          out_file.write(content)\n",
    "          \n",
    "        # Wait required time between recordings (randomized)\n",
    "        time.sleep(random.uniform(1.01, 1.2))\n",
    "    \n",
    "    print(\"Done!\")\n",
    "  \n",
    "  # Wait some time between json pages (randomized)     \n",
    "  time.sleep(random.uniform(1, 5))"
   ]
  }
 ],
 "metadata": {
  "kernelspec": {
   "display_name": "tf_audio",
   "language": "python",
   "name": "python3"
  },
  "language_info": {
   "codemirror_mode": {
    "name": "ipython",
    "version": 3
   },
   "file_extension": ".py",
   "mimetype": "text/x-python",
   "name": "python",
   "nbconvert_exporter": "python",
   "pygments_lexer": "ipython3",
   "version": "3.9.18"
  }
 },
 "nbformat": 4,
 "nbformat_minor": 2
}
