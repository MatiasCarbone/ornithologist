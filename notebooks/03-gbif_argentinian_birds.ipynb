{
 "cells": [
  {
   "cell_type": "markdown",
   "metadata": {},
   "source": [
    "### Import dependencies\n"
   ]
  },
  {
   "cell_type": "code",
   "execution_count": 24,
   "metadata": {},
   "outputs": [],
   "source": [
    "# File management\n",
    "import os\n",
    "import glob\n",
    "import requests\n",
    "import json\n",
    "\n",
    "# Audio processing\n",
    "import librosa as li\n",
    "from scipy import signal\n",
    "import soundfile as sf\n",
    "\n",
    "# Plotting\n",
    "from matplotlib import pyplot as plt\n",
    "\n",
    "# Machine Learning\n",
    "import tensorflow as tf\n",
    "import tensorflow_io as tfio\n",
    "\n",
    "# Other\n",
    "import time\n",
    "import random\n",
    "import numpy as np"
   ]
  },
  {
   "cell_type": "markdown",
   "metadata": {},
   "source": [
    "### Download argentinian birds dataset from Xeno-Canto\n"
   ]
  },
  {
   "cell_type": "markdown",
   "metadata": {},
   "source": [
    "#### Query Xeno-Canto API and save response as JSON file\n"
   ]
  },
  {
   "cell_type": "code",
   "execution_count": 2,
   "metadata": {},
   "outputs": [],
   "source": [
    "dataset_location = \"..\\\\datasets\\\\xeno-canto_argentina\\\\\"\n",
    "\n",
    "# Query variables\n",
    "country = \"argentina\"\n",
    "group = \"birds\"\n",
    "length = \"2-60\"\n",
    "since = \"2010-01-01\"\n",
    "q = \"A\""
   ]
  },
  {
   "cell_type": "code",
   "execution_count": 3,
   "metadata": {},
   "outputs": [
    {
     "name": "stdout",
     "output_type": "stream",
     "text": [
      "• Query result: status-code 200\n",
      "• Found 2922 recordings in 6 pages.\n"
     ]
    }
   ],
   "source": [
    "url = \"https://xeno-canto.org/api/2/recordings?query=\"\n",
    "params = f\"cnt:{country}+grp:{group}+len:{length}+since:{since}+q:{q}\"\n",
    "\n",
    "response = requests.get(url + params)\n",
    "\n",
    "print(f\"• Query result: status-code {response.status_code}\")\n",
    "\n",
    "if response.status_code == 200:\n",
    "    data = response.json()\n",
    "\n",
    "    n_rec = data[\"numRecordings\"]\n",
    "    pages = data[\"numPages\"]\n",
    "    print(f\"• Found {n_rec} recordings in {pages} pages.\")"
   ]
  },
  {
   "cell_type": "code",
   "execution_count": 4,
   "metadata": {},
   "outputs": [
    {
     "name": "stdout",
     "output_type": "stream",
     "text": [
      "• Saved page 1 as query_1.json\n",
      "• Saved page 2 as query_2.json\n",
      "• Saved page 3 as query_3.json\n",
      "• Saved page 4 as query_4.json\n",
      "• Saved page 5 as query_5.json\n",
      "• Saved page 6 as query_6.json\n"
     ]
    }
   ],
   "source": [
    "# Write json files for all pages\n",
    "for p in range(1, pages + 1):\n",
    "    response = requests.get(url + params + f\"&page={p}\")\n",
    "    data = response.json()\n",
    "\n",
    "    filename = f\"query_{str(p)}.json\"\n",
    "    with open(dataset_location + filename, \"w\") as file:\n",
    "        json.dump(data, file, sort_keys=True, indent=4)\n",
    "        print(f\"• Saved page {p} as {filename}\")"
   ]
  },
  {
   "cell_type": "markdown",
   "metadata": {},
   "source": [
    "#### Download files to dataset audio folder\n"
   ]
  },
  {
   "cell_type": "markdown",
   "metadata": {},
   "source": [
    "Each category will be downloaded to their corresponding subfolder.\n"
   ]
  },
  {
   "cell_type": "code",
   "execution_count": 8,
   "metadata": {},
   "outputs": [
    {
     "name": "stdout",
     "output_type": "stream",
     "text": [
      "Folder already existed.\n"
     ]
    }
   ],
   "source": [
    "# Create audio folder inside dataset.\n",
    "audio_location = dataset_location + \"unprocessed_audio_files\\\\\"\n",
    "try:\n",
    "    os.mkdir(audio_location)\n",
    "    print(f\"Created {audio_location}\")\n",
    "except:\n",
    "    print(\"Folder already existed.\")"
   ]
  },
  {
   "cell_type": "code",
   "execution_count": 8,
   "metadata": {},
   "outputs": [
    {
     "name": "stdout",
     "output_type": "stream",
     "text": [
      "Downloading files from query_1.json...\n",
      "Done!\n",
      "Downloading files from query_2.json...\n",
      "Done!\n",
      "Downloading files from query_3.json...\n",
      "Done!\n",
      "Downloading files from query_4.json...\n",
      "Done!\n",
      "Downloading files from query_5.json...\n",
      "Done!\n",
      "Downloading files from query_6.json...\n",
      "Done!\n"
     ]
    }
   ],
   "source": [
    "for file in os.listdir(dataset_location):\n",
    "    if file.endswith(\".json\"):\n",
    "        with open(dataset_location + file) as f:\n",
    "            data = json.load(f)\n",
    "            recordings = data[\"recordings\"]\n",
    "            print(f\"Downloading files from {file}...\")\n",
    "\n",
    "            for r in recordings:\n",
    "                # Get metadata from json\n",
    "                id = r[\"id\"]\n",
    "                # Optional, if coloquial name is preferred\n",
    "                english_name = r[\"en\"]\n",
    "                scientific_name = f\"{r['gen']} {r['sp']}\"\n",
    "                download = r[\"file\"]\n",
    "                ext = \".\" + r[\"file-name\"].split(\".\")[-1]\n",
    "\n",
    "                # Create subfolder if not exists\n",
    "                subfolder = scientific_name + \"\\\\\"\n",
    "                try:\n",
    "                    os.mkdir(audio_location + subfolder)\n",
    "                except:  # noqa: E722\n",
    "                    pass\n",
    "\n",
    "                # Download file\n",
    "                with open(\n",
    "                    audio_location + subfolder + scientific_name + \"_\" + id + ext, \"wb\"\n",
    "                ) as out_file:\n",
    "                    content = requests.get(download, stream=True).content\n",
    "                    out_file.write(content)\n",
    "\n",
    "                # Wait required time between recordings (randomized)\n",
    "                time.sleep(random.uniform(1.01, 1.2))\n",
    "\n",
    "        print(\"Done!\")\n",
    "\n",
    "    # Wait some time between json pages (randomized)\n",
    "    time.sleep(random.uniform(1, 5))"
   ]
  },
  {
   "cell_type": "markdown",
   "metadata": {},
   "source": [
    "### Preprocess audio files\n"
   ]
  },
  {
   "cell_type": "markdown",
   "metadata": {},
   "source": [
    "User defined constants.\n"
   ]
  },
  {
   "cell_type": "code",
   "execution_count": 13,
   "metadata": {},
   "outputs": [],
   "source": [
    "# Target sample rate for resampling audio files\n",
    "SAMPLE_RATE = 16000\n",
    "\n",
    "# Target length for audio segments (in seconds)\n",
    "SAMPLE_LENGTH = 3"
   ]
  },
  {
   "cell_type": "markdown",
   "metadata": {},
   "source": [
    "#### Function definitions\n"
   ]
  },
  {
   "cell_type": "code",
   "execution_count": 1,
   "metadata": {},
   "outputs": [],
   "source": [
    "def butter_highpass(cutoff, fs, order=5):\n",
    "    nyq = 0.5 * fs\n",
    "    normal_cutoff = cutoff / nyq\n",
    "    b, a = signal.butter(order, normal_cutoff, btype=\"high\", analog=False)\n",
    "    return b, a\n",
    "\n",
    "\n",
    "def apply_butter_highpass(data, cutoff, fs, order=5):\n",
    "    b, a = butter_highpass(cutoff, fs, order=order)\n",
    "    y = signal.filtfilt(b, a, data)\n",
    "    return y"
   ]
  },
  {
   "cell_type": "code",
   "execution_count": 2,
   "metadata": {},
   "outputs": [],
   "source": [
    "def remove_silence(signal, thresh=18, hop=2048, plot=False):\n",
    "    splits = li.effects.split(y=signal, top_db=thresh, frame_length=(hop * 2), hop_length=hop)\n",
    "\n",
    "    # For fine-tuning purposes\n",
    "    if plot:\n",
    "        peak = np.max(signal)\n",
    "        plt.subplots(figsize=(12, 4))\n",
    "        plt.plot(signal)\n",
    "        plt.vlines(splits, ymin=-peak, ymax=peak, color=\"red\")\n",
    "        plt.show()\n",
    "\n",
    "    stripped_audio = []\n",
    "\n",
    "    for s in splits:\n",
    "        split = signal[s[0] : s[1]]\n",
    "        stripped_audio.extend(split)\n",
    "\n",
    "    return np.asarray(stripped_audio)"
   ]
  },
  {
   "cell_type": "code",
   "execution_count": 3,
   "metadata": {},
   "outputs": [],
   "source": [
    "# Target length must be in seconds\n",
    "def split_audio(signal, target_length, samplerate, plot=False):\n",
    "\n",
    "    duration = li.get_duration(y=signal, sr=samplerate)\n",
    "\n",
    "    n_segments = np.ceil(duration / target_length)\n",
    "\n",
    "    audio_segments = []\n",
    "\n",
    "    for n in range(int(n_segments)):\n",
    "\n",
    "        s = signal[samplerate * n * target_length : samplerate * (n + 1) * target_length]\n",
    "\n",
    "        if len(s) < target_length * samplerate:\n",
    "\n",
    "            s = np.pad(s, (0, target_length * samplerate - len(s)), \"constant\")\n",
    "\n",
    "        audio_segments.append(s)\n",
    "\n",
    "        if plot:\n",
    "\n",
    "            plt.plot(s, alpha=1 / n_segments)\n",
    "\n",
    "    if plot:\n",
    "\n",
    "        plt.show()\n",
    "\n",
    "    return audio_segments"
   ]
  },
  {
   "cell_type": "markdown",
   "metadata": {},
   "source": [
    "#### Audio preprocessing\n"
   ]
  },
  {
   "cell_type": "markdown",
   "metadata": {},
   "source": [
    "- Load each file from all unprocessed audio subfolders.\n",
    "- Make an empty copy of the folder in the processed directory.\n",
    "- Apply high filter, strip noise sections and split into constant length segments.\n",
    "- Save shorter segments as new WAV files.\n"
   ]
  },
  {
   "cell_type": "code",
   "execution_count": 15,
   "metadata": {},
   "outputs": [],
   "source": [
    "processed_location = dataset_location + \"processed_audio_files\\\\\"\n",
    "subfolders = os.listdir(audio_location)\n",
    "\n",
    "# Make processed audio folder\n",
    "try:\n",
    "    os.mkdir(processed_location)\n",
    "except:  # noqa: E722\n",
    "    pass"
   ]
  },
  {
   "cell_type": "code",
   "execution_count": 18,
   "metadata": {},
   "outputs": [],
   "source": [
    "for sub in subfolders:\n",
    "    files = os.listdir(audio_location + sub)\n",
    "\n",
    "    # Create same subfolder in processed folder\n",
    "    p_subfolder = processed_location + sub + \"\\\\\"\n",
    "    try:\n",
    "        os.mkdir(p_subfolder)\n",
    "    except:  # noqa: E722\n",
    "        pass\n",
    "\n",
    "    for f in files:\n",
    "        # Load audio file from unprocessed folder\n",
    "        file_path = audio_location + sub + \"\\\\\" + f\n",
    "        y, sr = li.load(file_path, sr=SAMPLE_RATE, mono=True, res_type=\"soxr_lq\")\n",
    "\n",
    "        # Apply high-pass filter\n",
    "        y = apply_butter_highpass(data=y, cutoff=1000, fs=SAMPLE_RATE, order=6)\n",
    "\n",
    "        # Delete silent sections\n",
    "        y = remove_silence(y, plot=False)\n",
    "\n",
    "        # Split into segments of desired length\n",
    "        audio_segments = split_audio(y, target_length=SAMPLE_LENGTH, samplerate=SAMPLE_RATE)\n",
    "\n",
    "        # Iterate through splitted audio segments and save each one as a separate .wav file\n",
    "        for i, segment in enumerate(audio_segments):\n",
    "            new_filename = f.split(\".\")[0] + \"_\" + str(i) + \".wav\"\n",
    "            sf.write(p_subfolder + new_filename, segment, SAMPLE_RATE, subtype=\"PCM_16\")"
   ]
  },
  {
   "cell_type": "markdown",
   "metadata": {},
   "source": [
    "### Tensorflow dataset generation, processing and data pipeline\n"
   ]
  },
  {
   "cell_type": "markdown",
   "metadata": {},
   "source": [
    "#### Map functions definitions\n",
    "\n",
    "Used for loading and processing audio data\n"
   ]
  },
  {
   "cell_type": "code",
   "execution_count": 53,
   "metadata": {},
   "outputs": [],
   "source": [
    "# Load audio file\n",
    "def load_audio(file_path):\n",
    "    # Load encoded audio file\n",
    "    file = tf.io.read_file(file_path)\n",
    "\n",
    "    # Decode wav file\n",
    "    audio, sr = tf.audio.decode_wav(file, desired_channels=1)\n",
    "\n",
    "    # Remove channels dimension\n",
    "    audio = tf.squeeze(audio, axis=-1)\n",
    "    sr = tf.cast(sr, dtype=tf.int64)\n",
    "\n",
    "    return audio"
   ]
  },
  {
   "cell_type": "code",
   "execution_count": 54,
   "metadata": {},
   "outputs": [],
   "source": [
    "# Convert audio signal to spectrogram\n",
    "def process_audio(file_path, label):\n",
    "    # Load audio\n",
    "    audio = load_audio(file_path)\n",
    "\n",
    "    # Compute spectrogram\n",
    "    spectrogram = tf.signal.stft(audio, frame_length=320, frame_step=32)\n",
    "    spectrogram = tf.abs(spectrogram)\n",
    "    spectrogram = tf.expand_dims(spectrogram, axis=2)\n",
    "\n",
    "    return spectrogram, label"
   ]
  },
  {
   "cell_type": "code",
   "execution_count": 55,
   "metadata": {},
   "outputs": [],
   "source": [
    "# Encode string labels as int. Returns list of encoded labels and labels dictionary.\n",
    "def encode_labels(labels_list):\n",
    "    labels_dict = {}\n",
    "    encoded_labels = []\n",
    "\n",
    "    for i, label in enumerate(set(labels_list)):\n",
    "        labels_dict[label] = i\n",
    "\n",
    "    for label in labels_list:\n",
    "        encoded_labels.append(labels_dict[label])\n",
    "\n",
    "    return encoded_labels, labels_dict"
   ]
  },
  {
   "cell_type": "markdown",
   "metadata": {},
   "source": [
    "#### Create TF Data Dataset\n"
   ]
  },
  {
   "cell_type": "code",
   "execution_count": 8,
   "metadata": {},
   "outputs": [],
   "source": [
    "processed_location = \"..\\\\datasets\\\\xeno-canto_argentina\\\\processed_audio_files\\\\\""
   ]
  },
  {
   "cell_type": "code",
   "execution_count": 9,
   "metadata": {},
   "outputs": [],
   "source": [
    "# Encode labels as ints for using in ML model\n",
    "regex = \"\\\\*\\\\*.wav\"\n",
    "audio_filepaths = glob.glob(processed_location + regex)\n",
    "\n",
    "str_labels = list(map(lambda x: x.split(\"\\\\\")[-2], audio_filepaths))\n",
    "encoded_labels, labels_dict = encode_labels(str_labels)"
   ]
  },
  {
   "cell_type": "code",
   "execution_count": 10,
   "metadata": {},
   "outputs": [],
   "source": [
    "audio_ds = tf.data.Dataset.list_files(processed_location + \"*\\\\*.wav\", shuffle=False)\n",
    "\n",
    "\n",
    "labels = tf.data.Dataset.from_tensor_slices(encoded_labels)\n",
    "\n",
    "\n",
    "# Zip together audio dataset with labels dataset\n",
    "\n",
    "\n",
    "ds = tf.data.Dataset.zip((audio_ds, labels))"
   ]
  },
  {
   "cell_type": "markdown",
   "metadata": {},
   "source": [
    "Test and visualize load and process audio functions\n"
   ]
  },
  {
   "cell_type": "code",
   "execution_count": 55,
   "metadata": {},
   "outputs": [
    {
     "data": {
      "image/png": "[encoded data removed]",
      "text/plain": [
       "<Figure size 1000x600 with 1 Axes>"
      ]
     },
     "metadata": {},
     "output_type": "display_data"
    }
   ],
   "source": [
    "filepath, label = ds.shuffle(1000).as_numpy_iterator().next()\n",
    "spectrogram, label = process_audio(filepath, label)\n",
    "\n",
    "plt.figure(figsize=(10, 6))\n",
    "plt.imshow(tf.transpose(spectrogram)[0])\n",
    "plt.show()"
   ]
  },
  {
   "cell_type": "markdown",
   "metadata": {},
   "source": [
    "#### Build data pipeline and split into train/test subsets\n"
   ]
  },
  {
   "cell_type": "code",
   "execution_count": 11,
   "metadata": {},
   "outputs": [],
   "source": [
    "# Process and batch dataset\n",
    "ds = ds.map(process_audio)\n",
    "ds = ds.cache()\n",
    "ds = ds.shuffle(buffer_size=10000)\n",
    "ds = ds.batch(16)\n",
    "ds = ds.prefetch(tf.data.AUTOTUNE)"
   ]
  },
  {
   "cell_type": "code",
   "execution_count": 12,
   "metadata": {},
   "outputs": [],
   "source": [
    "# Split dataset\n",
    "SPLIT = 0.7\n",
    "\n",
    "train_split = int(len(ds) * SPLIT)\n",
    "train_ds = ds.take(train_split)\n",
    "test_ds = ds.skip(train_split)"
   ]
  },
  {
   "cell_type": "markdown",
   "metadata": {},
   "source": [
    "### Create and train CNN model\n"
   ]
  },
  {
   "cell_type": "code",
   "execution_count": 18,
   "metadata": {},
   "outputs": [
    {
     "name": "stdout",
     "output_type": "stream",
     "text": [
      "Model: \"sequential_5\"\n",
      "_________________________________________________________________\n",
      " Layer (type)                Output Shape              Param #   \n",
      "=================================================================\n",
      " conv2d_10 (Conv2D)          (None, 1489, 255, 16)     160       \n",
      "                                                                 \n",
      " max_pooling2d_8 (MaxPooling  (None, 744, 127, 16)     0         \n",
      " 2D)                                                             \n",
      "                                                                 \n",
      " dropout_15 (Dropout)        (None, 744, 127, 16)      0         \n",
      "                                                                 \n",
      " conv2d_11 (Conv2D)          (None, 742, 125, 16)      2320      \n",
      "                                                                 \n",
      " max_pooling2d_9 (MaxPooling  (None, 371, 62, 16)      0         \n",
      " 2D)                                                             \n",
      "                                                                 \n",
      " dropout_16 (Dropout)        (None, 371, 62, 16)       0         \n",
      "                                                                 \n",
      " flatten_5 (Flatten)         (None, 368032)            0         \n",
      "                                                                 \n",
      " dense_10 (Dense)            (None, 128)               47108224  \n",
      "                                                                 \n",
      " dropout_17 (Dropout)        (None, 128)               0         \n",
      "                                                                 \n",
      " dense_11 (Dense)            (None, 639)               82431     \n",
      "                                                                 \n",
      "=================================================================\n",
      "Total params: 47,193,135\n",
      "Trainable params: 47,193,135\n",
      "Non-trainable params: 0\n",
      "_________________________________________________________________\n"
     ]
    }
   ],
   "source": [
    "unique_class_count = len(labels_dict)\n",
    "\n",
    "model = tf.keras.models.Sequential(\n",
    "    [\n",
    "        tf.keras.layers.InputLayer(input_shape=(1491, 257, 1)),\n",
    "        tf.keras.layers.Conv2D(filters=16, kernel_size=(3, 3), activation=\"relu\"),\n",
    "        tf.keras.layers.MaxPool2D(pool_size=(2, 2)),\n",
    "        tf.keras.layers.Dropout(0.2),\n",
    "        tf.keras.layers.Conv2D(filters=16, kernel_size=(3, 3), activation=\"relu\"),\n",
    "        tf.keras.layers.MaxPool2D(pool_size=(2, 2)),\n",
    "        tf.keras.layers.Dropout(0.2),\n",
    "        tf.keras.layers.Flatten(),\n",
    "        tf.keras.layers.Dense(units=128, activation=\"relu\"),\n",
    "        tf.keras.layers.Dropout(0.5),\n",
    "        tf.keras.layers.Dense(units=unique_class_count, activation=\"softmax\"),\n",
    "    ]\n",
    ")\n",
    "\n",
    "model.compile(optimizer=\"Adam\", loss=\"sparse_categorical_crossentropy\", metrics=[\"accuracy\"])\n",
    "model.summary()"
   ]
  },
  {
   "cell_type": "code",
   "execution_count": 19,
   "metadata": {},
   "outputs": [
    {
     "name": "stdout",
     "output_type": "stream",
     "text": [
      "Epoch 1/30\n",
      "487/487 [==============================] - 726s 1s/step - loss: 6.1711 - accuracy: 0.0336 - val_loss: 5.7862 - val_accuracy: 0.0542\n",
      "Epoch 2/30\n",
      "487/487 [==============================] - 643s 1s/step - loss: 5.3545 - accuracy: 0.0711 - val_loss: 4.9195 - val_accuracy: 0.1376\n",
      "Epoch 3/30\n",
      "487/487 [==============================] - 637s 1s/step - loss: 4.7018 - accuracy: 0.1186 - val_loss: 4.1119 - val_accuracy: 0.2568\n",
      "Epoch 4/30\n",
      "487/487 [==============================] - 635s 1s/step - loss: 4.0955 - accuracy: 0.1802 - val_loss: 3.1351 - val_accuracy: 0.4468\n",
      "Epoch 5/30\n",
      "487/487 [==============================] - 637s 1s/step - loss: 3.4879 - accuracy: 0.2728 - val_loss: 2.4464 - val_accuracy: 0.5466\n",
      "Epoch 6/30\n",
      "487/487 [==============================] - 636s 1s/step - loss: 3.0256 - accuracy: 0.3356 - val_loss: 1.7267 - val_accuracy: 0.6819\n",
      "Epoch 7/30\n",
      "487/487 [==============================] - 637s 1s/step - loss: 2.6634 - accuracy: 0.4016 - val_loss: 1.5285 - val_accuracy: 0.7551\n",
      "Epoch 8/30\n",
      "487/487 [==============================] - 637s 1s/step - loss: 2.3394 - accuracy: 0.4561 - val_loss: 1.0746 - val_accuracy: 0.8091\n",
      "Epoch 9/30\n",
      "487/487 [==============================] - 641s 1s/step - loss: 2.1248 - accuracy: 0.4942 - val_loss: 0.8977 - val_accuracy: 0.8555\n",
      "Epoch 10/30\n",
      "487/487 [==============================] - 638s 1s/step - loss: 1.9025 - accuracy: 0.5409 - val_loss: 0.7047 - val_accuracy: 0.8844\n",
      "Epoch 11/30\n",
      "487/487 [==============================] - 634s 1s/step - loss: 1.7297 - accuracy: 0.5708 - val_loss: 0.5886 - val_accuracy: 0.9103\n",
      "Epoch 12/30\n",
      "487/487 [==============================] - 636s 1s/step - loss: 1.5878 - accuracy: 0.6055 - val_loss: 0.5071 - val_accuracy: 0.9166\n",
      "Epoch 13/30\n",
      "487/487 [==============================] - 640s 1s/step - loss: 1.5252 - accuracy: 0.6232 - val_loss: 0.4203 - val_accuracy: 0.9348\n",
      "Epoch 14/30\n",
      "487/487 [==============================] - 643s 1s/step - loss: 1.3943 - accuracy: 0.6464 - val_loss: 0.3267 - val_accuracy: 0.9485\n",
      "Epoch 15/30\n",
      "487/487 [==============================] - 638s 1s/step - loss: 1.3205 - accuracy: 0.6620 - val_loss: 0.2584 - val_accuracy: 0.9592\n",
      "Epoch 16/30\n",
      "487/487 [==============================] - 639s 1s/step - loss: 1.2376 - accuracy: 0.6820 - val_loss: 0.2417 - val_accuracy: 0.9586\n",
      "Epoch 17/30\n",
      "487/487 [==============================] - 659s 1s/step - loss: 1.1853 - accuracy: 0.6955 - val_loss: 0.2464 - val_accuracy: 0.9672\n",
      "Epoch 18/30\n",
      "487/487 [==============================] - 660s 1s/step - loss: 1.1706 - accuracy: 0.7064 - val_loss: 0.2286 - val_accuracy: 0.9693\n",
      "Epoch 19/30\n",
      "487/487 [==============================] - 656s 1s/step - loss: 1.1209 - accuracy: 0.7109 - val_loss: 0.1864 - val_accuracy: 0.9705\n",
      "Epoch 20/30\n",
      "487/487 [==============================] - 654s 1s/step - loss: 1.0349 - accuracy: 0.7256 - val_loss: 0.1975 - val_accuracy: 0.9672\n",
      "Epoch 21/30\n",
      "487/487 [==============================] - 656s 1s/step - loss: 0.9987 - accuracy: 0.7415 - val_loss: 0.1649 - val_accuracy: 0.9723\n",
      "Epoch 22/30\n",
      "487/487 [==============================] - 657s 1s/step - loss: 1.0007 - accuracy: 0.7417 - val_loss: 0.1769 - val_accuracy: 0.9747\n",
      "Epoch 23/30\n",
      "487/487 [==============================] - 655s 1s/step - loss: 0.9358 - accuracy: 0.7603 - val_loss: 0.1626 - val_accuracy: 0.9717\n",
      "Epoch 24/30\n",
      "487/487 [==============================] - 655s 1s/step - loss: 0.9376 - accuracy: 0.7586 - val_loss: 0.1512 - val_accuracy: 0.9744\n",
      "Epoch 25/30\n",
      "487/487 [==============================] - 649s 1s/step - loss: 0.9018 - accuracy: 0.7660 - val_loss: 0.1257 - val_accuracy: 0.9768\n",
      "Epoch 26/30\n",
      "487/487 [==============================] - 660s 1s/step - loss: 0.8739 - accuracy: 0.7713 - val_loss: 0.1481 - val_accuracy: 0.9735\n",
      "Epoch 27/30\n",
      "487/487 [==============================] - 660s 1s/step - loss: 0.8480 - accuracy: 0.7703 - val_loss: 0.1225 - val_accuracy: 0.9797\n",
      "Epoch 28/30\n",
      "487/487 [==============================] - 654s 1s/step - loss: 0.8077 - accuracy: 0.7855 - val_loss: 0.1101 - val_accuracy: 0.9786\n",
      "Epoch 29/30\n",
      "487/487 [==============================] - 655s 1s/step - loss: 0.8286 - accuracy: 0.7808 - val_loss: 0.1158 - val_accuracy: 0.9791\n",
      "Epoch 30/30\n",
      "487/487 [==============================] - 663s 1s/step - loss: 0.7952 - accuracy: 0.7890 - val_loss: 0.1313 - val_accuracy: 0.9812\n",
      "Model successfully saved to ../models/xc_cnn/xc_cnn.\n"
     ]
    }
   ],
   "source": [
    "EPOCHS = 30\n",
    "\n",
    "# Training checkpoints\n",
    "checkpoint_filepath = \"../models/checkpoints/\"\n",
    "model_checkpoint_callback = tf.keras.callbacks.ModelCheckpoint(\n",
    "    filepath=checkpoint_filepath, monitor=\"val_accuracy\", mode=\"max\", save_best_only=True, verbose=1\n",
    ")\n",
    "\n",
    "history = model.fit(\n",
    "    train_ds, epochs=EPOCHS, validation_data=test_ds, callbacks=[model_checkpoint_callback]\n",
    ")"
   ]
  },
  {
   "cell_type": "markdown",
   "metadata": {},
   "source": [
    "#### Plotting model accuracy and loss\n"
   ]
  },
  {
   "cell_type": "code",
   "execution_count": 20,
   "metadata": {},
   "outputs": [
    {
     "data": {
      "image/png": "[encoded data removed]",
      "text/plain": [
       "<Figure size 1200x400 with 2 Axes>"
      ]
     },
     "metadata": {},
     "output_type": "display_data"
    }
   ],
   "source": [
    "acc = history.history[\"accuracy\"]\n",
    "val_acc = history.history[\"val_accuracy\"]\n",
    "\n",
    "loss = history.history[\"loss\"]\n",
    "val_loss = history.history[\"val_loss\"]\n",
    "\n",
    "epochs_range = range(EPOCHS)\n",
    "\n",
    "plt.figure(figsize=(12, 4))\n",
    "plt.subplot(1, 2, 1)\n",
    "plt.plot(epochs_range, acc, label=\"Training Accuracy\")\n",
    "plt.plot(epochs_range, val_acc, label=\"Validation Accuracy\")\n",
    "plt.grid()\n",
    "plt.legend(loc=\"lower right\")\n",
    "plt.title(\"Training and Validation Accuracy\")\n",
    "\n",
    "plt.subplot(1, 2, 2)\n",
    "plt.plot(epochs_range, loss, label=\"Training Loss\")\n",
    "plt.plot(epochs_range, val_loss, label=\"Validation Loss\")\n",
    "plt.grid()\n",
    "plt.legend(loc=\"upper right\")\n",
    "plt.title(\"Training and Validation Loss\")\n",
    "\n",
    "figure = plt.gcf()\n",
    "plt.show()"
   ]
  },
  {
   "cell_type": "markdown",
   "metadata": {},
   "source": [
    "#### Save and load Keras models\n"
   ]
  },
  {
   "cell_type": "markdown",
   "metadata": {},
   "source": [
    "##### Save model\n"
   ]
  },
  {
   "cell_type": "code",
   "execution_count": 21,
   "metadata": {},
   "outputs": [
    {
     "name": "stdout",
     "output_type": "stream",
     "text": [
      "Model successfully saved to ../models/03-cnn_xeno_canto_arg-30ep/03-cnn_xeno_canto_arg-30ep.\n"
     ]
    }
   ],
   "source": [
    "model_name = str(input(\"Enter a title for the saved model...\"))\n",
    "model_path = f\"../models/{model_name}/\"\n",
    "\n",
    "if model_name:\n",
    "    try:\n",
    "        os.mkdir(model_path)\n",
    "        model.save(model_path + f\"{model_name}.keras\")\n",
    "        print(f\"Model successfully saved to {model_path}{model_name}.\")\n",
    "\n",
    "        # Remember to execute plotting cell first\n",
    "        figure.savefig(model_path + f\"{model_name}.png\")\n",
    "    except:\n",
    "        raise (\"ERROR: Model name is already in use. Pick another name and try again.\")"
   ]
  },
  {
   "cell_type": "markdown",
   "metadata": {},
   "source": [
    "##### Load model\n"
   ]
  },
  {
   "cell_type": "code",
   "execution_count": 87,
   "metadata": {},
   "outputs": [],
   "source": [
    "model_name = str(input(\"Type model name...\"))\n",
    "\n",
    "if model_name:\n",
    "    model_path = f\"../models/{model_name}/\"\n",
    "\n",
    "# model = tf.keras.models.load_model(model_path + f'{model_name}.keras')"
   ]
  },
  {
   "cell_type": "markdown",
   "metadata": {},
   "source": [
    "### Model testing and evaluation\n"
   ]
  },
  {
   "cell_type": "code",
   "execution_count": 83,
   "metadata": {},
   "outputs": [],
   "source": [
    "# Load mp3 stereo file for making predictions\n",
    "def load_mp3_for_prediction(filename):\n",
    "    # Load file\n",
    "    iot = tfio.audio.AudioIOTensor(filename)\n",
    "\n",
    "    # Convert to tensor and combine channels to mono\n",
    "    tensor = iot.to_tensor()\n",
    "    tensor = tf.math.reduce_sum(tensor, axis=1) / 2\n",
    "\n",
    "    # Get sample rate\n",
    "    sample_rate = iot.rate\n",
    "    sample_rate = tf.cast(sample_rate, dtype=tf.int64)\n",
    "\n",
    "    # Resample to target sample rate\n",
    "    wav = tfio.audio.resample(tensor, rate_in=sample_rate, rate_out=SAMPLE_RATE)\n",
    "    return wav\n",
    "\n",
    "\n",
    "# Convert slices of audio into spectrograms\n",
    "\n",
    "\n",
    "def process_slices(sample, index):\n",
    "    sample = sample[0]\n",
    "    zero_padding = tf.zeros([48000] - tf.shape(sample), dtype=tf.float32)\n",
    "    wav = tf.concat([zero_padding, sample], 0)\n",
    "    spectrogram = tf.signal.stft(wav, frame_length=320, frame_step=32)\n",
    "    spectrogram = tf.abs(spectrogram)\n",
    "    spectrogram = tf.expand_dims(spectrogram, axis=2)\n",
    "    return spectrogram"
   ]
  },
  {
   "cell_type": "code",
   "execution_count": 64,
   "metadata": {},
   "outputs": [],
   "source": [
    "prediction_audio_path = \"..\\\\datasets\\\\xeno-canto_argentina\\\\xeno_canto_montage_test.mp3\""
   ]
  },
  {
   "cell_type": "code",
   "execution_count": 86,
   "metadata": {},
   "outputs": [],
   "source": [
    "# Load audio file for prediction\n",
    "audio = load_mp3_for_prediction(prediction_audio_path)\n",
    "\n",
    "# Get windows of audio\n",
    "audio_slices = tf.keras.utils.timeseries_dataset_from_array(\n",
    "    audio,\n",
    "    audio,\n",
    "    sequence_length=SAMPLE_RATE * SAMPLE_LENGTH,\n",
    "    sequence_stride=SAMPLE_RATE * SAMPLE_LENGTH,\n",
    "    batch_size=1,\n",
    ")\n",
    "\n",
    "# Convert audio slices to spectrograms\n",
    "samples, index = audio_slices.as_numpy_iterator().next()\n",
    "audio_slices = audio_slices.map(process_slices)\n",
    "audio_slices = audio_slices.batch(32)"
   ]
  },
  {
   "cell_type": "code",
   "execution_count": 89,
   "metadata": {},
   "outputs": [
    {
     "name": "stdout",
     "output_type": "stream",
     "text": [
      "1/1 [==============================] - 0s 269ms/step\n"
     ]
    }
   ],
   "source": [
    "predictions = model.predict(audio_slices)"
   ]
  },
  {
   "cell_type": "code",
   "execution_count": 100,
   "metadata": {},
   "outputs": [
    {
     "data": {
      "text/plain": [
       "array([4.92547838e-15, 5.39627733e-18, 1.13973238e-17, 1.28696214e-16,\n",
       "       5.82958432e-14, 2.19714160e-11, 1.84831387e-21, 3.03670117e-10,\n",
       "       1.28468173e-06, 9.45266421e-10, 5.16857556e-15, 3.02154937e-12,\n",
       "       1.06906956e-13, 7.51083550e-21, 3.91401736e-20, 2.97777303e-10,\n",
       "       3.67417421e-08, 5.90481027e-17, 7.20513640e-08, 8.39504646e-11,\n",
       "       1.17588447e-17, 4.59676352e-15, 4.71709557e-15, 1.13344197e-12,\n",
       "       2.21097873e-09, 8.74325959e-12, 9.60999960e-11, 1.89821227e-12,\n",
       "       2.83806489e-09, 2.53401324e-14, 1.50686764e-17, 6.66151179e-16,\n",
       "       2.76489769e-12, 4.99109731e-09, 2.67406153e-06, 2.11136299e-11,\n",
       "       4.56140636e-16, 3.12186467e-17, 1.41467049e-16, 3.45460500e-11,\n",
       "       7.60815910e-10, 5.11595932e-10, 1.92878130e-20, 5.12898279e-10,\n",
       "       5.35978047e-18, 2.59074683e-15, 7.35217077e-14, 1.44169361e-14,\n",
       "       7.55065912e-08, 8.10276207e-15, 9.67674438e-08, 1.19200813e-07,\n",
       "       2.22135491e-10, 3.09555348e-15, 4.65767043e-05, 3.83868250e-11,\n",
       "       3.81205831e-11, 8.01921412e-15, 4.47751775e-12, 7.08248422e-07,\n",
       "       8.10214797e-14, 3.67350162e-06, 7.89671402e-14, 2.29361148e-15,\n",
       "       8.75077811e-17, 3.57710687e-13, 3.02304817e-12, 2.15804019e-09,\n",
       "       8.16482792e-09, 8.91368056e-12, 6.72186473e-10, 4.25497866e-11,\n",
       "       7.21738576e-17, 7.23892214e-24, 1.10617702e-08, 7.40085144e-14,\n",
       "       4.41548799e-16, 4.40514350e-15, 7.25940974e-10, 3.03131725e-15,\n",
       "       4.93953455e-11, 7.84357690e-10, 8.81932527e-10, 9.58946249e-17,\n",
       "       1.60675040e-09, 4.13587577e-18, 2.49674230e-07, 1.36743620e-06,\n",
       "       1.42020402e-13, 2.47126064e-14, 3.14170111e-14, 1.30532802e-08,\n",
       "       3.20591581e-10, 2.56966727e-20, 7.58876604e-14, 6.65369426e-11,\n",
       "       1.14952705e-08, 7.99008466e-15, 3.26199179e-09, 2.01089323e-09,\n",
       "       2.57302784e-08, 9.22847632e-11, 1.47687099e-10, 1.46950015e-07,\n",
       "       1.12266237e-16, 1.95198122e-10, 2.94814693e-11, 1.21786252e-16,\n",
       "       4.10345403e-11, 4.24508517e-09, 6.32965233e-15, 6.60710199e-23,\n",
       "       2.65073776e-08, 1.05014417e-11, 8.19485012e-06, 2.20206402e-06,\n",
       "       4.63405330e-15, 1.00870614e-12, 1.33184426e-06, 1.99751771e-09,\n",
       "       1.06193991e-10, 6.38493833e-17, 5.95251981e-09, 5.96505290e-10,\n",
       "       1.72959481e-05, 3.45283281e-11, 1.68252196e-12, 2.29569778e-20,\n",
       "       4.23985780e-09, 3.20321569e-09, 1.12446863e-13, 8.53595239e-08,\n",
       "       4.66570532e-12, 2.12435256e-12, 4.17891734e-14, 6.45641223e-12,\n",
       "       1.05720424e-11, 1.62947785e-07, 1.43881085e-08, 1.04216022e-08,\n",
       "       8.18760054e-06, 2.92971584e-11, 7.05918451e-13, 2.23578110e-18,\n",
       "       1.62501703e-06, 3.22566294e-08, 1.36307025e-12, 7.07187056e-08,\n",
       "       7.01701541e-14, 1.59237218e-12, 6.03709209e-18, 3.15456070e-08,\n",
       "       4.90774926e-17, 2.66934760e-12, 1.61859214e-06, 8.25452987e-14,\n",
       "       5.65968272e-15, 6.12728794e-14, 6.04232240e-14, 6.29569520e-16,\n",
       "       3.38597010e-06, 3.62866441e-14, 5.42853185e-09, 1.83578031e-11,\n",
       "       1.03813066e-16, 1.36012305e-15, 9.52646100e-24, 4.13231800e-15,\n",
       "       6.14207253e-12, 1.15900718e-06, 2.89277158e-09, 2.06609081e-15,\n",
       "       1.83902089e-16, 8.10173382e-17, 2.90228961e-08, 4.87394786e-15,\n",
       "       9.01853453e-11, 2.59876177e-17, 3.97865267e-15, 2.93060017e-14,\n",
       "       8.75776536e-08, 2.29668236e-17, 1.13193577e-09, 3.35410422e-10,\n",
       "       1.77382198e-09, 3.88613707e-12, 1.72571527e-10, 7.50584217e-16,\n",
       "       2.45717370e-11, 2.03593045e-11, 1.28027526e-13, 2.27902376e-12,\n",
       "       9.61940250e-12, 6.27211716e-13, 3.07134665e-11, 2.60854613e-05,\n",
       "       4.65352413e-14, 4.05651887e-16, 9.25199770e-20, 2.44326952e-06,\n",
       "       4.40793047e-09, 7.17344834e-15, 1.48482767e-21, 8.99149921e-11,\n",
       "       1.97866642e-14, 2.23095243e-16, 4.84919451e-13, 6.07096854e-06,\n",
       "       8.36005802e-06, 1.06835461e-12, 8.26677648e-13, 1.29955644e-13,\n",
       "       6.14465271e-15, 3.35563719e-08, 4.11997606e-12, 7.49008791e-07,\n",
       "       4.39651787e-21, 6.14370265e-06, 9.92094865e-05, 1.75103577e-11,\n",
       "       5.45014212e-09, 8.03759389e-14, 1.86578780e-16, 5.32129052e-09,\n",
       "       1.25464725e-11, 2.53489008e-09, 1.45215080e-17, 2.60836047e-10,\n",
       "       4.95107124e-05, 2.13119518e-12, 9.94434084e-17, 2.43034837e-08,\n",
       "       1.44339107e-14, 1.90579135e-06, 4.24008939e-14, 2.80618432e-12,\n",
       "       2.80885695e-19, 4.90633756e-09, 3.22866018e-12, 6.30101908e-08,\n",
       "       2.08338832e-11, 2.10131734e-09, 2.75501354e-18, 2.86087728e-15,\n",
       "       5.52640537e-11, 1.93612640e-17, 3.82951320e-14, 5.21706778e-15,\n",
       "       3.07160272e-16, 1.33020862e-07, 4.44557619e-14, 1.30015985e-06,\n",
       "       3.72523868e-06, 1.00330491e-08, 2.41915765e-03, 2.16869062e-16,\n",
       "       2.69841621e-10, 4.62800864e-09, 2.26521406e-05, 1.00921184e-13,\n",
       "       8.00302587e-13, 1.41504253e-09, 4.22024137e-14, 1.65618030e-09,\n",
       "       2.44969097e-11, 2.13470130e-09, 9.21590820e-13, 1.34911862e-12,\n",
       "       9.59017951e-20, 7.26427436e-13, 1.53554247e-09, 7.39891220e-06,\n",
       "       4.31651102e-07, 1.50679416e-08, 9.16736099e-06, 3.07988293e-18,\n",
       "       3.14106484e-11, 4.11762002e-08, 9.11324150e-07, 4.13475054e-13,\n",
       "       8.95107455e-09, 7.92297678e-15, 5.28809878e-11, 1.30394539e-18,\n",
       "       5.27478763e-20, 1.66574949e-07, 7.69177170e-12, 3.14195518e-07,\n",
       "       1.26405110e-11, 1.29830244e-10, 1.52491024e-16, 2.53912473e-16,\n",
       "       6.01027911e-17, 3.09391066e-16, 9.93055244e-15, 2.06423862e-16,\n",
       "       7.67914578e-17, 2.38076063e-06, 3.98561189e-14, 1.57736389e-19,\n",
       "       3.48997740e-11, 3.48524454e-09, 3.23903647e-11, 5.10396701e-19,\n",
       "       1.28205660e-13, 8.42862496e-15, 6.13521456e-11, 1.84625145e-11,\n",
       "       4.41799948e-08, 3.66135724e-12, 3.20649851e-05, 2.43911879e-13,\n",
       "       2.91326569e-06, 4.05246688e-16, 8.49535863e-05, 1.54042307e-10,\n",
       "       4.80385913e-12, 3.15068013e-13, 1.60456164e-08, 1.49450764e-14,\n",
       "       8.21614740e-05, 1.20252644e-05, 3.07873057e-19, 9.92343985e-10,\n",
       "       6.26314556e-11, 1.53500380e-07, 1.00123465e-08, 3.49369533e-10,\n",
       "       5.96283344e-14, 2.13131785e-15, 4.07568917e-13, 1.91152760e-09,\n",
       "       7.14121980e-18, 1.71430598e-24, 1.19314238e-14, 1.15881860e-09,\n",
       "       7.37061982e-14, 5.10522180e-12, 3.02964119e-15, 5.11756970e-10,\n",
       "       7.00024539e-05, 3.01238526e-14, 1.52507283e-07, 1.87096632e-08,\n",
       "       7.79752281e-06, 1.60497704e-09, 2.69789157e-21, 7.13963123e-13,\n",
       "       6.97377197e-18, 1.07695330e-09, 6.54164075e-17, 3.37907735e-13,\n",
       "       6.10476167e-18, 1.34694948e-18, 7.89830565e-08, 4.92781965e-07,\n",
       "       9.17721194e-13, 7.92759063e-18, 2.14143920e-08, 7.70103033e-17,\n",
       "       1.97304129e-09, 1.68053957e-16, 4.63401932e-07, 1.42871522e-05,\n",
       "       3.46825044e-19, 5.55241577e-08, 1.30142658e-17, 7.97496184e-12,\n",
       "       9.36952960e-19, 1.33041613e-06, 8.20743647e-13, 4.20455381e-12,\n",
       "       1.54878755e-13, 4.42674203e-10, 7.98402902e-13, 1.01420504e-07,\n",
       "       5.63064568e-05, 1.72174931e-11, 2.59610150e-13, 2.54327811e-20,\n",
       "       1.72751819e-12, 4.64124572e-11, 1.94599017e-16, 4.58431459e-05,\n",
       "       7.72424496e-13, 6.06409793e-14, 1.44892102e-11, 1.61482725e-13,\n",
       "       5.01892941e-07, 8.90719373e-11, 1.18096359e-18, 9.01714536e-10,\n",
       "       6.95285436e-14, 4.33217129e-10, 1.75691587e-16, 1.70225132e-06,\n",
       "       1.80331838e-07, 1.92654462e-10, 4.23812856e-16, 1.30138105e-07,\n",
       "       3.64726083e-10, 2.03411871e-10, 2.47181511e-08, 3.29180061e-08,\n",
       "       7.56993490e-09, 5.09610860e-11, 6.75103365e-13, 3.54292030e-12,\n",
       "       6.17443436e-19, 4.71448001e-14, 1.88559373e-08, 5.83849271e-08,\n",
       "       4.61344733e-17, 5.41456176e-20, 4.52029121e-13, 1.14856547e-07,\n",
       "       3.24217415e-20, 3.95733935e-08, 5.80921030e-16, 1.07295317e-09,\n",
       "       4.42636830e-11, 6.96904600e-12, 1.24570277e-15, 6.40035733e-11,\n",
       "       1.75031691e-12, 5.05079962e-12, 2.25677308e-08, 1.45538226e-12,\n",
       "       1.37117140e-09, 2.79735569e-16, 2.32327456e-11, 2.75629537e-11,\n",
       "       1.71123153e-13, 1.77367001e-05, 1.68240916e-07, 5.36040006e-12,\n",
       "       1.36813911e-08, 6.42147341e-19, 8.50742271e-20, 2.79511318e-14,\n",
       "       5.36086819e-09, 3.37636061e-12, 1.20220917e-10, 4.55558880e-09,\n",
       "       1.88769397e-13, 3.54152903e-08, 4.72201567e-09, 9.54114621e-18,\n",
       "       4.72243826e-13, 2.21993899e-11, 4.63901806e-10, 4.83612138e-18,\n",
       "       5.76608556e-07, 9.88726735e-01, 1.24473245e-17, 2.45693983e-18,\n",
       "       1.02758246e-10, 4.25336599e-10, 7.80757251e-18, 4.08284250e-04,\n",
       "       9.22272703e-10, 1.69207272e-13, 2.35137856e-18, 4.90141443e-14,\n",
       "       5.29371729e-12, 8.22580493e-09, 6.70275541e-16, 6.78722856e-08,\n",
       "       3.24817933e-08, 8.12113754e-09, 6.70327671e-13, 1.11255227e-08,\n",
       "       1.60852086e-15, 8.58457643e-15, 3.13630473e-08, 5.11960296e-09,\n",
       "       1.34717915e-09, 1.32816623e-13, 1.56903761e-11, 4.80435701e-05,\n",
       "       3.10546117e-10, 3.02182800e-22, 6.44950149e-10, 1.61138480e-09,\n",
       "       8.12275969e-10, 1.31741184e-15, 4.41982628e-09, 1.39962125e-13,\n",
       "       8.99907988e-08, 3.17481319e-11, 4.33243059e-16, 9.93920963e-08,\n",
       "       1.88003494e-15, 3.32856742e-10, 1.99776537e-07, 5.64953079e-05,\n",
       "       1.39294932e-14, 2.33810238e-09, 6.33589492e-12, 3.31231058e-06,\n",
       "       2.18419575e-12, 1.89873332e-20, 2.62655970e-16, 5.77368082e-14,\n",
       "       1.76390541e-10, 1.82718597e-12, 1.10907393e-07, 9.57557181e-17,\n",
       "       6.43708559e-11, 6.26467194e-12, 5.08199355e-06, 2.35486140e-18,\n",
       "       5.77754132e-16, 7.40205417e-17, 1.42993700e-10, 1.21772911e-10,\n",
       "       8.61070732e-17, 5.16521403e-08, 2.20705552e-17, 1.76525800e-14,\n",
       "       2.29044538e-16, 1.05390904e-10, 2.46985643e-14, 2.03132719e-10,\n",
       "       1.52316050e-12, 1.87350482e-12, 5.30004762e-10, 7.08988807e-19,\n",
       "       4.64638961e-12, 9.04987259e-16, 3.38943491e-11, 3.36375181e-14,\n",
       "       2.49146136e-13, 1.14195686e-12, 2.74910578e-16, 5.74534044e-17,\n",
       "       1.77337497e-04, 3.17264517e-06, 8.19270499e-05, 4.67412278e-08,\n",
       "       2.97152383e-06, 2.28082852e-12, 8.08207234e-13, 6.28158470e-10,\n",
       "       2.69340272e-10, 1.28021194e-09, 1.61118364e-18, 3.68766848e-08,\n",
       "       1.84086409e-19, 1.01979696e-08, 1.86850302e-05, 1.60599004e-21,\n",
       "       7.92264920e-10, 7.81185620e-12, 3.94513251e-07, 2.05688696e-18,\n",
       "       1.40112021e-16, 2.56885039e-15, 2.18273403e-12, 1.82751686e-16,\n",
       "       1.59103702e-11, 4.54182135e-12, 7.91764501e-11, 2.32310959e-12,\n",
       "       7.27707494e-09, 2.93348918e-08, 1.98162131e-09, 7.01554754e-13,\n",
       "       1.34420891e-10, 5.76569610e-16, 9.49394377e-19, 1.37892930e-09,\n",
       "       1.64046771e-12, 1.28768769e-14, 1.51344617e-10, 2.32983140e-07,\n",
       "       2.13807305e-11, 1.42505174e-11, 3.28878136e-12, 1.03699849e-09,\n",
       "       1.13744491e-07, 9.84048726e-14, 7.63897712e-12, 4.27401306e-14,\n",
       "       1.34418076e-06, 5.82186521e-09, 6.09581423e-14, 1.42406391e-13,\n",
       "       3.78770518e-15, 4.94070713e-13, 9.35586938e-15, 1.33231024e-12,\n",
       "       3.96484841e-12, 2.09938421e-11, 1.57214740e-22, 4.14081582e-11,\n",
       "       3.28077010e-11, 1.46887541e-14, 4.98874861e-08, 1.42542141e-11,\n",
       "       2.24071957e-15, 2.35640670e-07, 1.10615096e-13, 2.49939843e-11,\n",
       "       3.51955787e-05, 6.74360567e-10, 4.69236669e-14, 1.26134908e-22,\n",
       "       2.40898469e-12, 1.08900731e-14, 1.88593194e-08, 2.80357654e-10,\n",
       "       5.25277846e-13, 2.78182388e-09, 1.45518797e-12, 1.39224436e-08,\n",
       "       1.34461710e-13, 8.55227711e-09, 3.28627417e-15, 8.12379400e-11,\n",
       "       1.47557140e-12, 2.16779377e-08, 9.60567043e-12, 6.94825170e-11,\n",
       "       2.15859650e-16, 2.43645637e-08, 6.48142020e-07, 7.22492300e-03,\n",
       "       5.18612445e-11, 9.31505095e-09, 7.01566527e-10, 1.13503516e-14,\n",
       "       1.91524978e-13, 3.10354659e-11, 2.99229169e-10, 7.96111614e-12,\n",
       "       2.64028979e-14, 7.98957598e-20, 5.74458880e-08], dtype=float32)"
      ]
     },
     "execution_count": 100,
     "metadata": {},
     "output_type": "execute_result"
    }
   ],
   "source": [
    "predictions[0]"
   ]
  }
 ],
 "metadata": {
  "kernelspec": {
   "display_name": "tf_audio",
   "language": "python",
   "name": "python3"
  },
  "language_info": {
   "codemirror_mode": {
    "name": "ipython",
    "version": 3
   },
   "file_extension": ".py",
   "mimetype": "text/x-python",
   "name": "python",
   "nbconvert_exporter": "python",
   "pygments_lexer": "ipython3",
   "version": "3.9.18"
  }
 },
 "nbformat": 4,
 "nbformat_minor": 2
}
