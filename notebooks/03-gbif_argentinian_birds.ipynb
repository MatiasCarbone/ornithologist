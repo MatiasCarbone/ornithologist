{
 "cells": [
  {
   "cell_type": "code",
   "execution_count": 243,
   "metadata": {},
   "outputs": [],
   "source": [
    "import os\n",
    "import requests\n",
    "import json\n",
    "import time\n",
    "import random"
   ]
  },
  {
   "cell_type": "markdown",
   "metadata": {},
   "source": [
    "### Download Argentinian Passeriformes dataset from Xeno-Canto"
   ]
  },
  {
   "cell_type": "markdown",
   "metadata": {},
   "source": [
    "#### Query Xeno-Canto API and save response as JSON file."
   ]
  },
  {
   "cell_type": "code",
   "execution_count": 175,
   "metadata": {},
   "outputs": [],
   "source": [
    "dataset_location = '..\\\\datasets\\\\xeno-canto_argentina\\\\'\n",
    "\n",
    "# Query variables\n",
    "country = 'argentina'\n",
    "group = 'birds'\n",
    "length = '10-120'\n",
    "since = '2000-01-01'"
   ]
  },
  {
   "cell_type": "code",
   "execution_count": 188,
   "metadata": {},
   "outputs": [
    {
     "name": "stdout",
     "output_type": "stream",
     "text": [
      "• Query result: status-code 200\n",
      "• Found 10047 recordings in 21 pages.\n"
     ]
    }
   ],
   "source": [
    "url = \"https://xeno-canto.org/api/2/recordings?query=\"\n",
    "params = f\"cnt:{country}+grp:{group}+len:{length}+since:{since}\"\n",
    "\n",
    "response = requests.get(url + params)\n",
    "\n",
    "print(f'• Query result: status-code {response.status_code}')\n",
    "\n",
    "if response.status_code == 200:\n",
    "  data = response.json()\n",
    "  \n",
    "  n_rec = data['numRecordings']\n",
    "  pages = data['numPages']\n",
    "  print(f'• Found {n_rec} recordings in {pages} pages.')"
   ]
  },
  {
   "cell_type": "code",
   "execution_count": 192,
   "metadata": {},
   "outputs": [
    {
     "name": "stdout",
     "output_type": "stream",
     "text": [
      "• Saved page 1 as query_1.json\n",
      "• Saved page 2 as query_2.json\n",
      "• Saved page 3 as query_3.json\n",
      "• Saved page 4 as query_4.json\n",
      "• Saved page 5 as query_5.json\n",
      "• Saved page 6 as query_6.json\n",
      "• Saved page 7 as query_7.json\n",
      "• Saved page 8 as query_8.json\n",
      "• Saved page 9 as query_9.json\n",
      "• Saved page 10 as query_10.json\n",
      "• Saved page 11 as query_11.json\n",
      "• Saved page 12 as query_12.json\n",
      "• Saved page 13 as query_13.json\n",
      "• Saved page 14 as query_14.json\n",
      "• Saved page 15 as query_15.json\n",
      "• Saved page 16 as query_16.json\n",
      "• Saved page 17 as query_17.json\n",
      "• Saved page 18 as query_18.json\n",
      "• Saved page 19 as query_19.json\n",
      "• Saved page 20 as query_20.json\n",
      "• Saved page 21 as query_21.json\n"
     ]
    }
   ],
   "source": [
    "# Write json files for all pages\n",
    "for p in range(1, pages + 1):\n",
    "  response = requests.get(url + params + f'&page={p}')\n",
    "  data = response.json()\n",
    "  \n",
    "  filename = f\"query_{str(p)}.json\"\n",
    "  with open(dataset_location + filename, \"w\") as file:\n",
    "    json.dump(data, file, sort_keys=True, indent=4)\n",
    "    print(f'• Saved page {p} as {filename}')"
   ]
  },
  {
   "cell_type": "markdown",
   "metadata": {},
   "source": [
    "#### Download files to dataset audio folder."
   ]
  },
  {
   "cell_type": "code",
   "execution_count": 193,
   "metadata": {},
   "outputs": [
    {
     "name": "stdout",
     "output_type": "stream",
     "text": [
      "Folder already existed.\n"
     ]
    }
   ],
   "source": [
    "# Create audio folder inside dataset.\n",
    "audio_location = dataset_location + 'audio\\\\'\n",
    "try:\n",
    "  os.mkdir(audio_location)\n",
    "  print(f'Created {audio_location}')\n",
    "except:\n",
    "  print('Folder already existed.')"
   ]
  },
  {
   "cell_type": "code",
   "execution_count": 242,
   "metadata": {},
   "outputs": [],
   "source": [
    "MAX_FILES = n_rec # Used to stop downloading after n files\n",
    "for file in os.listdir(dataset_location):\n",
    "  if file.endswith('.json'):\n",
    "    with open(dataset_location + file) as f:\n",
    "      data = json.load(f)\n",
    "      recordings = data['recordings']\n",
    "      \n",
    "      i = 0\n",
    "      for r in recordings:\n",
    "        i += 1\n",
    "        # Get metadata from json\n",
    "        id = r['id']\n",
    "        bird = r['en']\n",
    "        download = r['file']\n",
    "        ext = '.' + r['file-name'].split('.')[-1]\n",
    "        \n",
    "        # Download file\n",
    "        with open(audio_location + bird + id + ext, 'wb') as out_file:\n",
    "          content = requests.get(download, stream=True).content\n",
    "          out_file.write(content)\n",
    "          \n",
    "        # Wait required time between recordings (randomized)\n",
    "        time.sleep(random.randrange(1.01, 1.5))\n",
    "        \n",
    "        # Stop the loop\n",
    "        if i > 4:\n",
    "          break\n",
    "  # Wait required time between json pages (randomized)     \n",
    "  time.sleep(random.randrange(1, 5))"
   ]
  }
 ],
 "metadata": {
  "kernelspec": {
   "display_name": "tf_audio",
   "language": "python",
   "name": "python3"
  },
  "language_info": {
   "codemirror_mode": {
    "name": "ipython",
    "version": 3
   },
   "file_extension": ".py",
   "mimetype": "text/x-python",
   "name": "python",
   "nbconvert_exporter": "python",
   "pygments_lexer": "ipython3",
   "version": "3.9.18"
  }
 },
 "nbformat": 4,
 "nbformat_minor": 2
}
