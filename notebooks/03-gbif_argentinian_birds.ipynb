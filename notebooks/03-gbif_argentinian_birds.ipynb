{
 "cells": [
  {
   "cell_type": "code",
   "execution_count": 1,
   "metadata": {},
   "outputs": [],
   "source": [
    "import numpy as np\n",
    "\n",
    "# File management\n",
    "import os\n",
    "import requests\n",
    "import json\n",
    "import time\n",
    "import random\n",
    "\n",
    "# Audio processing\n",
    "import librosa as li\n",
    "from scipy import signal\n",
    "import soundfile as sf\n",
    "\n",
    "# Plotting\n",
    "from matplotlib import pyplot as plt"
   ]
  },
  {
   "cell_type": "markdown",
   "metadata": {},
   "source": [
    "### Download argentinian birds dataset from Xeno-Canto"
   ]
  },
  {
   "cell_type": "markdown",
   "metadata": {},
   "source": [
    "#### Query Xeno-Canto API and save response as JSON file."
   ]
  },
  {
   "cell_type": "code",
   "execution_count": 2,
   "metadata": {},
   "outputs": [],
   "source": [
    "dataset_location = '..\\\\datasets\\\\xeno-canto_argentina\\\\'\n",
    "\n",
    "# Query variables\n",
    "country = 'argentina'\n",
    "group = 'birds'\n",
    "length = '12-60'\n",
    "since = '2014-01-01'"
   ]
  },
  {
   "cell_type": "code",
   "execution_count": 3,
   "metadata": {},
   "outputs": [
    {
     "name": "stdout",
     "output_type": "stream",
     "text": [
      "• Query result: status-code 200\n",
      "• Found 3949 recordings in 8 pages.\n"
     ]
    }
   ],
   "source": [
    "url = \"https://xeno-canto.org/api/2/recordings?query=\"\n",
    "params = f\"cnt:{country}+grp:{group}+len:{length}+since:{since}\"\n",
    "\n",
    "response = requests.get(url + params)\n",
    "\n",
    "print(f'• Query result: status-code {response.status_code}')\n",
    "\n",
    "if response.status_code == 200:\n",
    "  data = response.json()\n",
    "  \n",
    "  n_rec = data['numRecordings']\n",
    "  pages = data['numPages']\n",
    "  print(f'• Found {n_rec} recordings in {pages} pages.')"
   ]
  },
  {
   "cell_type": "code",
   "execution_count": 4,
   "metadata": {},
   "outputs": [
    {
     "name": "stdout",
     "output_type": "stream",
     "text": [
      "• Saved page 1 as query_1.json\n",
      "• Saved page 2 as query_2.json\n",
      "• Saved page 3 as query_3.json\n",
      "• Saved page 4 as query_4.json\n",
      "• Saved page 5 as query_5.json\n",
      "• Saved page 6 as query_6.json\n",
      "• Saved page 7 as query_7.json\n",
      "• Saved page 8 as query_8.json\n"
     ]
    }
   ],
   "source": [
    "# Write json files for all pages\n",
    "for p in range(1, pages + 1):\n",
    "  response = requests.get(url + params + f'&page={p}')\n",
    "  data = response.json()\n",
    "  \n",
    "  filename = f\"query_{str(p)}.json\"\n",
    "  with open(dataset_location + filename, \"w\") as file:\n",
    "    json.dump(data, file, sort_keys=True, indent=4)\n",
    "    print(f'• Saved page {p} as {filename}')"
   ]
  },
  {
   "cell_type": "markdown",
   "metadata": {},
   "source": [
    "#### Download files to dataset audio folder."
   ]
  },
  {
   "cell_type": "markdown",
   "metadata": {},
   "source": [
    "Each category will be downloaded to their corresponding subfolder."
   ]
  },
  {
   "cell_type": "code",
   "execution_count": 4,
   "metadata": {},
   "outputs": [
    {
     "name": "stdout",
     "output_type": "stream",
     "text": [
      "Folder already existed.\n"
     ]
    }
   ],
   "source": [
    "# Create audio folder inside dataset.\n",
    "audio_location = dataset_location + 'unprocessed_audio_files\\\\'\n",
    "try:\n",
    "  os.mkdir(audio_location)\n",
    "  print(f'Created {audio_location}')\n",
    "except:\n",
    "  print('Folder already existed.')"
   ]
  },
  {
   "cell_type": "code",
   "execution_count": null,
   "metadata": {},
   "outputs": [],
   "source": [
    "for file in os.listdir(dataset_location):\n",
    "  if file.endswith('.json'):\n",
    "    \n",
    "    with open(dataset_location + file) as f:\n",
    "      data = json.load(f)\n",
    "      recordings = data['recordings']\n",
    "      print(f\"Downloading files from {file}...\")\n",
    "      \n",
    "      for r in recordings:\n",
    "        # Get metadata from json\n",
    "        id = r['id']\n",
    "        bird = r['en']\n",
    "        download = r['file']\n",
    "        ext = '.' + r['file-name'].split('.')[-1]\n",
    "        \n",
    "        # Create subfolder if not exists\n",
    "        subfolder = bird + '\\\\'\n",
    "        try:\n",
    "          os.mkdir(audio_location + subfolder)\n",
    "        except:  # noqa: E722\n",
    "          pass\n",
    "        \n",
    "        # Download file\n",
    "        with open(audio_location + subfolder + bird + '_' + id + ext, 'wb') as out_file:\n",
    "          content = requests.get(download, stream=True).content\n",
    "          out_file.write(content)\n",
    "          \n",
    "        # Wait required time between recordings (randomized)\n",
    "        time.sleep(random.uniform(1.01, 1.2))\n",
    "    \n",
    "    print(\"Done!\")\n",
    "  \n",
    "  # Wait some time between json pages (randomized)     \n",
    "  time.sleep(random.uniform(1, 5))"
   ]
  },
  {
   "cell_type": "markdown",
   "metadata": {},
   "source": [
    "### Preprocess audio dataset"
   ]
  },
  {
   "cell_type": "markdown",
   "metadata": {},
   "source": [
    "User defined constants."
   ]
  },
  {
   "cell_type": "code",
   "execution_count": 5,
   "metadata": {},
   "outputs": [],
   "source": [
    "# Target sample rate for resampling audio files\n",
    "SAMPLE_RATE = 16000\n",
    "\n",
    "# Target length for audio segments (in seconds)\n",
    "SAMPLE_LENGTH = 3"
   ]
  },
  {
   "cell_type": "markdown",
   "metadata": {},
   "source": [
    "#### Function definitions"
   ]
  },
  {
   "cell_type": "code",
   "execution_count": 6,
   "metadata": {},
   "outputs": [],
   "source": [
    "def butter_highpass(cutoff, fs, order=5):\n",
    "    nyq = 0.5 * fs\n",
    "    normal_cutoff = cutoff / nyq\n",
    "    b, a = signal.butter(order, normal_cutoff, btype='high', analog=False)\n",
    "    return b, a\n",
    "\n",
    "def apply_butter_highpass(data, cutoff, fs, order=5):\n",
    "    b, a = butter_highpass(cutoff, fs, order=order)\n",
    "    y = signal.filtfilt(b, a, data)\n",
    "    return y"
   ]
  },
  {
   "cell_type": "code",
   "execution_count": 16,
   "metadata": {},
   "outputs": [],
   "source": [
    "def remove_silence(signal, thresh=18, hop=2048, plot=False):\n",
    "  splits = li.effects.split(y=signal, top_db=thresh, frame_length=(hop * 2), hop_length=hop)\n",
    "  \n",
    "  # For fine-tuning purposes\n",
    "  if plot:\n",
    "    peak = np.max(signal)\n",
    "    plt.subplots(figsize=(12,4))\n",
    "    plt.plot(signal)\n",
    "    plt.vlines(splits, ymin=-peak, ymax=peak, color='red')\n",
    "    plt.show()\n",
    "  \n",
    "  stripped_audio = []\n",
    "  \n",
    "  for s in splits:\n",
    "    split = signal[s[0]:s[1]]\n",
    "    stripped_audio.extend(split)\n",
    "  \n",
    "  return np.asarray(stripped_audio)"
   ]
  },
  {
   "cell_type": "code",
   "execution_count": 17,
   "metadata": {},
   "outputs": [],
   "source": [
    "def split_audio(signal, target_length, samplerate, plot=False): # Target length must be in seconds\n",
    "  duration = li.get_duration(y=signal, sr=samplerate)\n",
    "  n_segments = np.ceil(duration / target_length)\n",
    "   \n",
    "  audio_segments = []\n",
    "  \n",
    "  for n in range(int(n_segments)):\n",
    "    s = signal[samplerate * n * target_length : samplerate * (n + 1) * target_length]\n",
    "    \n",
    "    if len(s) < target_length * samplerate:\n",
    "      s = np.pad(s, (0, target_length * samplerate - len(s)), 'constant')\n",
    "    \n",
    "    audio_segments.append(s)\n",
    "    \n",
    "    if plot:\n",
    "      plt.plot(s, alpha=1/n_segments)\n",
    "    \n",
    "  if plot:\n",
    "    plt.show()\n",
    "\n",
    "  return audio_segments"
   ]
  },
  {
   "cell_type": "markdown",
   "metadata": {},
   "source": [
    "#### Audio preprocessing"
   ]
  },
  {
   "cell_type": "markdown",
   "metadata": {},
   "source": [
    "- Load each file from all unprocessed audio subfolders. \n",
    "- Make an empty copy of the folder in the processed directory.\n",
    "- Apply high filter, strip noise sections and split into constant length segments.\n",
    "- Save shorter segments as new WAV files."
   ]
  },
  {
   "cell_type": "code",
   "execution_count": 18,
   "metadata": {},
   "outputs": [],
   "source": [
    "processed_location = dataset_location + 'processed_audio_files\\\\'\n",
    "subfolders = os.listdir(audio_location)\n",
    "\n",
    "# Make processed audio folder\n",
    "try:\n",
    "  os.mkdir(processed_location)\n",
    "except:  # noqa: E722\n",
    "  pass"
   ]
  },
  {
   "cell_type": "code",
   "execution_count": 19,
   "metadata": {},
   "outputs": [],
   "source": [
    "for sub in subfolders:\n",
    "  files = os.listdir(audio_location + sub)\n",
    "  \n",
    "  # Create same subfolder in processed folder\n",
    "  p_subfolder = processed_location + sub + '\\\\'\n",
    "  try:\n",
    "    os.mkdir(p_subfolder)\n",
    "  except:  # noqa: E722\n",
    "    pass\n",
    "  \n",
    "  for f in files:\n",
    "    # Load audio file from unprocessed folder\n",
    "    file_path = audio_location + sub + '\\\\' + f\n",
    "    y, sr = li.load(file_path, sr=SAMPLE_RATE, mono=True, res_type='soxr_lq')\n",
    "    \n",
    "    # Apply high-pass filter\n",
    "    y = apply_butter_highpass(data=y, cutoff=1000, fs=SAMPLE_RATE, order=6)\n",
    "    \n",
    "    # Delete silent sections\n",
    "    y = remove_silence(y, plot=False)\n",
    "    \n",
    "    # Split into segments of desired length\n",
    "    audio_segments = split_audio(y, target_length=SAMPLE_LENGTH, samplerate=SAMPLE_RATE)\n",
    "    \n",
    "    # Iterate through splitted audio segments and save each one as a separate .wav file\n",
    "    for i, segment in enumerate(audio_segments):\n",
    "      new_filename = f.split('.')[0] + '_' + str(i) + '.wav'\n",
    "      sf.write(p_subfolder + new_filename, segment, SAMPLE_RATE, subtype='PCM_16')"
   ]
  },
  {
   "cell_type": "markdown",
   "metadata": {},
   "source": [
    "### Testing"
   ]
  },
  {
   "cell_type": "code",
   "execution_count": 38,
   "metadata": {},
   "outputs": [
    {
     "data": {
      "image/png": "[encoded data removed]",
      "text/plain": [
       "<Figure size 1200x400 with 1 Axes>"
      ]
     },
     "metadata": {},
     "output_type": "display_data"
    },
    {
     "data": {
      "image/png": "[encoded data removed]",
      "text/plain": [
       "<Figure size 640x480 with 1 Axes>"
      ]
     },
     "metadata": {},
     "output_type": "display_data"
    }
   ],
   "source": [
    "path = r'C:\\Users\\matia\\Desktop\\ornithologist\\datasets\\xeno-canto_argentina\\unprocessed_audio_files\\Common Potoo\\Common Potoo_483746.mp3'\n",
    "y, sr = li.load(path, sr=16000, mono=True)\n",
    "\n",
    "splitted = remove_silence(y, thresh=18, hop=2048, plot=True)\n",
    "\n",
    "plt.figure()\n",
    "plt.plot(splitted)\n",
    "plt.show()"
   ]
  }
 ],
 "metadata": {
  "kernelspec": {
   "display_name": "tf_audio",
   "language": "python",
   "name": "python3"
  },
  "language_info": {
   "codemirror_mode": {
    "name": "ipython",
    "version": 3
   },
   "file_extension": ".py",
   "mimetype": "text/x-python",
   "name": "python",
   "nbconvert_exporter": "python",
   "pygments_lexer": "ipython3",
   "version": "3.9.18"
  }
 },
 "nbformat": 4,
 "nbformat_minor": 2
}
