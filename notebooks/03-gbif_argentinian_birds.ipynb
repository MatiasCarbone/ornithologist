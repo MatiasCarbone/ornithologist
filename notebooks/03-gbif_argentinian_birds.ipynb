{
 "cells": [
  {
   "cell_type": "code",
   "execution_count": 63,
   "metadata": {},
   "outputs": [],
   "source": [
    "import os\n",
    "import shutil\n",
    "import requests\n",
    "import json"
   ]
  },
  {
   "cell_type": "markdown",
   "metadata": {},
   "source": [
    "### Download Argentinian Passeriformes dataset from Xeno-Canto"
   ]
  },
  {
   "cell_type": "markdown",
   "metadata": {},
   "source": [
    "#### Query Xeno-Canto API and save response as JSON file."
   ]
  },
  {
   "cell_type": "code",
   "execution_count": 49,
   "metadata": {},
   "outputs": [
    {
     "name": "stdout",
     "output_type": "stream",
     "text": [
      "• Query result: status-code 200\n"
     ]
    }
   ],
   "source": [
    "dataset_location = '..\\\\datasets\\\\xeno-canto_argentina_passeriformes\\\\'\n",
    "\n",
    "response = requests.get(\"https://xeno-canto.org/api/2/recordings?query=cnt:brazil\")\n",
    "print(f'• Query result: status-code {response.status_code}')\n",
    "\n",
    "if response.status_code == 200:\n",
    "  data = response.json()\n",
    "  with open(dataset_location + \"query.json\", \"w\") as file:\n",
    "    json.dump(data, file, sort_keys=True, indent=4)"
   ]
  },
  {
   "cell_type": "markdown",
   "metadata": {},
   "source": [
    "#### Download files to dataset audio folder."
   ]
  },
  {
   "cell_type": "code",
   "execution_count": 67,
   "metadata": {},
   "outputs": [],
   "source": [
    "# Create audio folder or empty if already exists.\n",
    "audio_location = dataset_location + 'audio\\\\'\n",
    "try:\n",
    "  os.mkdir(audio_location)\n",
    "except:\n",
    "  shutil.rmtree(audio_location)\n",
    "  os.mkdir(audio_location)"
   ]
  },
  {
   "cell_type": "code",
   "execution_count": 69,
   "metadata": {},
   "outputs": [],
   "source": [
    "url = 'https://xeno-canto.org/186796/download'\n",
    "with open(audio_location + 'XC186796-Crypturellus_obsoletus_07_11_2013_Campus_Embrapa.mp3', 'wb') as out_file:\n",
    "  content = requests.get(url, stream=True).content\n",
    "  out_file.write(content)"
   ]
  }
 ],
 "metadata": {
  "kernelspec": {
   "display_name": "tf_audio",
   "language": "python",
   "name": "python3"
  },
  "language_info": {
   "codemirror_mode": {
    "name": "ipython",
    "version": 3
   },
   "file_extension": ".py",
   "mimetype": "text/x-python",
   "name": "python",
   "nbconvert_exporter": "python",
   "pygments_lexer": "ipython3",
   "version": "3.9.18"
  }
 },
 "nbformat": 4,
 "nbformat_minor": 2
}
